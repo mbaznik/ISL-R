{
 "cells": [
  {
   "cell_type": "code",
   "execution_count": 375,
   "metadata": {},
   "outputs": [],
   "source": [
    "# Chapter 9, Exercise 6\n",
    "# Packages/options:\n",
    "rm(list=ls())\n",
    "# For svm() function\n",
    "library(e1071)\n",
    "# Number of observations:\n",
    "num_obs      <- 10\n",
    "num_obs_test <- 1000\n",
    "# Bandwidth of 1st feature:\n",
    "abs_uni <- 10\n",
    "# Systemic separation to generate x2\n",
    "sys_sep <- 7\n",
    "# Noise standard deviation:\n",
    "nse_sd  <- 6"
   ]
  },
  {
   "cell_type": "code",
   "execution_count": 376,
   "metadata": {},
   "outputs": [
    {
     "data": {
      "text/html": [
       "<style>\n",
       ".list-inline {list-style: none; margin:0; padding: 0}\n",
       ".list-inline>li {display: inline-block}\n",
       ".list-inline>li:not(:last-child)::after {content: \"\\00b7\"; padding: 0 .5ex}\n",
       "</style>\n",
       "<ol class=list-inline><li>-4.689826737158</li><li>-2.5575220072642</li><li>1.45706726703793</li><li>8.16415579989552</li><li>-5.96636137925088</li></ol>\n"
      ],
      "text/latex": [
       "\\begin{enumerate*}\n",
       "\\item -4.689826737158\n",
       "\\item -2.5575220072642\n",
       "\\item 1.45706726703793\n",
       "\\item 8.16415579989552\n",
       "\\item -5.96636137925088\n",
       "\\end{enumerate*}\n"
      ],
      "text/markdown": [
       "1. -4.689826737158\n",
       "2. -2.5575220072642\n",
       "3. 1.45706726703793\n",
       "4. 8.16415579989552\n",
       "5. -5.96636137925088\n",
       "\n",
       "\n"
      ],
      "text/plain": [
       "[1] -4.689827 -2.557522  1.457067  8.164156 -5.966361"
      ]
     },
     "metadata": {},
     "output_type": "display_data"
    }
   ],
   "source": [
    "# Part a:\n",
    "# Generate a two-class data set with p=2 in a way that the two classes\n",
    "# are just linearly separable:\n",
    "set.seed(1)\n",
    "x1 <- runif(num_obs, min=-abs_uni, max=abs_uni)\n",
    "head(x1, 5)"
   ]
  },
  {
   "cell_type": "code",
   "execution_count": 377,
   "metadata": {},
   "outputs": [
    {
     "name": "stdout",
     "output_type": "stream",
     "text": [
      "[1] \"red\"  \"red\"  \"red\"  \"blue\" \"blue\"\n"
     ]
    }
   ],
   "source": [
    "# Arbitrarily set the first num_obs/2 values of the response variable\n",
    "# equal to red, the rest to blue:\n",
    "cols <- c(rep('red',num_obs/2), rep('blue',num_obs/2))\n",
    "# Inspect to see the switch:\n",
    "begin_view <- num_obs/2-2\n",
    "end_view   <- num_obs/2+2\n",
    "print(cols[begin_view:end_view])"
   ]
  },
  {
   "cell_type": "code",
   "execution_count": 378,
   "metadata": {},
   "outputs": [
    {
     "name": "stdout",
     "output_type": "stream",
     "text": [
      "[1]  1  1  1 -1 -1\n",
      "[1] -4.922810  2.924574  4.429948  3.454688 -1.832330  9.070687\n",
      "[1]  4.077190 11.924574 13.429948 12.454688  7.167670  4.070687\n"
     ]
    }
   ],
   "source": [
    "# I'd like the linear separation to be of the form x2=2,\n",
    "# plus or minus some noise.\n",
    "# Raise up red entries above the divider, allow blue to\n",
    "# sink down below:\n",
    "col_ind <- ifelse(cols=='red', 1, -1)\n",
    "print(col_ind[begin_view:end_view])\n",
    "noise     <- rnorm(num_obs, mean=0, sd=nse_sd)\n",
    "print(head(noise))\n",
    "x2        <- (2+col_ind*sys_sep+noise)\n",
    "print(head(x2))"
   ]
  },
  {
   "cell_type": "code",
   "execution_count": 379,
   "metadata": {},
   "outputs": [
    {
     "data": {
      "text/html": [
       "<table>\n",
       "<caption>A data.frame: 6 × 3</caption>\n",
       "<thead>\n",
       "\t<tr><th></th><th scope=col>cols</th><th scope=col>x1</th><th scope=col>x2</th></tr>\n",
       "\t<tr><th></th><th scope=col>&lt;fct&gt;</th><th scope=col>&lt;dbl&gt;</th><th scope=col>&lt;dbl&gt;</th></tr>\n",
       "</thead>\n",
       "<tbody>\n",
       "\t<tr><th scope=row>1</th><td>red </td><td>-4.689827</td><td> 4.077190</td></tr>\n",
       "\t<tr><th scope=row>2</th><td>red </td><td>-2.557522</td><td>11.924574</td></tr>\n",
       "\t<tr><th scope=row>3</th><td>red </td><td> 1.457067</td><td>13.429948</td></tr>\n",
       "\t<tr><th scope=row>4</th><td>red </td><td> 8.164156</td><td>12.454688</td></tr>\n",
       "\t<tr><th scope=row>5</th><td>red </td><td>-5.966361</td><td> 7.167670</td></tr>\n",
       "\t<tr><th scope=row>6</th><td>blue</td><td> 7.967794</td><td> 4.070687</td></tr>\n",
       "</tbody>\n",
       "</table>\n"
      ],
      "text/latex": [
       "A data.frame: 6 × 3\n",
       "\\begin{tabular}{r|lll}\n",
       "  & cols & x1 & x2\\\\\n",
       "  & <fct> & <dbl> & <dbl>\\\\\n",
       "\\hline\n",
       "\t1 & red  & -4.689827 &  4.077190\\\\\n",
       "\t2 & red  & -2.557522 & 11.924574\\\\\n",
       "\t3 & red  &  1.457067 & 13.429948\\\\\n",
       "\t4 & red  &  8.164156 & 12.454688\\\\\n",
       "\t5 & red  & -5.966361 &  7.167670\\\\\n",
       "\t6 & blue &  7.967794 &  4.070687\\\\\n",
       "\\end{tabular}\n"
      ],
      "text/markdown": [
       "\n",
       "A data.frame: 6 × 3\n",
       "\n",
       "| <!--/--> | cols &lt;fct&gt; | x1 &lt;dbl&gt; | x2 &lt;dbl&gt; |\n",
       "|---|---|---|---|\n",
       "| 1 | red  | -4.689827 |  4.077190 |\n",
       "| 2 | red  | -2.557522 | 11.924574 |\n",
       "| 3 | red  |  1.457067 | 13.429948 |\n",
       "| 4 | red  |  8.164156 | 12.454688 |\n",
       "| 5 | red  | -5.966361 |  7.167670 |\n",
       "| 6 | blue |  7.967794 |  4.070687 |\n",
       "\n"
      ],
      "text/plain": [
       "  cols x1        x2       \n",
       "1 red  -4.689827  4.077190\n",
       "2 red  -2.557522 11.924574\n",
       "3 red   1.457067 13.429948\n",
       "4 red   8.164156 12.454688\n",
       "5 red  -5.966361  7.167670\n",
       "6 blue  7.967794  4.070687"
      ]
     },
     "metadata": {},
     "output_type": "display_data"
    }
   ],
   "source": [
    "twoclass_df <- data.frame(cols, x1, x2)\n",
    "head(twoclass_df)"
   ]
  },
  {
   "cell_type": "code",
   "execution_count": 380,
   "metadata": {},
   "outputs": [
    {
     "name": "stderr",
     "output_type": "stream",
     "text": [
      "The following objects are masked _by_ .GlobalEnv:\n",
      "\n",
      "    cols, x1, x2\n",
      "\n",
      "\n"
     ]
    },
    {
     "data": {
      "image/png": "[encoded data removed]",
      "text/plain": [
       "plot without title"
      ]
     },
     "metadata": {
      "image/png": {
       "height": 420,
       "width": 420
      },
      "text/plain": {
       "height": 420,
       "width": 420
      }
     },
     "output_type": "display_data"
    }
   ],
   "source": [
    "# Plot:\n",
    "attach(twoclass_df); \n",
    "plot(twoclass_df$x1, twoclass_df$x2, col=c(\"blue\",\"red\")[twoclass_df$cols],\n",
    "    xlab=\"x1\", ylab=\"x2\") \n",
    "detach(twoclass_df)\n",
    "# There is clearly a visible separation between the two classes."
   ]
  },
  {
   "cell_type": "code",
   "execution_count": 381,
   "metadata": {},
   "outputs": [
    {
     "name": "stdout",
     "output_type": "stream",
     "text": [
      "  cols        x1        x2  y\n",
      "1  red -4.689827  4.077190  1\n",
      "2  red -2.557522 11.924574  1\n",
      "3  red  1.457067 13.429948  1\n",
      "4  red  8.164156 12.454688  1\n",
      "5  red -5.966361  7.167670  1\n",
      "6 blue  7.967794  4.070687 -1\n",
      "         x1        x2  y\n",
      "1 -4.689827  4.077190  1\n",
      "2 -2.557522 11.924574  1\n",
      "3  1.457067 13.429948  1\n",
      "4  8.164156 12.454688  1\n",
      "5 -5.966361  7.167670  1\n",
      "6  7.967794  4.070687 -1\n"
     ]
    }
   ],
   "source": [
    "# Code Red==1, Blue==-1\n",
    "twoclass_df$y  <- as.factor(ifelse(twoclass_df$cols==\"red\", 1, -1))\n",
    "print(head(twoclass_df))\n",
    "twoclass_clean <- twoclass_df[,-c(1)]\n",
    "print(head(twoclass_clean))"
   ]
  },
  {
   "cell_type": "code",
   "execution_count": 382,
   "metadata": {},
   "outputs": [
    {
     "data": {
      "text/plain": [
       "    \n",
       "     -1 1\n",
       "  -1  5 0\n",
       "  1   0 5"
      ]
     },
     "metadata": {},
     "output_type": "display_data"
    }
   ],
   "source": [
    "# Verify that these two classes are indeed linearly separable\n",
    "# by training a SVC with a very high value of cost.\n",
    "svmfit   <- svm(y~., data=twoclass_clean, kernel=\"linear\", cost=10000)\n",
    "# ls(svmfit)\n",
    "table(svmfit$fitted, twoclass_clean$y)\n",
    "# Clearly, the above SVC predicts all obs correctly on the train data, and thus\n",
    "# this two feature, two class data is linearly separable."
   ]
  },
  {
   "cell_type": "code",
   "execution_count": 383,
   "metadata": {},
   "outputs": [
    {
     "data": {
      "text/plain": [
       "\n",
       "Parameter tuning of 'svm':\n",
       "\n",
       "- sampling method: leave-one-out \n",
       "\n",
       "- best parameters:\n",
       " cost\n",
       "   10\n",
       "\n",
       "- best performance: 0.3 \n",
       "\n",
       "- Detailed performance results:\n",
       "   cost error dispersion\n",
       "1 1e-03   1.0  0.0000000\n",
       "2 1e-02   1.0  0.0000000\n",
       "3 1e-01   0.5  0.5270463\n",
       "4 1e+01   0.3  0.4830459\n",
       "5 1e+02   0.3  0.4830459\n"
      ]
     },
     "metadata": {},
     "output_type": "display_data"
    }
   ],
   "source": [
    "# Part b:\n",
    "# Compute CV error rates for SVCs with different values of the cost parm:\n",
    "set.seed(1)\n",
    "tune.out <- tune(svm, y~., data=twoclass_clean, kernel=\"linear\", \n",
    "                 ranges=list(cost=c(0.001, 0.01, 0.1, 10, 100)))\n",
    "summary(tune.out)\n",
    "# ls(tune.out)"
   ]
  },
  {
   "cell_type": "code",
   "execution_count": 384,
   "metadata": {},
   "outputs": [
    {
     "name": "stdout",
     "output_type": "stream",
     "text": [
      "[1] 2 2 2 1 0\n",
      "[1] 0.2 0.2 0.2 0.1 0.0\n"
     ]
    }
   ],
   "source": [
    "# Compute train errors for each value of cost:\n",
    "cost_vec <- c(0.001, 0.01, 0.1, 10, 100)\n",
    "misclass <- rep(0, length(cost_vec))\n",
    "set.seed(1)\n",
    "for (i in 1:length(cost_vec))\n",
    "{\n",
    "    svmfit_temp <- svm(y~., data=twoclass_clean, kernel=\"linear\", cost=cost_vec[i])\n",
    "    conf_matrix <- table(svmfit_temp$fitted, twoclass_clean$y)\n",
    "    misclass[i] <- (conf_matrix[2,1]+conf_matrix[1,2])\n",
    "    \n",
    "}\n",
    "misclass_rt <- misclass/nrow(twoclass_clean)\n",
    "print(misclass)\n",
    "print(misclass_rt)"
   ]
  },
  {
   "cell_type": "code",
   "execution_count": 385,
   "metadata": {},
   "outputs": [
    {
     "data": {
      "image/png": "[encoded data removed]",
      "text/plain": [
       "plot without title"
      ]
     },
     "metadata": {
      "image/png": {
       "height": 420,
       "width": 420
      },
      "text/plain": {
       "height": 420,
       "width": 420
      }
     },
     "output_type": "display_data"
    }
   ],
   "source": [
    "# The number of train errors obtained for each value of cost is above.\n",
    "# This roughly aligns with the CV indications: namely both train error and CV indicate\n",
    "# that a higher value of the cost parm is better.\n",
    "cost_vec_log10 <- log10(cost_vec)\n",
    "plot(cost_vec_log10, tune.out$performances[,2], xlab=\"log10 of cost_vec\",\n",
    "    ylab=\"Error\", pch=19, type=\"b\", ylim=c(0,1), col=\"red\")\n",
    "lines(cost_vec_log10, misclass_rt, pch=18, type=\"b\", col=\"blue\")\n",
    "legend(\"topright\", legend=c(\"CV_Error\", \"Train_Error\"), col=c(\"red\", \"blue\"), lty=1:2, cex=1.2)"
   ]
  },
  {
   "cell_type": "code",
   "execution_count": 386,
   "metadata": {},
   "outputs": [
    {
     "name": "stdout",
     "output_type": "stream",
     "text": [
      "[1]  4.077190 11.924574 13.429948 12.454688  7.167670  4.070687\n"
     ]
    }
   ],
   "source": [
    "# Part c:\n",
    "# Generate an appropriate test data set:\n",
    "set.seed(2)\n",
    "# Define x1:\n",
    "x1 <- runif(num_obs_test, min=-abs_uni, max=abs_uni)\n",
    "# Define y:\n",
    "test_cols <- c(rep('red',num_obs_test/2), rep('blue',num_obs_test/2))\n",
    "# Define x2:\n",
    "test_col_ind <- ifelse(test_cols=='red', 1, -1)\n",
    "test_noise   <- rnorm(num_obs_test, mean=0, sd=nse_sd)\n",
    "x2        <- (2+col_ind*sys_sep+noise)\n",
    "print(head(x2))"
   ]
  },
  {
   "cell_type": "code",
   "execution_count": 387,
   "metadata": {},
   "outputs": [
    {
     "data": {
      "text/html": [
       "<table>\n",
       "<caption>A data.frame: 6 × 3</caption>\n",
       "<thead>\n",
       "\t<tr><th></th><th scope=col>test_cols</th><th scope=col>x1</th><th scope=col>x2</th></tr>\n",
       "\t<tr><th></th><th scope=col>&lt;fct&gt;</th><th scope=col>&lt;dbl&gt;</th><th scope=col>&lt;dbl&gt;</th></tr>\n",
       "</thead>\n",
       "<tbody>\n",
       "\t<tr><th scope=row>1</th><td>red</td><td>-6.302355</td><td> 4.077190</td></tr>\n",
       "\t<tr><th scope=row>2</th><td>red</td><td> 4.047481</td><td>11.924574</td></tr>\n",
       "\t<tr><th scope=row>3</th><td>red</td><td> 1.466527</td><td>13.429948</td></tr>\n",
       "\t<tr><th scope=row>4</th><td>red</td><td>-6.638962</td><td>12.454688</td></tr>\n",
       "\t<tr><th scope=row>5</th><td>red</td><td> 8.876787</td><td> 7.167670</td></tr>\n",
       "\t<tr><th scope=row>6</th><td>red</td><td> 8.869499</td><td> 4.070687</td></tr>\n",
       "</tbody>\n",
       "</table>\n"
      ],
      "text/latex": [
       "A data.frame: 6 × 3\n",
       "\\begin{tabular}{r|lll}\n",
       "  & test\\_cols & x1 & x2\\\\\n",
       "  & <fct> & <dbl> & <dbl>\\\\\n",
       "\\hline\n",
       "\t1 & red & -6.302355 &  4.077190\\\\\n",
       "\t2 & red &  4.047481 & 11.924574\\\\\n",
       "\t3 & red &  1.466527 & 13.429948\\\\\n",
       "\t4 & red & -6.638962 & 12.454688\\\\\n",
       "\t5 & red &  8.876787 &  7.167670\\\\\n",
       "\t6 & red &  8.869499 &  4.070687\\\\\n",
       "\\end{tabular}\n"
      ],
      "text/markdown": [
       "\n",
       "A data.frame: 6 × 3\n",
       "\n",
       "| <!--/--> | test_cols &lt;fct&gt; | x1 &lt;dbl&gt; | x2 &lt;dbl&gt; |\n",
       "|---|---|---|---|\n",
       "| 1 | red | -6.302355 |  4.077190 |\n",
       "| 2 | red |  4.047481 | 11.924574 |\n",
       "| 3 | red |  1.466527 | 13.429948 |\n",
       "| 4 | red | -6.638962 | 12.454688 |\n",
       "| 5 | red |  8.876787 |  7.167670 |\n",
       "| 6 | red |  8.869499 |  4.070687 |\n",
       "\n"
      ],
      "text/plain": [
       "  test_cols x1        x2       \n",
       "1 red       -6.302355  4.077190\n",
       "2 red        4.047481 11.924574\n",
       "3 red        1.466527 13.429948\n",
       "4 red       -6.638962 12.454688\n",
       "5 red        8.876787  7.167670\n",
       "6 red        8.869499  4.070687"
      ]
     },
     "metadata": {},
     "output_type": "display_data"
    },
    {
     "name": "stdout",
     "output_type": "stream",
     "text": [
      "  test_cols        x1        x2 y\n",
      "1       red -6.302355  4.077190 1\n",
      "2       red  4.047481 11.924574 1\n",
      "3       red  1.466527 13.429948 1\n",
      "4       red -6.638962 12.454688 1\n",
      "5       red  8.876787  7.167670 1\n",
      "6       red  8.869499  4.070687 1\n",
      "         x1        x2 y\n",
      "1 -6.302355  4.077190 1\n",
      "2  4.047481 11.924574 1\n",
      "3  1.466527 13.429948 1\n",
      "4 -6.638962 12.454688 1\n",
      "5  8.876787  7.167670 1\n",
      "6  8.869499  4.070687 1\n"
     ]
    },
    {
     "data": {
      "text/html": [
       "1000"
      ],
      "text/latex": [
       "1000"
      ],
      "text/markdown": [
       "1000"
      ],
      "text/plain": [
       "[1] 1000"
      ]
     },
     "metadata": {},
     "output_type": "display_data"
    }
   ],
   "source": [
    "twoclass_df_test <- data.frame(test_cols, x1, x2)\n",
    "head(twoclass_df_test)\n",
    "twoclass_df_test$y  <- as.factor(ifelse(twoclass_df_test$test_cols==\"red\", 1, -1))\n",
    "print(head(twoclass_df_test))\n",
    "twoclass_clean_test <- twoclass_df_test[,-c(1)]\n",
    "print(head(twoclass_clean_test))\n",
    "nrow(twoclass_clean_test)"
   ]
  },
  {
   "cell_type": "code",
   "execution_count": 388,
   "metadata": {},
   "outputs": [
    {
     "name": "stdout",
     "output_type": "stream",
     "text": [
      "[1] 0.496 0.496 0.497 0.497 0.515\n"
     ]
    }
   ],
   "source": [
    "# Compute test errors for each value of cost:\n",
    "misclass_test <- rep(0, length(cost_vec))\n",
    "set.seed(1)\n",
    "for (i in 1:length(cost_vec))\n",
    "{\n",
    "    svmfit_temp <- svm(y~., data=twoclass_clean, kernel=\"linear\", cost=cost_vec[i])\n",
    "    preds_temp  <- predict(svmfit_temp, newdata=twoclass_clean_test)\n",
    "    conf_matrix_test <- table(preds_temp, twoclass_clean_test$y)\n",
    "    misclass_test[i] <- (conf_matrix_test[2,1]+conf_matrix_test[1,2])\n",
    "    \n",
    "}\n",
    "misclass_test_rt <- misclass_test/nrow(twoclass_clean_test)\n",
    "print(head(misclass_test_rt))"
   ]
  },
  {
   "cell_type": "code",
   "execution_count": 389,
   "metadata": {},
   "outputs": [],
   "source": [
    "# Clearly cost values of 10^-3 and 10^-2 yield the lowest error rate on a test set.\n",
    "# This disagrees with the indication from CV on training set (which indicated 10^1 and 10^2),\n",
    "# and also disagrees with the indication from the training error set which indicated 10^2."
   ]
  },
  {
   "cell_type": "code",
   "execution_count": 390,
   "metadata": {},
   "outputs": [],
   "source": [
    "# Part d:\n",
    "# Clearly, I have constructed an artificial data set that satisfies the goal of this question.\n",
    "# I constructed a DGP of the form x2=2, with both a systemic separation of +/- 7 based on \n",
    "# the color, and some normally-distributed noise.  The optimal decison boundary should be \n",
    "# described by 1 parm: the mean of 2.\n",
    "# With so few obs, the SVC's estimation will be very imprecise, and thus intuitively we should \n",
    "# lean towards simpler models with more bias and less variance, since variance is such a huge \n",
    "# concern here. Not surprisingly, since we required that the training data be linearly separable, \n",
    "# SVCs with very high values of the cost parameter are able to perfectly separate the two classes \n",
    "# (with significant overfitting), and are indicated as optimal by both the train data (which \n",
    "# doesn't say much) and CV (which is of limited use in this case, with limited data).\n",
    "# However, SVCs with low values of the cost parm choose simpler models and tolerate a few \n",
    "# misclassified values of the training data, and while performing worse on training error and CV on \n",
    "# training data, produce lower test error rates as their parsimony pays off in the long run, \n",
    "# which is what the problem seeks to show."
   ]
  }
 ],
 "metadata": {
  "kernelspec": {
   "display_name": "R",
   "language": "R",
   "name": "ir"
  },
  "language_info": {
   "codemirror_mode": "r",
   "file_extension": ".r",
   "mimetype": "text/x-r-source",
   "name": "R",
   "pygments_lexer": "r",
   "version": "3.5.1"
  }
 },
 "nbformat": 4,
 "nbformat_minor": 2
}
