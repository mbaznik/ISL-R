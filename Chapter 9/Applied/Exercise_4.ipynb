{
 "cells": [
  {
   "cell_type": "code",
   "execution_count": 26,
   "metadata": {},
   "outputs": [],
   "source": [
    "# Chapter 9, Exercise 4\n",
    "# Packages/options:\n",
    "rm(list=ls())\n",
    "library(e1071)\n",
    "# For svm() function\n",
    "library(ROCR)\n",
    "# For ROC plots.\n",
    "# Number of observations:\n",
    "num_obs <- 100\n",
    "abs_uni <- 10\n",
    "# Systemic separation to generate x2\n",
    "sys_sep <- 20\n",
    "# Approximate percent in training set:\n",
    "trn_per <- 0.7"
   ]
  },
  {
   "cell_type": "code",
   "execution_count": 27,
   "metadata": {},
   "outputs": [
    {
     "data": {
      "text/html": [
       "<style>\n",
       ".list-inline {list-style: none; margin:0; padding: 0}\n",
       ".list-inline>li {display: inline-block}\n",
       ".list-inline>li:not(:last-child)::after {content: \"\\00b7\"; padding: 0 .5ex}\n",
       "</style>\n",
       "<ol class=list-inline><li>-4.689826737158</li><li>-2.5575220072642</li><li>1.45706726703793</li><li>8.16415579989552</li><li>-5.96636137925088</li></ol>\n"
      ],
      "text/latex": [
       "\\begin{enumerate*}\n",
       "\\item -4.689826737158\n",
       "\\item -2.5575220072642\n",
       "\\item 1.45706726703793\n",
       "\\item 8.16415579989552\n",
       "\\item -5.96636137925088\n",
       "\\end{enumerate*}\n"
      ],
      "text/markdown": [
       "1. -4.689826737158\n",
       "2. -2.5575220072642\n",
       "3. 1.45706726703793\n",
       "4. 8.16415579989552\n",
       "5. -5.96636137925088\n",
       "\n",
       "\n"
      ],
      "text/plain": [
       "[1] -4.689827 -2.557522  1.457067  8.164156 -5.966361"
      ]
     },
     "metadata": {},
     "output_type": "display_data"
    }
   ],
   "source": [
    "# Generate a simulated 2-class dataset with 100 obs.\n",
    "# Generate x1 as uniform deviates from uniform distribution:\n",
    "set.seed(1)\n",
    "x1 <- runif(num_obs, min=-abs_uni, max=abs_uni)\n",
    "head(x1, 5)"
   ]
  },
  {
   "cell_type": "code",
   "execution_count": 28,
   "metadata": {},
   "outputs": [
    {
     "name": "stdout",
     "output_type": "stream",
     "text": [
      "[1] \"red\"  \"red\"  \"red\"  \"blue\" \"blue\"\n"
     ]
    }
   ],
   "source": [
    "# Arbitrarily set the first 50 values of the response variable\n",
    "# equal to red, the rest to blue:\n",
    "cols <- c(rep('red',num_obs/2), rep('blue',num_obs/2))\n",
    "# Let's inspect obs numbers 48-52 to see the switch:\n",
    "begin_view <- num_obs/2-2\n",
    "end_view   <- num_obs/2+2\n",
    "print(cols[begin_view:end_view])"
   ]
  },
  {
   "cell_type": "code",
   "execution_count": 29,
   "metadata": {},
   "outputs": [
    {
     "name": "stdout",
     "output_type": "stream",
     "text": [
      "[1]  1  1  1 -1 -1\n",
      "[1]  1.194318 -1.836079  1.023359 -3.388089  4.299071  5.941200\n",
      "[1] 43.18879 24.70484 23.14640 83.26535 59.89654 89.42694\n"
     ]
    }
   ],
   "source": [
    "# I'd like the nonlinear separation to be of the form y=x^2,\n",
    "# plus or minus some noise.\n",
    "# Raise up red entries above the divider, allow blue to\n",
    "# sink down below:\n",
    "col_ind <- ifelse(cols=='red', 1, -1)\n",
    "print(col_ind[begin_view:end_view])\n",
    "noise     <- rnorm(num_obs, mean=0, sd=3)\n",
    "print(head(noise))\n",
    "x2        <- (x1^2+col_ind*sys_sep+noise)\n",
    "print(head(x2))"
   ]
  },
  {
   "cell_type": "code",
   "execution_count": 30,
   "metadata": {},
   "outputs": [
    {
     "data": {
      "text/html": [
       "<table>\n",
       "<caption>A data.frame: 6 × 3</caption>\n",
       "<thead>\n",
       "\t<tr><th></th><th scope=col>cols</th><th scope=col>x1</th><th scope=col>x2</th></tr>\n",
       "\t<tr><th></th><th scope=col>&lt;fct&gt;</th><th scope=col>&lt;dbl&gt;</th><th scope=col>&lt;dbl&gt;</th></tr>\n",
       "</thead>\n",
       "<tbody>\n",
       "\t<tr><th scope=row>1</th><td>red</td><td>-4.689827</td><td>43.18879</td></tr>\n",
       "\t<tr><th scope=row>2</th><td>red</td><td>-2.557522</td><td>24.70484</td></tr>\n",
       "\t<tr><th scope=row>3</th><td>red</td><td> 1.457067</td><td>23.14640</td></tr>\n",
       "\t<tr><th scope=row>4</th><td>red</td><td> 8.164156</td><td>83.26535</td></tr>\n",
       "\t<tr><th scope=row>5</th><td>red</td><td>-5.966361</td><td>59.89654</td></tr>\n",
       "\t<tr><th scope=row>6</th><td>red</td><td> 7.967794</td><td>89.42694</td></tr>\n",
       "</tbody>\n",
       "</table>\n"
      ],
      "text/latex": [
       "A data.frame: 6 × 3\n",
       "\\begin{tabular}{r|lll}\n",
       "  & cols & x1 & x2\\\\\n",
       "  & <fct> & <dbl> & <dbl>\\\\\n",
       "\\hline\n",
       "\t1 & red & -4.689827 & 43.18879\\\\\n",
       "\t2 & red & -2.557522 & 24.70484\\\\\n",
       "\t3 & red &  1.457067 & 23.14640\\\\\n",
       "\t4 & red &  8.164156 & 83.26535\\\\\n",
       "\t5 & red & -5.966361 & 59.89654\\\\\n",
       "\t6 & red &  7.967794 & 89.42694\\\\\n",
       "\\end{tabular}\n"
      ],
      "text/markdown": [
       "\n",
       "A data.frame: 6 × 3\n",
       "\n",
       "| <!--/--> | cols &lt;fct&gt; | x1 &lt;dbl&gt; | x2 &lt;dbl&gt; |\n",
       "|---|---|---|---|\n",
       "| 1 | red | -4.689827 | 43.18879 |\n",
       "| 2 | red | -2.557522 | 24.70484 |\n",
       "| 3 | red |  1.457067 | 23.14640 |\n",
       "| 4 | red |  8.164156 | 83.26535 |\n",
       "| 5 | red | -5.966361 | 59.89654 |\n",
       "| 6 | red |  7.967794 | 89.42694 |\n",
       "\n"
      ],
      "text/plain": [
       "  cols x1        x2      \n",
       "1 red  -4.689827 43.18879\n",
       "2 red  -2.557522 24.70484\n",
       "3 red   1.457067 23.14640\n",
       "4 red   8.164156 83.26535\n",
       "5 red  -5.966361 59.89654\n",
       "6 red   7.967794 89.42694"
      ]
     },
     "metadata": {},
     "output_type": "display_data"
    }
   ],
   "source": [
    "# Combine into df:\n",
    "twoclass_df <- data.frame(cols, x1, x2)\n",
    "head(twoclass_df)"
   ]
  },
  {
   "cell_type": "code",
   "execution_count": 31,
   "metadata": {},
   "outputs": [
    {
     "name": "stderr",
     "output_type": "stream",
     "text": [
      "The following objects are masked _by_ .GlobalEnv:\n",
      "\n",
      "    cols, x1, x2\n",
      "\n",
      "\n"
     ]
    },
    {
     "data": {
      "image/png": "[encoded data removed]",
      "text/plain": [
       "plot without title"
      ]
     },
     "metadata": {
      "image/png": {
       "height": 420,
       "width": 420
      },
      "text/plain": {
       "height": 420,
       "width": 420
      }
     },
     "output_type": "display_data"
    }
   ],
   "source": [
    "# Plot:\n",
    "attach(twoclass_df); \n",
    "plot(twoclass_df$x1, twoclass_df$x2, col=c(\"blue\",\"red\")[twoclass_df$cols],\n",
    "    xlab=\"x1\", ylab=\"x2\") \n",
    "detach(twoclass_df)\n",
    "# There is clearly a visible, but nonlinear, separation\n",
    "# between the two classes."
   ]
  },
  {
   "cell_type": "code",
   "execution_count": 32,
   "metadata": {},
   "outputs": [
    {
     "name": "stdout",
     "output_type": "stream",
     "text": [
      "  cols        x1       x2 y\n",
      "1  red -4.689827 43.18879 1\n",
      "2  red -2.557522 24.70484 1\n",
      "3  red  1.457067 23.14640 1\n",
      "4  red  8.164156 83.26535 1\n",
      "5  red -5.966361 59.89654 1\n",
      "6  red  7.967794 89.42694 1\n",
      "         x1       x2 y\n",
      "1 -4.689827 43.18879 1\n",
      "2 -2.557522 24.70484 1\n",
      "3  1.457067 23.14640 1\n",
      "4  8.164156 83.26535 1\n",
      "5 -5.966361 59.89654 1\n",
      "6  7.967794 89.42694 1\n"
     ]
    }
   ],
   "source": [
    "# Code Red==1, Blue==-1\n",
    "twoclass_df$y  <- as.factor(ifelse(twoclass_df$col==\"red\", 1, -1))\n",
    "print(head(twoclass_df))\n",
    "twoclass_clean <- twoclass_df[,-c(1)]\n",
    "print(head(twoclass_clean))"
   ]
  },
  {
   "cell_type": "code",
   "execution_count": 33,
   "metadata": {},
   "outputs": [
    {
     "name": "stdout",
     "output_type": "stream",
     "text": [
      "[1] 70\n",
      "[1] 30\n",
      "          x1         x2  y\n",
      "27 -9.732193 113.385712  1\n",
      "37  5.884797  57.820138  1\n",
      "57 -3.674566  -4.347443 -1\n",
      "89 -5.090230   3.954154 -1\n",
      "20  5.548904  57.308175  1\n",
      "86 -5.946155  10.747409 -1\n"
     ]
    }
   ],
   "source": [
    "# Split into train/test:\n",
    "set.seed(1)\n",
    "index <- sample(1:nrow(twoclass_clean), \n",
    "                      floor(trn_per*nrow(twoclass_clean)), replace=F)\n",
    "train <- twoclass_clean[index,]\n",
    "test  <- twoclass_clean[-index,]\n",
    "print(nrow(train)); print(nrow(test))\n",
    "print(head(train))"
   ]
  },
  {
   "cell_type": "code",
   "execution_count": 34,
   "metadata": {},
   "outputs": [
    {
     "name": "stdout",
     "output_type": "stream",
     "text": [
      "\n",
      "-1  1 \n",
      "19 11 \n",
      "\n",
      "-1  1 \n",
      "31 39 \n"
     ]
    }
   ],
   "source": [
    "# Ensure test and train composition roughly similar:\n",
    "print(table(test$y)); print(table(train$y))"
   ]
  },
  {
   "cell_type": "code",
   "execution_count": 35,
   "metadata": {},
   "outputs": [
    {
     "data": {
      "image/png": "[encoded data removed]",
      "text/plain": [
       "plot without title"
      ]
     },
     "metadata": {
      "image/png": {
       "height": 420,
       "width": 420
      },
      "text/plain": {
       "height": 420,
       "width": 420
      }
     },
     "output_type": "display_data"
    }
   ],
   "source": [
    "# Plot the training data:\n",
    "# head(train)\n",
    "plot(train$x1, train$x2, col=c(\"blue\",\"red\")[train$y]) "
   ]
  },
  {
   "cell_type": "code",
   "execution_count": 36,
   "metadata": {},
   "outputs": [
    {
     "data": {
      "text/plain": [
       "\n",
       "Call:\n",
       "svm(formula = y ~ ., data = train, kernel = \"linear\", cost = 10, \n",
       "    scale = FALSE)\n",
       "\n",
       "\n",
       "Parameters:\n",
       "   SVM-Type:  C-classification \n",
       " SVM-Kernel:  linear \n",
       "       cost:  10 \n",
       "      gamma:  0.5 \n",
       "\n",
       "Number of Support Vectors:  25\n",
       "\n",
       " ( 13 12 )\n",
       "\n",
       "\n",
       "Number of Classes:  2 \n",
       "\n",
       "Levels: \n",
       " -1 1\n",
       "\n",
       "\n"
      ]
     },
     "metadata": {},
     "output_type": "display_data"
    }
   ],
   "source": [
    "# Train a SV classifier:\n",
    "svmfit <- svm(y~., data=train, kernel=\"linear\", cost=10, scale=FALSE)\n",
    "summary(svmfit)"
   ]
  },
  {
   "cell_type": "code",
   "execution_count": 37,
   "metadata": {},
   "outputs": [
    {
     "data": {
      "text/plain": [
       "\n",
       "Parameter tuning of 'svm':\n",
       "\n",
       "- sampling method: 10-fold cross validation \n",
       "\n",
       "- best parameters:\n",
       " cost\n",
       "  0.1\n",
       "\n",
       "- best performance: 0.08571429 \n",
       "\n",
       "- Detailed performance results:\n",
       "   cost      error dispersion\n",
       "1 1e-03 0.44285714 0.20701967\n",
       "2 1e-01 0.08571429 0.09988656\n",
       "3 1e+01 0.10000000 0.11761037\n",
       "4 1e+02 0.10000000 0.11761037\n",
       "5 1e+03 0.10000000 0.11761037\n",
       "6 1e+04 0.10000000 0.11761037\n"
      ]
     },
     "metadata": {},
     "output_type": "display_data"
    }
   ],
   "source": [
    "# Tune this SV Classifier:\n",
    "set.seed(1)\n",
    "tune.out <- tune(svm, y~., data=train, kernel=\"linear\", \n",
    "                 ranges=list(cost=c(0.001, 0.1, 10, 100, 1000, 10000)))\n",
    "summary(tune.out)"
   ]
  },
  {
   "cell_type": "code",
   "execution_count": 38,
   "metadata": {},
   "outputs": [
    {
     "data": {
      "text/plain": [
       "\n",
       "Call:\n",
       "best.tune(method = svm, train.x = y ~ ., data = train, ranges = list(cost = c(0.001, \n",
       "    0.1, 10, 100, 1000, 10000)), kernel = \"linear\")\n",
       "\n",
       "\n",
       "Parameters:\n",
       "   SVM-Type:  C-classification \n",
       " SVM-Kernel:  linear \n",
       "       cost:  0.1 \n",
       "      gamma:  0.5 \n",
       "\n",
       "Number of Support Vectors:  44\n",
       "\n",
       " ( 22 22 )\n",
       "\n",
       "\n",
       "Number of Classes:  2 \n",
       "\n",
       "Levels: \n",
       " -1 1\n",
       "\n",
       "\n"
      ]
     },
     "metadata": {},
     "output_type": "display_data"
    }
   ],
   "source": [
    "# Examine the best model:\n",
    "bestmod <- tune.out$best.model\n",
    "summary(bestmod)"
   ]
  },
  {
   "cell_type": "code",
   "execution_count": 39,
   "metadata": {},
   "outputs": [
    {
     "data": {
      "text/html": [
       "-0.301414146569663"
      ],
      "text/latex": [
       "-0.301414146569663"
      ],
      "text/markdown": [
       "-0.301414146569663"
      ],
      "text/plain": [
       "[1] -0.3014141"
      ]
     },
     "metadata": {},
     "output_type": "display_data"
    },
    {
     "name": "stdout",
     "output_type": "stream",
     "text": [
      "     [,1]\n",
      "[1,]  0.1\n",
      "[2,]  0.1\n",
      "[3,]  0.1\n",
      "[4,]  0.1\n",
      "[5,]  0.1\n",
      "[6,]  0.1\n",
      "            x1          x2\n",
      "19 -0.52108694 -0.11094719\n",
      "16 -0.07792186 -0.26546936\n",
      "32  0.30574425 -0.18362924\n",
      "17  0.75037301  0.08910022\n",
      "1  -0.95243489  0.35340569\n",
      "28 -0.51222553 -0.12955232\n"
     ]
    },
    {
     "data": {
      "text/html": [
       "<table>\n",
       "<caption>A matrix: 1 × 2 of type dbl</caption>\n",
       "<thead>\n",
       "\t<tr><th scope=col>x1</th><th scope=col>x2</th></tr>\n",
       "</thead>\n",
       "<tbody>\n",
       "\t<tr><td>-0.05806206</td><td>1.112656</td></tr>\n",
       "</tbody>\n",
       "</table>\n"
      ],
      "text/latex": [
       "A matrix: 1 × 2 of type dbl\n",
       "\\begin{tabular}{ll}\n",
       " x1 & x2\\\\\n",
       "\\hline\n",
       "\t -0.05806206 & 1.112656\\\\\n",
       "\\end{tabular}\n"
      ],
      "text/markdown": [
       "\n",
       "A matrix: 1 × 2 of type dbl\n",
       "\n",
       "| x1 | x2 |\n",
       "|---|---|\n",
       "| -0.05806206 | 1.112656 |\n",
       "\n"
      ],
      "text/plain": [
       "     x1          x2      \n",
       "[1,] -0.05806206 1.112656"
      ]
     },
     "metadata": {},
     "output_type": "display_data"
    },
    {
     "data": {
      "text/html": [
       "0.367763030475804"
      ],
      "text/latex": [
       "0.367763030475804"
      ],
      "text/markdown": [
       "0.367763030475804"
      ],
      "text/plain": [
       "[1] 0.367763"
      ]
     },
     "metadata": {},
     "output_type": "display_data"
    },
    {
     "name": "stdout",
     "output_type": "stream",
     "text": [
      "[1] 5.310169\n"
     ]
    },
    {
     "data": {
      "text/html": [
       "30.2715774300983"
      ],
      "text/latex": [
       "30.2715774300983"
      ],
      "text/markdown": [
       "30.2715774300983"
      ],
      "text/plain": [
       "[1] 30.27158"
      ]
     },
     "metadata": {},
     "output_type": "display_data"
    },
    {
     "name": "stdout",
     "output_type": "stream",
     "text": [
      "[1] 36.55067\n"
     ]
    }
   ],
   "source": [
    "# Since R doesn't have canned function to do so, I will\n",
    "# extract attributes to plot linear hyperplane:\n",
    "# ls(bestmod)\n",
    "# Negative intercept:\n",
    "bestmod$rho\n",
    "# Coefs:\n",
    "print(head(bestmod$coefs))\n",
    "# SV's:\n",
    "print(head(bestmod$SV))\n",
    "# Matrix multiply coef by SV to get 2 vector of coefs:\n",
    "parmz <- t(bestmod$coefs)%*%bestmod$SV\n",
    "head(parmz)\n",
    "mean(train$x1); print(sd(train$x1))\n",
    "mean(train$x2); print(sd(train$x2))\n",
    "# Solve 0=intercept+b1*scaledx1+b2*scaledx2\n",
    "# Solve 0=0.3014 - 0.058*(x1-30.3)/5.31 + 1.11*(x2-30.3)/36.55\n",
    "# x2 = .362*x1 + 20.23"
   ]
  },
  {
   "cell_type": "code",
   "execution_count": 40,
   "metadata": {},
   "outputs": [
    {
     "data": {
      "image/png": "[encoded data removed]",
      "text/plain": [
       "plot without title"
      ]
     },
     "metadata": {
      "image/png": {
       "height": 420,
       "width": 420
      },
      "text/plain": {
       "height": 420,
       "width": 420
      }
     },
     "output_type": "display_data"
    }
   ],
   "source": [
    "# Plot the training data:\n",
    "# head(train)\n",
    "plot(train$x1, train$x2, col=c(\"blue\",\"red\")[train$y])\n",
    "tplotx1 <- seq(-10, 10, by=0.01)\n",
    "tplotx2 <- 0.362*tplotx1+20.23\n",
    "lines(tplotx1, tplotx2)"
   ]
  },
  {
   "cell_type": "code",
   "execution_count": 41,
   "metadata": {},
   "outputs": [
    {
     "name": "stdout",
     "output_type": "stream",
     "text": [
      "       truth\n",
      "predict -1  1\n",
      "     -1 11  2\n",
      "     1   8  9\n",
      "[1] 0.3333333\n"
     ]
    }
   ],
   "source": [
    "# Generate predictions using this best SV Classifier:\n",
    "ypred    <- predict(bestmod, newdata=test)\n",
    "conf_mat <- table(predict=ypred, truth=test$y)\n",
    "print(conf_mat)\n",
    "# Print test error rate:\n",
    "svc_errt <- (conf_mat[1,2]+conf_mat[2,1])/sum(conf_mat)\n",
    "print(svc_errt)"
   ]
  },
  {
   "cell_type": "code",
   "execution_count": 42,
   "metadata": {},
   "outputs": [
    {
     "data": {
      "text/plain": [
       "\n",
       "Parameter tuning of 'svm':\n",
       "\n",
       "- sampling method: 10-fold cross validation \n",
       "\n",
       "- best parameters:\n",
       " cost\n",
       "    1\n",
       "\n",
       "- best performance: 0 \n",
       "\n",
       "- Detailed performance results:\n",
       "   cost     error dispersion\n",
       "1 1e-03 0.4428571  0.2070197\n",
       "2 1e+00 0.0000000  0.0000000\n",
       "3 1e+01 0.0000000  0.0000000\n",
       "4 1e+03 0.0000000  0.0000000\n",
       "5 1e+05 0.0000000  0.0000000\n"
      ]
     },
     "metadata": {},
     "output_type": "display_data"
    }
   ],
   "source": [
    "# Now, train a SVM with polynomial kernel of degree 2:\n",
    "set.seed(1)\n",
    "tune.out2 <- tune(svm, y~., data=train, kernel=\"polynomial\", degree=2, \n",
    "                 gamma=1, coef0=1, ranges=list(cost=c(0.001, 1, 10, 1000, 100000)))\n",
    "summary(tune.out2)"
   ]
  },
  {
   "cell_type": "code",
   "execution_count": 43,
   "metadata": {},
   "outputs": [
    {
     "data": {
      "text/plain": [
       "\n",
       "Call:\n",
       "best.tune(method = svm, train.x = y ~ ., data = train, ranges = list(cost = c(0.001, \n",
       "    1, 10, 1000, 1e+05)), kernel = \"polynomial\", degree = 2, gamma = 1, \n",
       "    coef0 = 1)\n",
       "\n",
       "\n",
       "Parameters:\n",
       "   SVM-Type:  C-classification \n",
       " SVM-Kernel:  polynomial \n",
       "       cost:  1 \n",
       "     degree:  2 \n",
       "      gamma:  1 \n",
       "     coef.0:  1 \n",
       "\n",
       "Number of Support Vectors:  8\n",
       "\n",
       " ( 5 3 )\n",
       "\n",
       "\n",
       "Number of Classes:  2 \n",
       "\n",
       "Levels: \n",
       " -1 1\n",
       "\n",
       "\n"
      ]
     },
     "metadata": {},
     "output_type": "display_data"
    }
   ],
   "source": [
    "# Examine the best model:\n",
    "bestmod2 <- tune.out2$best.model\n",
    "summary(bestmod2)"
   ]
  },
  {
   "cell_type": "code",
   "execution_count": 44,
   "metadata": {},
   "outputs": [
    {
     "name": "stdout",
     "output_type": "stream",
     "text": [
      "       truth\n",
      "predict -1  1\n",
      "     -1 19  0\n",
      "     1   0 11\n",
      "[1] 0\n"
     ]
    }
   ],
   "source": [
    "# Generate predictions using this best SVM:\n",
    "ypred2    <- predict(bestmod2, newdata=test)\n",
    "conf_mat2 <- table(predict=ypred2, truth=test$y)\n",
    "print(conf_mat2)\n",
    "# Print test error rate:\n",
    "svc_errt2  <- (conf_mat2[1,2]+conf_mat2[2,1])/sum(conf_mat2)\n",
    "print(svc_errt2)"
   ]
  },
  {
   "cell_type": "code",
   "execution_count": 45,
   "metadata": {},
   "outputs": [],
   "source": [
    "# Clearly the SVM has a lower train set error of 0% vs. the optimal\n",
    "# SV Classifier of 8.6%.\n",
    "# Again, clearly the SVM has a lower test error as well of 0% vs. the\n",
    "# error rate of the optimal SV Classifier of 33%.\n",
    "# This is not surprising: I created the data so that a 2nd degree polynomial\n",
    "# would be able to separate perfectly the two classes, thus the linear \n",
    "# poly the SV Classifier uses is imperfect on the train, and even more so on\n",
    "# the test.  However the more complex SVM is able to perfectly separate the two\n",
    "# classes on the train, and this generalizes perfectly to the test as well."
   ]
  },
  {
   "cell_type": "code",
   "execution_count": 46,
   "metadata": {},
   "outputs": [],
   "source": [
    "# Create ROC plots to viz above error rates:\n",
    "rocplot <- function(pred, truth, ...)\n",
    "{\n",
    "    predob <- prediction(pred, truth)\n",
    "    perf   <- performance(predob, \"tpr\", \"fpr\")\n",
    "    plot(perf, ...)\n",
    "}"
   ]
  },
  {
   "cell_type": "code",
   "execution_count": 47,
   "metadata": {},
   "outputs": [
    {
     "data": {
      "image/png": "[encoded data removed]",
      "text/plain": [
       "Plot with title \"SVM on Test Data\""
      ]
     },
     "metadata": {
      "image/png": {
       "height": 420,
       "width": 420
      },
      "text/plain": {
       "height": 420,
       "width": 420
      }
     },
     "output_type": "display_data"
    }
   ],
   "source": [
    "par(mfrow=c(1,2))\n",
    "# ROC Curve for SVC:\n",
    "svc_pred_fitted <- attributes(predict(bestmod, newdata=test, decision.values=T))$decision.values\n",
    "rocplot(svc_pred_fitted, test$y, main=\"SVC on Test Data\")\n",
    "# ROC Curve for SVM:\n",
    "svm_pred_fitted <- attributes(predict(bestmod2, newdata=test, decision.values=T))$decision.values\n",
    "rocplot(svm_pred_fitted, test$y, main=\"SVM on Test Data\")\n",
    "# Clearly, the SVC has decent predictions, but with significant error on the test data.\n",
    "# As indicated above, clearly the SVM correctly predicts all test obs.\n",
    "# This aligns with the above test error rate results."
   ]
  },
  {
   "cell_type": "code",
   "execution_count": 48,
   "metadata": {},
   "outputs": [
    {
     "data": {
      "text/plain": [
       "               _                           \n",
       "platform       x86_64-w64-mingw32          \n",
       "arch           x86_64                      \n",
       "os             mingw32                     \n",
       "system         x86_64, mingw32             \n",
       "status                                     \n",
       "major          3                           \n",
       "minor          5.1                         \n",
       "year           2018                        \n",
       "month          07                          \n",
       "day            02                          \n",
       "svn rev        74947                       \n",
       "language       R                           \n",
       "version.string R version 3.5.1 (2018-07-02)\n",
       "nickname       Feather Spray               "
      ]
     },
     "metadata": {},
     "output_type": "display_data"
    }
   ],
   "source": [
    "# Potential improvements:\n",
    "# Done:\n",
    "# 1. Plot linear boundary\n",
    "# 2. Scale: already done automatically\n",
    "# To Do:\n",
    "# 1. Plot above SVM hyperplane\n",
    "version"
   ]
  }
 ],
 "metadata": {
  "kernelspec": {
   "display_name": "R",
   "language": "R",
   "name": "ir"
  },
  "language_info": {
   "codemirror_mode": "r",
   "file_extension": ".r",
   "mimetype": "text/x-r-source",
   "name": "R",
   "pygments_lexer": "r",
   "version": "3.5.1"
  }
 },
 "nbformat": 4,
 "nbformat_minor": 2
}
