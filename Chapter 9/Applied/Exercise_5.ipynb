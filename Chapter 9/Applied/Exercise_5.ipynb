{
 "cells": [
  {
   "cell_type": "code",
   "execution_count": 48,
   "metadata": {},
   "outputs": [],
   "source": [
    "# Chapter 9, Exercise 5\n",
    "# Here, I reuse much of my code (that I used to generate\n",
    "# data with a non-linear decision boundary) in Exercise 4.\n",
    "# Packages/options:\n",
    "rm(list=ls())\n",
    "library(stats)\n",
    "# For logistic regression/glm function\n",
    "library(e1071)\n",
    "# For svm() function\n",
    "library(ROCR)\n",
    "# For ROC plots.\n",
    "# Number of observations:\n",
    "num_obs <- 500\n",
    "abs_uni <- 10\n",
    "# Systemic separation to generate x2\n",
    "sys_sep <- 20\n",
    "# Here, as the problem only asks about performance on the\n",
    "# training set, I set this parm = 100%.\n",
    "# Approximate percent in training set:\n",
    "trn_per <- 1\n",
    "# Logistic regression threshold: above which we predict red.\n",
    "log_thr <- 0.5"
   ]
  },
  {
   "cell_type": "code",
   "execution_count": 49,
   "metadata": {},
   "outputs": [
    {
     "data": {
      "text/html": [
       "<style>\n",
       ".list-inline {list-style: none; margin:0; padding: 0}\n",
       ".list-inline>li {display: inline-block}\n",
       ".list-inline>li:not(:last-child)::after {content: \"\\00b7\"; padding: 0 .5ex}\n",
       "</style>\n",
       "<ol class=list-inline><li>-4.689826737158</li><li>-2.5575220072642</li><li>1.45706726703793</li><li>8.16415579989552</li><li>-5.96636137925088</li></ol>\n"
      ],
      "text/latex": [
       "\\begin{enumerate*}\n",
       "\\item -4.689826737158\n",
       "\\item -2.5575220072642\n",
       "\\item 1.45706726703793\n",
       "\\item 8.16415579989552\n",
       "\\item -5.96636137925088\n",
       "\\end{enumerate*}\n"
      ],
      "text/markdown": [
       "1. -4.689826737158\n",
       "2. -2.5575220072642\n",
       "3. 1.45706726703793\n",
       "4. 8.16415579989552\n",
       "5. -5.96636137925088\n",
       "\n",
       "\n"
      ],
      "text/plain": [
       "[1] -4.689827 -2.557522  1.457067  8.164156 -5.966361"
      ]
     },
     "metadata": {},
     "output_type": "display_data"
    }
   ],
   "source": [
    "# Part a:\n",
    "# Generate a simulated 2-class dataset with num_obs obs.\n",
    "# Generate x1 as uniform deviates from uniform distribution:\n",
    "set.seed(1)\n",
    "x1 <- runif(num_obs, min=-abs_uni, max=abs_uni)\n",
    "head(x1, 5)"
   ]
  },
  {
   "cell_type": "code",
   "execution_count": 50,
   "metadata": {},
   "outputs": [
    {
     "name": "stdout",
     "output_type": "stream",
     "text": [
      "[1] \"red\"  \"red\"  \"red\"  \"blue\" \"blue\"\n"
     ]
    }
   ],
   "source": [
    "# Arbitrarily set the first num_obs/2 values of the response variable\n",
    "# equal to red, the rest to blue:\n",
    "cols <- c(rep('red',num_obs/2), rep('blue',num_obs/2))\n",
    "# Let's inspect obs numbers 48-52 to see the switch:\n",
    "begin_view <- num_obs/2-2\n",
    "end_view   <- num_obs/2+2\n",
    "print(cols[begin_view:end_view])"
   ]
  },
  {
   "cell_type": "code",
   "execution_count": 51,
   "metadata": {},
   "outputs": [
    {
     "name": "stdout",
     "output_type": "stream",
     "text": [
      "[1]  1  1  1 -1 -1\n",
      "[1]  0.4086657  1.2215028 -0.2089644 -0.7429930  2.0866524  3.4386851\n",
      "[1] 42.40314 27.76242 21.91408 85.91045 57.68412 86.92442\n"
     ]
    }
   ],
   "source": [
    "# I'd like the nonlinear separation to be of the form y=x^2,\n",
    "# plus or minus some noise.\n",
    "# Raise up red entries above the divider, allow blue to\n",
    "# sink down below:\n",
    "col_ind <- ifelse(cols=='red', 1, -1)\n",
    "print(col_ind[begin_view:end_view])\n",
    "noise     <- rnorm(num_obs, mean=0, sd=3)\n",
    "print(head(noise))\n",
    "x2        <- (x1^2+col_ind*sys_sep+noise)\n",
    "print(head(x2))"
   ]
  },
  {
   "cell_type": "code",
   "execution_count": 52,
   "metadata": {},
   "outputs": [
    {
     "data": {
      "text/html": [
       "<table>\n",
       "<caption>A data.frame: 6 × 3</caption>\n",
       "<thead>\n",
       "\t<tr><th></th><th scope=col>cols</th><th scope=col>x1</th><th scope=col>x2</th></tr>\n",
       "\t<tr><th></th><th scope=col>&lt;fct&gt;</th><th scope=col>&lt;dbl&gt;</th><th scope=col>&lt;dbl&gt;</th></tr>\n",
       "</thead>\n",
       "<tbody>\n",
       "\t<tr><th scope=row>1</th><td>red</td><td>-4.689827</td><td>42.40314</td></tr>\n",
       "\t<tr><th scope=row>2</th><td>red</td><td>-2.557522</td><td>27.76242</td></tr>\n",
       "\t<tr><th scope=row>3</th><td>red</td><td> 1.457067</td><td>21.91408</td></tr>\n",
       "\t<tr><th scope=row>4</th><td>red</td><td> 8.164156</td><td>85.91045</td></tr>\n",
       "\t<tr><th scope=row>5</th><td>red</td><td>-5.966361</td><td>57.68412</td></tr>\n",
       "\t<tr><th scope=row>6</th><td>red</td><td> 7.967794</td><td>86.92442</td></tr>\n",
       "</tbody>\n",
       "</table>\n"
      ],
      "text/latex": [
       "A data.frame: 6 × 3\n",
       "\\begin{tabular}{r|lll}\n",
       "  & cols & x1 & x2\\\\\n",
       "  & <fct> & <dbl> & <dbl>\\\\\n",
       "\\hline\n",
       "\t1 & red & -4.689827 & 42.40314\\\\\n",
       "\t2 & red & -2.557522 & 27.76242\\\\\n",
       "\t3 & red &  1.457067 & 21.91408\\\\\n",
       "\t4 & red &  8.164156 & 85.91045\\\\\n",
       "\t5 & red & -5.966361 & 57.68412\\\\\n",
       "\t6 & red &  7.967794 & 86.92442\\\\\n",
       "\\end{tabular}\n"
      ],
      "text/markdown": [
       "\n",
       "A data.frame: 6 × 3\n",
       "\n",
       "| <!--/--> | cols &lt;fct&gt; | x1 &lt;dbl&gt; | x2 &lt;dbl&gt; |\n",
       "|---|---|---|---|\n",
       "| 1 | red | -4.689827 | 42.40314 |\n",
       "| 2 | red | -2.557522 | 27.76242 |\n",
       "| 3 | red |  1.457067 | 21.91408 |\n",
       "| 4 | red |  8.164156 | 85.91045 |\n",
       "| 5 | red | -5.966361 | 57.68412 |\n",
       "| 6 | red |  7.967794 | 86.92442 |\n",
       "\n"
      ],
      "text/plain": [
       "  cols x1        x2      \n",
       "1 red  -4.689827 42.40314\n",
       "2 red  -2.557522 27.76242\n",
       "3 red   1.457067 21.91408\n",
       "4 red   8.164156 85.91045\n",
       "5 red  -5.966361 57.68412\n",
       "6 red   7.967794 86.92442"
      ]
     },
     "metadata": {},
     "output_type": "display_data"
    }
   ],
   "source": [
    "# Combine into df:\n",
    "twoclass_df <- data.frame(cols, x1, x2)\n",
    "head(twoclass_df)"
   ]
  },
  {
   "cell_type": "code",
   "execution_count": 53,
   "metadata": {},
   "outputs": [
    {
     "name": "stderr",
     "output_type": "stream",
     "text": [
      "The following objects are masked _by_ .GlobalEnv:\n",
      "\n",
      "    cols, x1, x2\n",
      "\n",
      "\n"
     ]
    },
    {
     "data": {
      "image/png": "[encoded data removed]",
      "text/plain": [
       "plot without title"
      ]
     },
     "metadata": {
      "image/png": {
       "height": 420,
       "width": 420
      },
      "text/plain": {
       "height": 420,
       "width": 420
      }
     },
     "output_type": "display_data"
    }
   ],
   "source": [
    "# Part b:\n",
    "# Plot:\n",
    "attach(twoclass_df); \n",
    "plot(twoclass_df$x1, twoclass_df$x2, col=c(\"blue\",\"red\")[twoclass_df$cols],\n",
    "    xlab=\"x1\", ylab=\"x2\") \n",
    "detach(twoclass_df)\n",
    "# There is clearly a visible, but nonlinear, separation\n",
    "# between the two classes."
   ]
  },
  {
   "cell_type": "code",
   "execution_count": 54,
   "metadata": {},
   "outputs": [
    {
     "data": {
      "text/plain": [
       "\n",
       "Call:\n",
       "glm(formula = cols ~ x1 + x2, family = \"binomial\", data = twoclass_df)\n",
       "\n",
       "Deviance Residuals: \n",
       "     Min        1Q    Median        3Q       Max  \n",
       "-2.00749  -0.80982  -0.08696   1.02377   1.47320  \n",
       "\n",
       "Coefficients:\n",
       "              Estimate Std. Error z value Pr(>|z|)    \n",
       "(Intercept) -1.237e+00  1.608e-01  -7.691 1.46e-14 ***\n",
       "x1           8.928e-05  1.928e-02   0.005    0.996    \n",
       "x2           3.952e-02  3.981e-03   9.929  < 2e-16 ***\n",
       "---\n",
       "Signif. codes:  0 '***' 0.001 '**' 0.01 '*' 0.05 '.' 0.1 ' ' 1\n",
       "\n",
       "(Dispersion parameter for binomial family taken to be 1)\n",
       "\n",
       "    Null deviance: 693.15  on 499  degrees of freedom\n",
       "Residual deviance: 547.15  on 497  degrees of freedom\n",
       "AIC: 553.15\n",
       "\n",
       "Number of Fisher Scoring iterations: 4\n"
      ]
     },
     "metadata": {},
     "output_type": "display_data"
    }
   ],
   "source": [
    "# Part c:\n",
    "# Fit a logistic regression model to the data, using x1\n",
    "# and x2 as predictors.\n",
    "logreg_mod <- glm(cols~x1+x2, data=twoclass_df, family=\"binomial\")\n",
    "summary(logreg_mod)"
   ]
  },
  {
   "cell_type": "code",
   "execution_count": 55,
   "metadata": {},
   "outputs": [
    {
     "data": {
      "text/html": [
       "<table>\n",
       "<caption>A data.frame: 6 × 4</caption>\n",
       "<thead>\n",
       "\t<tr><th></th><th scope=col>cols</th><th scope=col>x1</th><th scope=col>x2</th><th scope=col>pred_linlogreg</th></tr>\n",
       "\t<tr><th></th><th scope=col>&lt;fct&gt;</th><th scope=col>&lt;dbl&gt;</th><th scope=col>&lt;dbl&gt;</th><th scope=col>&lt;fct&gt;</th></tr>\n",
       "</thead>\n",
       "<tbody>\n",
       "\t<tr><th scope=row>1</th><td>red</td><td>-4.689827</td><td>42.40314</td><td>red </td></tr>\n",
       "\t<tr><th scope=row>2</th><td>red</td><td>-2.557522</td><td>27.76242</td><td>blue</td></tr>\n",
       "\t<tr><th scope=row>3</th><td>red</td><td> 1.457067</td><td>21.91408</td><td>blue</td></tr>\n",
       "\t<tr><th scope=row>4</th><td>red</td><td> 8.164156</td><td>85.91045</td><td>red </td></tr>\n",
       "\t<tr><th scope=row>5</th><td>red</td><td>-5.966361</td><td>57.68412</td><td>red </td></tr>\n",
       "\t<tr><th scope=row>6</th><td>red</td><td> 7.967794</td><td>86.92442</td><td>red </td></tr>\n",
       "</tbody>\n",
       "</table>\n"
      ],
      "text/latex": [
       "A data.frame: 6 × 4\n",
       "\\begin{tabular}{r|llll}\n",
       "  & cols & x1 & x2 & pred\\_linlogreg\\\\\n",
       "  & <fct> & <dbl> & <dbl> & <fct>\\\\\n",
       "\\hline\n",
       "\t1 & red & -4.689827 & 42.40314 & red \\\\\n",
       "\t2 & red & -2.557522 & 27.76242 & blue\\\\\n",
       "\t3 & red &  1.457067 & 21.91408 & blue\\\\\n",
       "\t4 & red &  8.164156 & 85.91045 & red \\\\\n",
       "\t5 & red & -5.966361 & 57.68412 & red \\\\\n",
       "\t6 & red &  7.967794 & 86.92442 & red \\\\\n",
       "\\end{tabular}\n"
      ],
      "text/markdown": [
       "\n",
       "A data.frame: 6 × 4\n",
       "\n",
       "| <!--/--> | cols &lt;fct&gt; | x1 &lt;dbl&gt; | x2 &lt;dbl&gt; | pred_linlogreg &lt;fct&gt; |\n",
       "|---|---|---|---|---|\n",
       "| 1 | red | -4.689827 | 42.40314 | red  |\n",
       "| 2 | red | -2.557522 | 27.76242 | blue |\n",
       "| 3 | red |  1.457067 | 21.91408 | blue |\n",
       "| 4 | red |  8.164156 | 85.91045 | red  |\n",
       "| 5 | red | -5.966361 | 57.68412 | red  |\n",
       "| 6 | red |  7.967794 | 86.92442 | red  |\n",
       "\n"
      ],
      "text/plain": [
       "  cols x1        x2       pred_linlogreg\n",
       "1 red  -4.689827 42.40314 red           \n",
       "2 red  -2.557522 27.76242 blue          \n",
       "3 red   1.457067 21.91408 blue          \n",
       "4 red   8.164156 85.91045 red           \n",
       "5 red  -5.966361 57.68412 red           \n",
       "6 red   7.967794 86.92442 red           "
      ]
     },
     "metadata": {},
     "output_type": "display_data"
    }
   ],
   "source": [
    "# Part d:\n",
    "linlogreg <- predict(logreg_mod, newdata=twoclass_df, type=\"response\")\n",
    "twoclass_df$pred_linlogreg <- as.factor(ifelse(linlogreg>log_thr, \"red\", \"blue\"))\n",
    "head(twoclass_df)"
   ]
  },
  {
   "cell_type": "code",
   "execution_count": 56,
   "metadata": {},
   "outputs": [
    {
     "name": "stderr",
     "output_type": "stream",
     "text": [
      "The following objects are masked _by_ .GlobalEnv:\n",
      "\n",
      "    cols, x1, x2\n",
      "\n",
      "\n"
     ]
    },
    {
     "data": {
      "image/png": "[encoded data removed]",
      "text/plain": [
       "plot without title"
      ]
     },
     "metadata": {
      "image/png": {
       "height": 420,
       "width": 420
      },
      "text/plain": {
       "height": 420,
       "width": 420
      }
     },
     "output_type": "display_data"
    }
   ],
   "source": [
    "# Plot based on predicted class labels:\n",
    "attach(twoclass_df); \n",
    "plot(twoclass_df$x1, twoclass_df$x2, col=c(\"blue\",\"red\")[twoclass_df$pred_linlogreg],\n",
    "    xlab=\"x1\", ylab=\"x2\") \n",
    "detach(twoclass_df)\n",
    "# As expected, the decision boundary is linear."
   ]
  },
  {
   "cell_type": "code",
   "execution_count": 57,
   "metadata": {},
   "outputs": [
    {
     "name": "stderr",
     "output_type": "stream",
     "text": [
      "Warning message:\n",
      "\"glm.fit: algorithm did not converge\"\n",
      "Warning message:\n",
      "\"glm.fit: fitted probabilities numerically 0 or 1 occurred\"\n"
     ]
    },
    {
     "data": {
      "text/plain": [
       "\n",
       "Call:\n",
       "glm(formula = cols ~ x1 + x2 + I(x1^2) + I(x2^2), family = \"binomial\", \n",
       "    data = twoclass_df)\n",
       "\n",
       "Deviance Residuals: \n",
       "       Min          1Q      Median          3Q         Max  \n",
       "-4.417e-05  -2.100e-08   0.000e+00   2.100e-08   5.128e-05  \n",
       "\n",
       "Coefficients:\n",
       "              Estimate Std. Error z value Pr(>|z|)\n",
       "(Intercept)  6.970e-01  1.443e+04   0.000    1.000\n",
       "x1          -5.271e-03  3.081e+03   0.000    1.000\n",
       "x2           1.796e+00  1.086e+03   0.002    0.999\n",
       "I(x1^2)     -1.766e+00  9.630e+02  -0.002    0.999\n",
       "I(x2^2)     -2.699e-04  9.747e+00   0.000    1.000\n",
       "\n",
       "(Dispersion parameter for binomial family taken to be 1)\n",
       "\n",
       "    Null deviance: 6.9315e+02  on 499  degrees of freedom\n",
       "Residual deviance: 6.4526e-09  on 495  degrees of freedom\n",
       "AIC: 10\n",
       "\n",
       "Number of Fisher Scoring iterations: 25\n"
      ]
     },
     "metadata": {},
     "output_type": "display_data"
    }
   ],
   "source": [
    "# Part e:\n",
    "# Fit a second logistic regression function, this time using\n",
    "# nonlinear functions of the 2 feature variables:\n",
    "logregquad_mod <- glm(cols~x1+x2+I(x1^2)+I(x2^2), data=twoclass_df, \n",
    "                      family=\"binomial\")\n",
    "summary(logregquad_mod)\n",
    "# Warning message caused by perfect fit on data which was \n",
    "# simulated to cause a....perfect fit."
   ]
  },
  {
   "cell_type": "code",
   "execution_count": 58,
   "metadata": {},
   "outputs": [
    {
     "data": {
      "text/html": [
       "<table>\n",
       "<caption>A data.frame: 6 × 5</caption>\n",
       "<thead>\n",
       "\t<tr><th></th><th scope=col>cols</th><th scope=col>x1</th><th scope=col>x2</th><th scope=col>pred_linlogreg</th><th scope=col>pred_quadlogreg</th></tr>\n",
       "\t<tr><th></th><th scope=col>&lt;fct&gt;</th><th scope=col>&lt;dbl&gt;</th><th scope=col>&lt;dbl&gt;</th><th scope=col>&lt;fct&gt;</th><th scope=col>&lt;fct&gt;</th></tr>\n",
       "</thead>\n",
       "<tbody>\n",
       "\t<tr><th scope=row>1</th><td>red</td><td>-4.689827</td><td>42.40314</td><td>red </td><td>red</td></tr>\n",
       "\t<tr><th scope=row>2</th><td>red</td><td>-2.557522</td><td>27.76242</td><td>blue</td><td>red</td></tr>\n",
       "\t<tr><th scope=row>3</th><td>red</td><td> 1.457067</td><td>21.91408</td><td>blue</td><td>red</td></tr>\n",
       "\t<tr><th scope=row>4</th><td>red</td><td> 8.164156</td><td>85.91045</td><td>red </td><td>red</td></tr>\n",
       "\t<tr><th scope=row>5</th><td>red</td><td>-5.966361</td><td>57.68412</td><td>red </td><td>red</td></tr>\n",
       "\t<tr><th scope=row>6</th><td>red</td><td> 7.967794</td><td>86.92442</td><td>red </td><td>red</td></tr>\n",
       "</tbody>\n",
       "</table>\n"
      ],
      "text/latex": [
       "A data.frame: 6 × 5\n",
       "\\begin{tabular}{r|lllll}\n",
       "  & cols & x1 & x2 & pred\\_linlogreg & pred\\_quadlogreg\\\\\n",
       "  & <fct> & <dbl> & <dbl> & <fct> & <fct>\\\\\n",
       "\\hline\n",
       "\t1 & red & -4.689827 & 42.40314 & red  & red\\\\\n",
       "\t2 & red & -2.557522 & 27.76242 & blue & red\\\\\n",
       "\t3 & red &  1.457067 & 21.91408 & blue & red\\\\\n",
       "\t4 & red &  8.164156 & 85.91045 & red  & red\\\\\n",
       "\t5 & red & -5.966361 & 57.68412 & red  & red\\\\\n",
       "\t6 & red &  7.967794 & 86.92442 & red  & red\\\\\n",
       "\\end{tabular}\n"
      ],
      "text/markdown": [
       "\n",
       "A data.frame: 6 × 5\n",
       "\n",
       "| <!--/--> | cols &lt;fct&gt; | x1 &lt;dbl&gt; | x2 &lt;dbl&gt; | pred_linlogreg &lt;fct&gt; | pred_quadlogreg &lt;fct&gt; |\n",
       "|---|---|---|---|---|---|\n",
       "| 1 | red | -4.689827 | 42.40314 | red  | red |\n",
       "| 2 | red | -2.557522 | 27.76242 | blue | red |\n",
       "| 3 | red |  1.457067 | 21.91408 | blue | red |\n",
       "| 4 | red |  8.164156 | 85.91045 | red  | red |\n",
       "| 5 | red | -5.966361 | 57.68412 | red  | red |\n",
       "| 6 | red |  7.967794 | 86.92442 | red  | red |\n",
       "\n"
      ],
      "text/plain": [
       "  cols x1        x2       pred_linlogreg pred_quadlogreg\n",
       "1 red  -4.689827 42.40314 red            red            \n",
       "2 red  -2.557522 27.76242 blue           red            \n",
       "3 red   1.457067 21.91408 blue           red            \n",
       "4 red   8.164156 85.91045 red            red            \n",
       "5 red  -5.966361 57.68412 red            red            \n",
       "6 red   7.967794 86.92442 red            red            "
      ]
     },
     "metadata": {},
     "output_type": "display_data"
    }
   ],
   "source": [
    "# Part f:\n",
    "quadlogreg <- predict(logregquad_mod, newdata=twoclass_df, type=\"response\")\n",
    "twoclass_df$pred_quadlogreg <- as.factor(ifelse(quadlogreg>log_thr, \"red\", \"blue\"))\n",
    "head(twoclass_df)"
   ]
  },
  {
   "cell_type": "code",
   "execution_count": 59,
   "metadata": {},
   "outputs": [
    {
     "data": {
      "text/plain": [
       "      \n",
       "       blue red\n",
       "  blue  250   0\n",
       "  red     0 250"
      ]
     },
     "metadata": {},
     "output_type": "display_data"
    }
   ],
   "source": [
    "# Confusion matrix:\n",
    "table(twoclass_df$cols, twoclass_df$pred_quadlogreg)\n",
    "# Clearly, this predicts most values correctly."
   ]
  },
  {
   "cell_type": "code",
   "execution_count": 60,
   "metadata": {},
   "outputs": [
    {
     "name": "stderr",
     "output_type": "stream",
     "text": [
      "The following objects are masked _by_ .GlobalEnv:\n",
      "\n",
      "    cols, x1, x2\n",
      "\n",
      "\n"
     ]
    },
    {
     "data": {
      "image/png": "[encoded data removed]",
      "text/plain": [
       "plot without title"
      ]
     },
     "metadata": {
      "image/png": {
       "height": 420,
       "width": 420
      },
      "text/plain": {
       "height": 420,
       "width": 420
      }
     },
     "output_type": "display_data"
    }
   ],
   "source": [
    "# Plot based on predicted class labels:\n",
    "attach(twoclass_df); \n",
    "plot(twoclass_df$x1, twoclass_df$x2, col=c(\"blue\",\"red\")[twoclass_df$pred_quadlogreg],\n",
    "    xlab=\"x1\", ylab=\"x2\") \n",
    "detach(twoclass_df)\n",
    "# As expected, the decision boundary is obviously nonlinear, as it \n",
    "# separates perfectly these two classes separted by quadratic boundary."
   ]
  },
  {
   "cell_type": "code",
   "execution_count": 61,
   "metadata": {},
   "outputs": [
    {
     "name": "stdout",
     "output_type": "stream",
     "text": [
      "  cols        x1       x2 pred_linlogreg pred_quadlogreg y\n",
      "1  red -4.689827 42.40314            red             red 1\n",
      "2  red -2.557522 27.76242           blue             red 1\n",
      "3  red  1.457067 21.91408           blue             red 1\n",
      "4  red  8.164156 85.91045            red             red 1\n",
      "5  red -5.966361 57.68412            red             red 1\n",
      "6  red  7.967794 86.92442            red             red 1\n",
      "         x1       x2 pred_linlogreg pred_quadlogreg y\n",
      "1 -4.689827 42.40314            red             red 1\n",
      "2 -2.557522 27.76242           blue             red 1\n",
      "3  1.457067 21.91408           blue             red 1\n",
      "4  8.164156 85.91045            red             red 1\n",
      "5 -5.966361 57.68412            red             red 1\n",
      "6  7.967794 86.92442            red             red 1\n"
     ]
    }
   ],
   "source": [
    "# Part g\n",
    "# Fit a SVC to this data, using X1 and X2 as features:\n",
    "# Code Red==1, Blue==-1\n",
    "twoclass_df$y  <- as.factor(ifelse(twoclass_df$col==\"red\", 1, -1))\n",
    "print(head(twoclass_df))\n",
    "twoclass_clean <- twoclass_df[,-c(1)]\n",
    "print(head(twoclass_clean))"
   ]
  },
  {
   "cell_type": "code",
   "execution_count": 62,
   "metadata": {},
   "outputs": [
    {
     "data": {
      "text/plain": [
       "\n",
       "Parameter tuning of 'svm':\n",
       "\n",
       "- sampling method: 10-fold cross validation \n",
       "\n",
       "- best parameters:\n",
       " cost\n",
       "   10\n",
       "\n",
       "- best performance: 0.28 \n",
       "\n",
       "- Detailed performance results:\n",
       "   cost error dispersion\n",
       "1 1e-03 0.546 0.06257440\n",
       "2 1e-01 0.284 0.04880801\n",
       "3 1e+01 0.280 0.04898979\n",
       "4 1e+02 0.280 0.04898979\n",
       "5 1e+03 0.280 0.04898979\n",
       "6 1e+04 0.500 0.07180220\n"
      ]
     },
     "metadata": {},
     "output_type": "display_data"
    }
   ],
   "source": [
    "# Tune a SV Classifier:\n",
    "set.seed(1)\n",
    "tune.out <- tune(svm, y~x1+x2, data=twoclass_df, kernel=\"linear\", \n",
    "                 ranges=list(cost=c(0.001, 0.1, 10, 100, 1000, 10000)))\n",
    "summary(tune.out)"
   ]
  },
  {
   "cell_type": "code",
   "execution_count": 63,
   "metadata": {},
   "outputs": [
    {
     "name": "stderr",
     "output_type": "stream",
     "text": [
      "The following objects are masked _by_ .GlobalEnv:\n",
      "\n",
      "    cols, x1, x2\n",
      "\n",
      "\n"
     ]
    },
    {
     "data": {
      "image/png": "[encoded data removed]",
      "text/plain": [
       "plot without title"
      ]
     },
     "metadata": {
      "image/png": {
       "height": 420,
       "width": 420
      },
      "text/plain": {
       "height": 420,
       "width": 420
      }
     },
     "output_type": "display_data"
    }
   ],
   "source": [
    "# Generate predictions using the best SV Classifier:\n",
    "bestmod  <- tune.out$best.model\n",
    "twoclass_df$pred_svc <- predict(bestmod, newdata=twoclass_df)\n",
    "attach(twoclass_df); \n",
    "plot(twoclass_df$x1, twoclass_df$x2, col=c(\"blue\",\"red\")[twoclass_df$pred_svc],\n",
    "    xlab=\"x1\", ylab=\"x2\") \n",
    "detach(twoclass_df)\n",
    "# As expected, the decision boundary is linear."
   ]
  },
  {
   "cell_type": "code",
   "execution_count": 64,
   "metadata": {},
   "outputs": [
    {
     "data": {
      "text/plain": [
       "\n",
       "Parameter tuning of 'svm':\n",
       "\n",
       "- sampling method: 10-fold cross validation \n",
       "\n",
       "- best parameters:\n",
       " cost\n",
       "    1\n",
       "\n",
       "- best performance: 0 \n",
       "\n",
       "- Detailed performance results:\n",
       "   cost error dispersion\n",
       "1 1e-03 0.388 0.04638007\n",
       "2 1e+00 0.000 0.00000000\n",
       "3 1e+01 0.000 0.00000000\n",
       "4 1e+03 0.000 0.00000000\n",
       "5 1e+05 0.000 0.00000000\n"
      ]
     },
     "metadata": {},
     "output_type": "display_data"
    }
   ],
   "source": [
    "# Part h:\n",
    "# SVM, using polynomial kernel of degree=2.\n",
    "set.seed(1)\n",
    "tune.out2 <- tune(svm, y~x1+x2, data=twoclass_df, kernel=\"polynomial\", degree=2, \n",
    "                 gamma=1, coef0=1, ranges=list(cost=c(0.001, 1, 10, 1000, 100000)))\n",
    "summary(tune.out2)"
   ]
  },
  {
   "cell_type": "code",
   "execution_count": 65,
   "metadata": {},
   "outputs": [
    {
     "name": "stderr",
     "output_type": "stream",
     "text": [
      "The following objects are masked _by_ .GlobalEnv:\n",
      "\n",
      "    cols, x1, x2\n",
      "\n",
      "\n"
     ]
    },
    {
     "data": {
      "image/png": "[encoded data removed]",
      "text/plain": [
       "plot without title"
      ]
     },
     "metadata": {
      "image/png": {
       "height": 420,
       "width": 420
      },
      "text/plain": {
       "height": 420,
       "width": 420
      }
     },
     "output_type": "display_data"
    }
   ],
   "source": [
    "# Generate predictions using the best SVM:\n",
    "bestmod2  <- tune.out2$best.model\n",
    "twoclass_df$pred_svm <- predict(bestmod2, newdata=twoclass_df)\n",
    "attach(twoclass_df); \n",
    "plot(twoclass_df$x1, twoclass_df$x2, col=c(\"blue\",\"red\")[twoclass_df$pred_svm],\n",
    "    xlab=\"x1\", ylab=\"x2\") \n",
    "detach(twoclass_df)\n",
    "# As expected, the decision boundary is nonlinear, and results in perfect\n",
    "# classification of all observations."
   ]
  },
  {
   "cell_type": "code",
   "execution_count": null,
   "metadata": {},
   "outputs": [],
   "source": [
    "# Part i:\n",
    "# Clearly, the SVC and logistic regression using only linear terms of \n",
    "# x1 and x2 give very similar results: a linear decision boundary that\n",
    "# is a horizontal line, and provides a poor classification outcome.\n",
    "# Both logistic regression containing both linear and quadratic terms\n",
    "# as well as a SVM with polynomial kernel of degree 2 drive the same\n",
    "# outcome: perfect predictions on the training data.  This is not surprising,\n",
    "# as both contain the appropriate features (namely: a constant, x1^2 term, and\n",
    "# a x2 term) to perfectly fit the training data."
   ]
  }
 ],
 "metadata": {
  "kernelspec": {
   "display_name": "R",
   "language": "R",
   "name": "ir"
  },
  "language_info": {
   "codemirror_mode": "r",
   "file_extension": ".r",
   "mimetype": "text/x-r-source",
   "name": "R",
   "pygments_lexer": "r",
   "version": "3.5.1"
  }
 },
 "nbformat": 4,
 "nbformat_minor": 2
}
