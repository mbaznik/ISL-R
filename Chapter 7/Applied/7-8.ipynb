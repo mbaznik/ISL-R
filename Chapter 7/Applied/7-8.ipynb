{
 "cells": [
  {
   "cell_type": "code",
   "execution_count": 1,
   "metadata": {},
   "outputs": [],
   "source": [
    "# Exercise 7-8\n",
    "# The objective of this exercise is to investigate the relationships between mpg and other feature variables\n",
    "# in the Auto dset and to look for evidence of non-linear relationships in the data."
   ]
  },
  {
   "cell_type": "code",
   "execution_count": 2,
   "metadata": {},
   "outputs": [],
   "source": [
    "rm(list=ls())\n",
    "library(ISLR)\n",
    "library(boot)\n",
    "library(splines)"
   ]
  },
  {
   "cell_type": "code",
   "execution_count": 3,
   "metadata": {},
   "outputs": [
    {
     "data": {
      "text/html": [
       "392"
      ],
      "text/latex": [
       "392"
      ],
      "text/markdown": [
       "392"
      ],
      "text/plain": [
       "[1] 392"
      ]
     },
     "metadata": {},
     "output_type": "display_data"
    },
    {
     "data": {
      "text/plain": [
       "      mpg          cylinders      displacement     horsepower        weight    \n",
       " Min.   : 9.00   Min.   :3.000   Min.   : 68.0   Min.   : 46.0   Min.   :1613  \n",
       " 1st Qu.:17.00   1st Qu.:4.000   1st Qu.:105.0   1st Qu.: 75.0   1st Qu.:2225  \n",
       " Median :22.75   Median :4.000   Median :151.0   Median : 93.5   Median :2804  \n",
       " Mean   :23.45   Mean   :5.472   Mean   :194.4   Mean   :104.5   Mean   :2978  \n",
       " 3rd Qu.:29.00   3rd Qu.:8.000   3rd Qu.:275.8   3rd Qu.:126.0   3rd Qu.:3615  \n",
       " Max.   :46.60   Max.   :8.000   Max.   :455.0   Max.   :230.0   Max.   :5140  \n",
       "                                                                               \n",
       "  acceleration        year           origin                      name    \n",
       " Min.   : 8.00   Min.   :70.00   Min.   :1.000   amc matador       :  5  \n",
       " 1st Qu.:13.78   1st Qu.:73.00   1st Qu.:1.000   ford pinto        :  5  \n",
       " Median :15.50   Median :76.00   Median :1.000   toyota corolla    :  5  \n",
       " Mean   :15.54   Mean   :75.98   Mean   :1.577   amc gremlin       :  4  \n",
       " 3rd Qu.:17.02   3rd Qu.:79.00   3rd Qu.:2.000   amc hornet        :  4  \n",
       " Max.   :24.80   Max.   :82.00   Max.   :3.000   chevrolet chevette:  4  \n",
       "                                                 (Other)           :365  "
      ]
     },
     "metadata": {},
     "output_type": "display_data"
    }
   ],
   "source": [
    "fix(Auto)\n",
    "attach(Auto)\n",
    "nrow(Auto)\n",
    "summary(Auto)"
   ]
  },
  {
   "cell_type": "code",
   "execution_count": 4,
   "metadata": {},
   "outputs": [
    {
     "data": {
      "image/png": "[encoded data removed]",
      "text/plain": [
       "plot without title"
      ]
     },
     "metadata": {
      "image/png": {
       "height": 420,
       "width": 420
      },
      "text/plain": {
       "height": 420,
       "width": 420
      }
     },
     "output_type": "display_data"
    }
   ],
   "source": [
    "# For the purposes of this exercise, I will focus on mpg as the response variable and displacement\n",
    "# and horsepower as the predictor variables.\n",
    "par(mfrow=c(2,1))\n",
    "plot(displacement, mpg)\n",
    "plot(horsepower, mpg)\n",
    "# The below plots for mpg vs. each of displacement and horsepower indicate signs of nonlinear decreasing relationships.  \n",
    "# For simplicity, I will focus on the polynomial regression and GAM (using splines) methods."
   ]
  },
  {
   "cell_type": "code",
   "execution_count": 5,
   "metadata": {},
   "outputs": [
    {
     "data": {
      "text/plain": [
       "\n",
       "Call:\n",
       "lm(formula = mpg ~ displacement + horsepower)\n",
       "\n",
       "Residuals:\n",
       "     Min       1Q   Median       3Q      Max \n",
       "-11.3674  -3.1721  -0.4338   2.3349  16.4288 \n",
       "\n",
       "Coefficients:\n",
       "              Estimate Std. Error t value Pr(>|t|)    \n",
       "(Intercept)  37.469488   0.727716  51.489  < 2e-16 ***\n",
       "displacement -0.040818   0.004963  -8.225 2.95e-15 ***\n",
       "horsepower   -0.058275   0.013491  -4.319 1.99e-05 ***\n",
       "---\n",
       "Signif. codes:  0 '***' 0.001 '**' 0.01 '*' 0.05 '.' 0.1 ' ' 1\n",
       "\n",
       "Residual standard error: 4.534 on 389 degrees of freedom\n",
       "Multiple R-squared:  0.6643,\tAdjusted R-squared:  0.6626 \n",
       "F-statistic: 384.9 on 2 and 389 DF,  p-value: < 2.2e-16\n"
      ]
     },
     "metadata": {},
     "output_type": "display_data"
    }
   ],
   "source": [
    "# Here I create the base model: ordinary linear regression of mpg on both feature vars:\n",
    "m1 <- lm(mpg~displacement+horsepower)\n",
    "summary(m1)"
   ]
  },
  {
   "cell_type": "code",
   "execution_count": 6,
   "metadata": {},
   "outputs": [
    {
     "name": "stdout",
     "output_type": "stream",
     "text": [
      "[1] 20.80207\n"
     ]
    }
   ],
   "source": [
    "# Lastly, let's fit this OLS as a GLM to use the cv.glm functionality to establish a base level of error:\n",
    "num_runs <- 10\n",
    "# Allocate 1D array to hold results:\n",
    "ols_storage_mat <- matrix(0, nrow=1, ncol=num_runs)\n",
    "for (k in 1:num_runs)\n",
    "{\n",
    "    set.seed(k)\n",
    "    model <- glm(mpg ~ displacement + horsepower, data=Auto) \n",
    "    ols_storage_mat[1, k] <-  cv.glm(data=Auto, glmfit=model, K=10)$delta[1]\n",
    "}\n",
    "# print(ols_storage_mat)\n",
    "print(mean(ols_storage_mat))\n",
    "ols_error <- mean(ols_storage_mat)"
   ]
  },
  {
   "cell_type": "code",
   "execution_count": 7,
   "metadata": {},
   "outputs": [],
   "source": [
    "# Nonlinear method 1: polynomial regression.\n",
    "# For polynomials of order 1-5 for each of the two feature vars, I will loop through and evaluate the CV error\n",
    "# of each candidate model:\n",
    "max_deg <- 5\n",
    "# Create a data structure to store the MSE results:\n",
    "poly_mse_storage <- rep(0, max_deg^2)\n",
    "# print(poly_mse_storage)"
   ]
  },
  {
   "cell_type": "code",
   "execution_count": 8,
   "metadata": {},
   "outputs": [
    {
     "name": "stdout",
     "output_type": "stream",
     "text": [
      " [1] 20.66342 17.12867 16.80995 16.94731 16.52553 16.45741 16.11508 16.01246\n",
      " [9] 16.32735 15.83315 16.52141 16.22838 16.41727 16.48008 16.02357 16.33121\n",
      "[17] 16.03063 15.88137 16.39367 15.74028 16.74964 15.61692 16.01321 16.56021\n",
      "[25] 16.22542\n"
     ]
    },
    {
     "data": {
      "image/png": "[encoded data removed]",
      "text/plain": [
       "Plot with title \"CV_Err of Candidate Poly Fits\""
      ]
     },
     "metadata": {
      "image/png": {
       "height": 420,
       "width": 420
      },
      "text/plain": {
       "height": 420,
       "width": 420
      }
     },
     "output_type": "display_data"
    }
   ],
   "source": [
    "set.seed(1)\n",
    "for (i in 1:max_deg)\n",
    "{\n",
    "    for (j in 1:max_deg)\n",
    "    {\n",
    "       model <- glm(mpg ~ poly(displacement,i) + poly(horsepower,j), data=Auto) \n",
    "       poly_mse_storage[max_deg*(i-1)+j] <-  cv.glm(data=Auto, glmfit=model, K=10)$delta[1]\n",
    "    }\n",
    "}\n",
    "print(poly_mse_storage)\n",
    "# Viz MSE results.  As the first candidate (linear fit for both) is so much worse than others, exclude it\n",
    "# to improve clarity:\n",
    "plot(2:max_deg^2, poly_mse_storage[2:max_deg^2], xlab=\"Poly_Fit\", ylab=\"CV_Err\", main=\"CV_Err of Candidate Poly Fits\")"
   ]
  },
  {
   "cell_type": "code",
   "execution_count": 9,
   "metadata": {},
   "outputs": [
    {
     "name": "stdout",
     "output_type": "stream",
     "text": [
      "[1] 22\n"
     ]
    }
   ],
   "source": [
    "print(which.min(poly_mse_storage))\n",
    "# When setting the seed as 1, the 22nd item is optimal.  Let's try another seed:"
   ]
  },
  {
   "cell_type": "code",
   "execution_count": 10,
   "metadata": {},
   "outputs": [
    {
     "data": {
      "image/png": "[encoded data removed]",
      "text/plain": [
       "Plot with title \"CV_Err of Candidate Poly Fits\""
      ]
     },
     "metadata": {
      "image/png": {
       "height": 420,
       "width": 420
      },
      "text/plain": {
       "height": 420,
       "width": 420
      }
     },
     "output_type": "display_data"
    }
   ],
   "source": [
    "set.seed(2)\n",
    "for (i in 1:max_deg)\n",
    "{\n",
    "    for (j in 1:max_deg)\n",
    "    {\n",
    "       model <- glm(mpg ~ poly(displacement,i) + poly(horsepower,j), data=Auto) \n",
    "       poly_mse_storage[max_deg*(i-1)+j] <-  cv.glm(data=Auto, glmfit=model, K=10)$delta[1]\n",
    "    }\n",
    "}\n",
    "# Viz MSE results.  As the first candidate (linear fit for both) is so much worse than others, exclude it\n",
    "# to improve clarity:\n",
    "plot(2:max_deg^2, poly_mse_storage[2:max_deg^2], xlab=\"Poly_Fit\", ylab=\"CV_Err\", main=\"CV_Err of Candidate Poly Fits\")"
   ]
  },
  {
   "cell_type": "code",
   "execution_count": 11,
   "metadata": {},
   "outputs": [
    {
     "name": "stdout",
     "output_type": "stream",
     "text": [
      "[1] 25\n"
     ]
    }
   ],
   "source": [
    "print(which.min(poly_mse_storage))\n",
    "# Now the 25th option looks optimal.  "
   ]
  },
  {
   "cell_type": "code",
   "execution_count": 12,
   "metadata": {},
   "outputs": [],
   "source": [
    "# One approach would be to CV over the possible choices for K in K-fold CV.  However, for simplicity, I will\n",
    "# iterate over 10 choices of seed with 10-fold CV, and take the indicated optimal there.\n",
    "# Parms:\n",
    "max_deg <- 5\n",
    "num_runs <- 10\n",
    "# Allocate 2D array to hold results from all the runs:\n",
    "poly_mse_storage_mat <- matrix(0, nrow=max_deg^2, ncol=num_runs)\n",
    "for (k in 1:num_runs)\n",
    "{\n",
    "    set.seed(k)\n",
    "    for (i in 1:max_deg)\n",
    "    {\n",
    "        for (j in 1:max_deg)\n",
    "        {\n",
    "           model <- glm(mpg ~ poly(displacement,i) + poly(horsepower,j), data=Auto) \n",
    "           poly_mse_storage_mat[max_deg*(i-1)+j, k] <-  cv.glm(data=Auto, glmfit=model, K=10)$delta[1]\n",
    "           # I was using this to troubleshoot previously: print(poly_mse_storage_mat)\n",
    "        }\n",
    "    }\n",
    "}"
   ]
  },
  {
   "cell_type": "code",
   "execution_count": 13,
   "metadata": {},
   "outputs": [
    {
     "data": {
      "text/html": [
       "<table>\n",
       "<caption>A matrix: 3 × 10 of type dbl</caption>\n",
       "<tbody>\n",
       "\t<tr><td>20.66342</td><td>20.78089</td><td>20.84346</td><td>20.68366</td><td>20.78956</td><td>20.82469</td><td>21.01419</td><td>20.97403</td><td>20.84403</td><td>20.60274</td></tr>\n",
       "\t<tr><td>17.12867</td><td>17.03482</td><td>16.87322</td><td>17.14624</td><td>17.19297</td><td>17.14665</td><td>17.39167</td><td>16.89519</td><td>17.11850</td><td>17.19118</td></tr>\n",
       "\t<tr><td>16.80995</td><td>16.83397</td><td>16.88031</td><td>16.69890</td><td>16.70879</td><td>16.82109</td><td>16.70969</td><td>16.74930</td><td>16.64109</td><td>16.88616</td></tr>\n",
       "</tbody>\n",
       "</table>\n"
      ],
      "text/latex": [
       "A matrix: 3 × 10 of type dbl\n",
       "\\begin{tabular}{llllllllll}\n",
       "\t 20.66342 & 20.78089 & 20.84346 & 20.68366 & 20.78956 & 20.82469 & 21.01419 & 20.97403 & 20.84403 & 20.60274\\\\\n",
       "\t 17.12867 & 17.03482 & 16.87322 & 17.14624 & 17.19297 & 17.14665 & 17.39167 & 16.89519 & 17.11850 & 17.19118\\\\\n",
       "\t 16.80995 & 16.83397 & 16.88031 & 16.69890 & 16.70879 & 16.82109 & 16.70969 & 16.74930 & 16.64109 & 16.88616\\\\\n",
       "\\end{tabular}\n"
      ],
      "text/markdown": [
       "\n",
       "A matrix: 3 × 10 of type dbl\n",
       "\n",
       "| 20.66342 | 20.78089 | 20.84346 | 20.68366 | 20.78956 | 20.82469 | 21.01419 | 20.97403 | 20.84403 | 20.60274 |\n",
       "| 17.12867 | 17.03482 | 16.87322 | 17.14624 | 17.19297 | 17.14665 | 17.39167 | 16.89519 | 17.11850 | 17.19118 |\n",
       "| 16.80995 | 16.83397 | 16.88031 | 16.69890 | 16.70879 | 16.82109 | 16.70969 | 16.74930 | 16.64109 | 16.88616 |\n",
       "\n"
      ],
      "text/plain": [
       "     [,1]     [,2]     [,3]     [,4]     [,5]     [,6]     [,7]     [,8]    \n",
       "[1,] 20.66342 20.78089 20.84346 20.68366 20.78956 20.82469 21.01419 20.97403\n",
       "[2,] 17.12867 17.03482 16.87322 17.14624 17.19297 17.14665 17.39167 16.89519\n",
       "[3,] 16.80995 16.83397 16.88031 16.69890 16.70879 16.82109 16.70969 16.74930\n",
       "     [,9]     [,10]   \n",
       "[1,] 20.84403 20.60274\n",
       "[2,] 17.11850 17.19118\n",
       "[3,] 16.64109 16.88616"
      ]
     },
     "metadata": {},
     "output_type": "display_data"
    },
    {
     "data": {
      "text/html": [
       "25"
      ],
      "text/latex": [
       "25"
      ],
      "text/markdown": [
       "25"
      ],
      "text/plain": [
       "[1] 25"
      ]
     },
     "metadata": {},
     "output_type": "display_data"
    },
    {
     "data": {
      "text/html": [
       "10"
      ],
      "text/latex": [
       "10"
      ],
      "text/markdown": [
       "10"
      ],
      "text/plain": [
       "[1] 10"
      ]
     },
     "metadata": {},
     "output_type": "display_data"
    }
   ],
   "source": [
    "# Let's look at the output matrix:\n",
    "head(poly_mse_storage_mat, 3)\n",
    "nrow(poly_mse_storage_mat)\n",
    "ncol(poly_mse_storage_mat)\n",
    "# print(poly_mse_storage_mat)\n",
    "# Each column = one choice of seed, each row in a col is one combo of powers of the poly."
   ]
  },
  {
   "cell_type": "code",
   "execution_count": 14,
   "metadata": {},
   "outputs": [
    {
     "data": {
      "image/png": "[encoded data removed]",
      "text/plain": [
       "plot without title"
      ]
     },
     "metadata": {
      "image/png": {
       "height": 420,
       "width": 420
      },
      "text/plain": {
       "height": 420,
       "width": 420
      }
     },
     "output_type": "display_data"
    }
   ],
   "source": [
    "avg_allruns <- apply(data.frame(poly_mse_storage_mat), 1, mean)\n",
    "# As the first option is uncompetitive, plot the others for clarity:\n",
    "plot(2:25, avg_allruns[2:25], xlab=\"Candidate_No\", ylab=\"Avg CV MSE over seed vals\")"
   ]
  },
  {
   "cell_type": "code",
   "execution_count": 15,
   "metadata": {},
   "outputs": [
    {
     "data": {
      "text/html": [
       "22"
      ],
      "text/latex": [
       "22"
      ],
      "text/markdown": [
       "22"
      ],
      "text/plain": [
       "[1] 22"
      ]
     },
     "metadata": {},
     "output_type": "display_data"
    }
   ],
   "source": [
    "which.min(avg_allruns)\n",
    "# Again, the 22nd candidate is optimal, which corresponds to (5,2) for orders of polyomials in (displacement, horsepower)\n",
    "# expand.grid(1:5, 1:5)"
   ]
  },
  {
   "cell_type": "code",
   "execution_count": 16,
   "metadata": {},
   "outputs": [],
   "source": [
    "# Nonlinear method 2: normal splines via GAMs.\n",
    "# For normal splines 1-5 intervals for each of the two feature vars, I will loop through and evaluate the CV error\n",
    "# of each candidate model:\n",
    "# One approach would be to CV over the possible choices for K in K-fold CV.  However, for simplicity, I will\n",
    "# iterate over 10 choices of seed with 10-fold CV, and take the indicated optimal there.\n",
    "# Parms:\n",
    "max_deg_sp <- 5\n",
    "num_runs_sp <- 10\n",
    "# Allocate 2D array to hold results from all the runs:\n",
    "poly_mse_storage_mat_sp <- matrix(0, nrow=max_deg_sp^2, ncol=num_runs_sp)\n",
    "for (k in 1:num_runs_sp)\n",
    "{\n",
    "    set.seed(k)\n",
    "    for (i in 1:max_deg_sp)\n",
    "    {\n",
    "        for (j in 1:max_deg_sp)\n",
    "        {\n",
    "           model <- glm(mpg ~ ns(displacement,i) + ns(horsepower,j), data=Auto) \n",
    "           poly_mse_storage_mat_sp[max_deg_sp*(i-1)+j, k] <-  cv.glm(data=Auto, glmfit=model, K=10)$delta[1]\n",
    "           # I was using this to troubleshoot previously: print(poly_mse_storage_mat)\n",
    "        }\n",
    "    }\n",
    "}"
   ]
  },
  {
   "cell_type": "code",
   "execution_count": 17,
   "metadata": {},
   "outputs": [
    {
     "data": {
      "text/html": [
       "<table>\n",
       "<caption>A matrix: 3 × 10 of type dbl</caption>\n",
       "<tbody>\n",
       "\t<tr><td>20.66342</td><td>20.78089</td><td>20.84346</td><td>20.68366</td><td>20.78956</td><td>20.82469</td><td>21.01419</td><td>20.97403</td><td>20.84403</td><td>20.60274</td></tr>\n",
       "\t<tr><td>16.85211</td><td>16.70982</td><td>16.55828</td><td>16.80506</td><td>16.89120</td><td>16.82239</td><td>17.09357</td><td>16.57273</td><td>16.80019</td><td>16.88985</td></tr>\n",
       "\t<tr><td>16.71319</td><td>16.78338</td><td>16.73214</td><td>16.59386</td><td>16.62768</td><td>16.77334</td><td>16.59078</td><td>16.68769</td><td>16.58149</td><td>16.89072</td></tr>\n",
       "</tbody>\n",
       "</table>\n"
      ],
      "text/latex": [
       "A matrix: 3 × 10 of type dbl\n",
       "\\begin{tabular}{llllllllll}\n",
       "\t 20.66342 & 20.78089 & 20.84346 & 20.68366 & 20.78956 & 20.82469 & 21.01419 & 20.97403 & 20.84403 & 20.60274\\\\\n",
       "\t 16.85211 & 16.70982 & 16.55828 & 16.80506 & 16.89120 & 16.82239 & 17.09357 & 16.57273 & 16.80019 & 16.88985\\\\\n",
       "\t 16.71319 & 16.78338 & 16.73214 & 16.59386 & 16.62768 & 16.77334 & 16.59078 & 16.68769 & 16.58149 & 16.89072\\\\\n",
       "\\end{tabular}\n"
      ],
      "text/markdown": [
       "\n",
       "A matrix: 3 × 10 of type dbl\n",
       "\n",
       "| 20.66342 | 20.78089 | 20.84346 | 20.68366 | 20.78956 | 20.82469 | 21.01419 | 20.97403 | 20.84403 | 20.60274 |\n",
       "| 16.85211 | 16.70982 | 16.55828 | 16.80506 | 16.89120 | 16.82239 | 17.09357 | 16.57273 | 16.80019 | 16.88985 |\n",
       "| 16.71319 | 16.78338 | 16.73214 | 16.59386 | 16.62768 | 16.77334 | 16.59078 | 16.68769 | 16.58149 | 16.89072 |\n",
       "\n"
      ],
      "text/plain": [
       "     [,1]     [,2]     [,3]     [,4]     [,5]     [,6]     [,7]     [,8]    \n",
       "[1,] 20.66342 20.78089 20.84346 20.68366 20.78956 20.82469 21.01419 20.97403\n",
       "[2,] 16.85211 16.70982 16.55828 16.80506 16.89120 16.82239 17.09357 16.57273\n",
       "[3,] 16.71319 16.78338 16.73214 16.59386 16.62768 16.77334 16.59078 16.68769\n",
       "     [,9]     [,10]   \n",
       "[1,] 20.84403 20.60274\n",
       "[2,] 16.80019 16.88985\n",
       "[3,] 16.58149 16.89072"
      ]
     },
     "metadata": {},
     "output_type": "display_data"
    },
    {
     "data": {
      "text/html": [
       "25"
      ],
      "text/latex": [
       "25"
      ],
      "text/markdown": [
       "25"
      ],
      "text/plain": [
       "[1] 25"
      ]
     },
     "metadata": {},
     "output_type": "display_data"
    },
    {
     "data": {
      "text/html": [
       "10"
      ],
      "text/latex": [
       "10"
      ],
      "text/markdown": [
       "10"
      ],
      "text/plain": [
       "[1] 10"
      ]
     },
     "metadata": {},
     "output_type": "display_data"
    }
   ],
   "source": [
    "# Let's look at the output matrix:\n",
    "head(poly_mse_storage_mat_sp, 3)\n",
    "nrow(poly_mse_storage_mat_sp)\n",
    "ncol(poly_mse_storage_mat_sp)\n",
    "# Each column = one choice of seed, each row in a col is one combo of powers of the spline."
   ]
  },
  {
   "cell_type": "code",
   "execution_count": 18,
   "metadata": {},
   "outputs": [
    {
     "data": {
      "image/png": "[encoded data removed]",
      "text/plain": [
       "plot without title"
      ]
     },
     "metadata": {
      "image/png": {
       "height": 420,
       "width": 420
      },
      "text/plain": {
       "height": 420,
       "width": 420
      }
     },
     "output_type": "display_data"
    }
   ],
   "source": [
    "avg_allruns_splines <- apply(data.frame(poly_mse_storage_mat_sp), 1, mean)\n",
    "# As the first option is uncompetitive, plot the others for clarity:\n",
    "plot(2:25, avg_allruns_splines[2:25], xlab=\"Candidate_No\", ylab=\"Avg CV MSE over seed vals\")"
   ]
  },
  {
   "cell_type": "code",
   "execution_count": 19,
   "metadata": {},
   "outputs": [
    {
     "data": {
      "text/html": [
       "15"
      ],
      "text/latex": [
       "15"
      ],
      "text/markdown": [
       "15"
      ],
      "text/plain": [
       "[1] 15"
      ]
     },
     "metadata": {},
     "output_type": "display_data"
    }
   ],
   "source": [
    "which.min(avg_allruns_splines)\n",
    "# print(min(avg_allruns_splines))\n",
    "# Here the 15th candidate is optimal, which corresponds to (3,5) for intervals in (displacement, horsepower)"
   ]
  },
  {
   "cell_type": "code",
   "execution_count": 20,
   "metadata": {},
   "outputs": [
    {
     "name": "stdout",
     "output_type": "stream",
     "text": [
      "[1] 20.80207 15.88371 15.86779\n"
     ]
    },
    {
     "data": {
      "image/png": "[encoded data removed]",
      "text/plain": [
       "Plot with title \"CV_MSE\""
      ]
     },
     "metadata": {
      "image/png": {
       "height": 420,
       "width": 420
      },
      "text/plain": {
       "height": 420,
       "width": 420
      }
     },
     "output_type": "display_data"
    }
   ],
   "source": [
    "print(c(ols_error, avg_allruns[22], avg_allruns_splines[15]))\n",
    "# This suggests that the optimal spline produces a slightly better result than the optimal polynomial solution, which are\n",
    "# both significantly superior to the OLS solution.\n",
    "lab <- c(\"OLS\", \"Best_Poly\", \"Best_Spline\")\n",
    "barplot(c(ols_error, avg_allruns[22], avg_allruns_splines[15]), main=\"CV_MSE\", names.arg=lab)"
   ]
  },
  {
   "cell_type": "code",
   "execution_count": 21,
   "metadata": {},
   "outputs": [
    {
     "data": {
      "text/plain": [
       "\n",
       "Call:\n",
       "lm(formula = mpg ~ displacement + I(displacement^2) + horsepower + \n",
       "    I(horsepower^2))\n",
       "\n",
       "Residuals:\n",
       "     Min       1Q   Median       3Q      Max \n",
       "-12.0145  -2.2646  -0.4358   2.2453  16.4228 \n",
       "\n",
       "Coefficients:\n",
       "                    Estimate Std. Error t value Pr(>|t|)    \n",
       "(Intercept)        5.288e+01  1.721e+00  30.722  < 2e-16 ***\n",
       "displacement      -9.954e-02  1.451e-02  -6.860 2.74e-11 ***\n",
       "I(displacement^2)  1.566e-04  3.295e-05   4.751 2.85e-06 ***\n",
       "horsepower        -2.344e-01  4.021e-02  -5.829 1.18e-08 ***\n",
       "I(horsepower^2)    5.466e-04  1.607e-04   3.403 0.000736 ***\n",
       "---\n",
       "Signif. codes:  0 '***' 0.001 '**' 0.01 '*' 0.05 '.' 0.1 ' ' 1\n",
       "\n",
       "Residual standard error: 3.987 on 387 degrees of freedom\n",
       "Multiple R-squared:  0.7418,\tAdjusted R-squared:  0.7391 \n",
       "F-statistic: 277.9 on 4 and 387 DF,  p-value: < 2.2e-16\n"
      ]
     },
     "metadata": {},
     "output_type": "display_data"
    }
   ],
   "source": [
    "# One further informative plot to justify the non-linear patterns that I see in the data are the statistical significance\n",
    "# of the 2nd order terms seen in the model:\n",
    "ip1 <- lm(mpg~displacement+I(displacement^2)+horsepower+I(horsepower^2))\n",
    "summary(ip1)\n",
    "# Below, both t-stats of the second order terms are >2 and p-values are less than 0.01, suggesting\n",
    "# justification for inclusion of the second order terms incremental to the presence of first-order terms."
   ]
  },
  {
   "cell_type": "code",
   "execution_count": 22,
   "metadata": {},
   "outputs": [],
   "source": [
    "# A second further informative plot will simply be a plot of each of a second degree and linear polynomial fit\n",
    "# for each variable to the data to qualitatively see the improved fit from just a second order term.\n",
    "disp_first <- lm(mpg~displacement, data=Auto)\n",
    "disp_second <- lm(mpg~displacement+I(displacement^2), data=Auto)\n",
    "horsepower_first <- lm(mpg~horsepower, data=Auto)\n",
    "horsepower_second <- lm(mpg~horsepower+I(horsepower^2), data=Auto)"
   ]
  },
  {
   "cell_type": "code",
   "execution_count": 43,
   "metadata": {},
   "outputs": [
    {
     "data": {
      "image/png": "[encoded data removed]",
      "text/plain": [
       "plot without title"
      ]
     },
     "metadata": {
      "image/png": {
       "height": 420,
       "width": 420
      },
      "text/plain": {
       "height": 420,
       "width": 420
      }
     },
     "output_type": "display_data"
    }
   ],
   "source": [
    "# Displacement plot:\n",
    "d_range <- range(displacement)\n",
    "d_grid <- seq(from=d_range[1], to=d_range[2])\n",
    "d_pred <- predict(disp_first, newdata=data.frame(displacement=d_grid))\n",
    "d_pred2 <- predict(disp_second, newdata=data.frame(displacement=d_grid))\n",
    "plot(Auto$displacement, Auto$mpg)\n",
    "lines(d_grid, d_pred, lwd=4, col=\"blue\")\n",
    "lines(d_grid, d_pred2, lwd=4, col=\"red\")\n",
    "# Clearly the quadratic curve fits better in the left and right tails, and thus qualitatively provides a better fit."
   ]
  },
  {
   "cell_type": "code",
   "execution_count": 50,
   "metadata": {},
   "outputs": [
    {
     "data": {
      "image/png": "[encoded data removed]",
      "text/plain": [
       "plot without title"
      ]
     },
     "metadata": {
      "image/png": {
       "height": 420,
       "width": 420
      },
      "text/plain": {
       "height": 420,
       "width": 420
      }
     },
     "output_type": "display_data"
    }
   ],
   "source": [
    "# Horsepower plot:\n",
    "h_range <- range(horsepower)\n",
    "h_grid <- seq(from=h_range[1], to=h_range[2])\n",
    "h_pred <- predict(horsepower_first, newdata=data.frame(horsepower=h_grid))\n",
    "h_pred2 <- predict(horsepower_second, newdata=data.frame(horsepower=h_grid))\n",
    "plot(horsepower, mpg)\n",
    "lines(h_grid, h_pred, lwd=4, col=\"blue\")\n",
    "lines(h_grid, h_pred2, lwd=4, col=\"red\")\n",
    "# Clearly the quadratic curve fits better in the left and right tails, and thus qualitatively provides a better fit."
   ]
  }
 ],
 "metadata": {
  "kernelspec": {
   "display_name": "R",
   "language": "R",
   "name": "ir"
  },
  "language_info": {
   "codemirror_mode": "r",
   "file_extension": ".r",
   "mimetype": "text/x-r-source",
   "name": "R",
   "pygments_lexer": "r",
   "version": "3.5.1"
  }
 },
 "nbformat": 4,
 "nbformat_minor": 2
}
