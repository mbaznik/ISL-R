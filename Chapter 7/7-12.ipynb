{
 "cells": [
  {
   "cell_type": "code",
   "execution_count": 32,
   "metadata": {},
   "outputs": [],
   "source": [
    "# Exercise 7-12\n",
    "rm(list=ls())"
   ]
  },
  {
   "cell_type": "code",
   "execution_count": 33,
   "metadata": {},
   "outputs": [],
   "source": [
    "# Parms:\n",
    "n <- 200\n",
    "p <- 100\n",
    "n_iter <- 50\n",
    "scale <- 20\n",
    "shift <- 10"
   ]
  },
  {
   "cell_type": "code",
   "execution_count": 34,
   "metadata": {},
   "outputs": [
    {
     "name": "stdout",
     "output_type": "stream",
     "text": [
      "            temp       temp      temp      temp\n",
      "[1,] 1 -4.689827 -4.6498359  3.177552  6.285035\n",
      "[2,] 1 -2.557522 -5.6270943 -6.298601  8.575545\n",
      "[3,] 1  1.457067  0.3359367  9.087563 -7.050379\n",
      "[4,] 1  8.164156 -4.6209882  7.956970  4.996433\n",
      "[5,] 1 -5.966361 -6.3766335  8.873941  9.513147\n"
     ]
    }
   ],
   "source": [
    "# Create feature data: one matrix with covariates only and a second with intercept appended:\n",
    "set.seed(1)\n",
    "x <- c()\n",
    "for (i in 1:p)\n",
    "{\n",
    "    temp <- (runif(n)*scale-shift)\n",
    "    x <- cbind(x, temp)\n",
    "}\n",
    "# nrow(x); ncol(x)\n",
    "\n",
    "# Append intercept col:\n",
    "x_int <- cbind(matrix(1,nrow=nrow(x),ncol=1), x)\n",
    "print(x_int[1:5,1:5])"
   ]
  },
  {
   "cell_type": "code",
   "execution_count": 35,
   "metadata": {},
   "outputs": [],
   "source": [
    "# Create true parms:\n",
    "coef_pool_init <- seq(from=-10, to=10, by=1)\n",
    "# Need to exclude 0 or else it will cause numerical issues with the regression.\n",
    "coef_pool <- coef_pool_init[-11]\n",
    "# Select (p+1) coefficients: for the p features plus the 1 intercept:\n",
    "beta_true <- matrix(sample(coef_pool, p+1, replace=TRUE))\n",
    "# nrow(beta_true); ncol(beta_true)\n",
    "# nrow(x_int); ncol(x_int)\n",
    "\n",
    "# Create response:\n",
    "y <- (x_int %*% beta_true)\n",
    "# nrow(y); ncol(y)\n",
    "# head(y)\n",
    "\n",
    "# Initialize matrix to hold beta estimates after each iteration, and ensure that the parm estimates\n",
    "# chosen for the first iter is different from beta_true:\n",
    "set.seed(2)\n",
    "beta_est <- matrix(sample(coef_pool, p+1, replace=TRUE))\n",
    "# nrow(beta_est); ncol(beta_est)\n",
    "# print(beta_est); print(beta_true)"
   ]
  },
  {
   "cell_type": "code",
   "execution_count": 36,
   "metadata": {},
   "outputs": [],
   "source": [
    "# Perform backfitting algorithm:\n",
    "beta_storage <- beta_est\n",
    "for (j in 1:n_iter)  \n",
    "{\n",
    "    for (k in 1:p)\n",
    "    {\n",
    "        # Create index var, since 1st var will be int, 2nd var is first feature, etc.\n",
    "        index <- (k+1)\n",
    "        beta_helper <- matrix(beta_est[-c(1,index)], nrow=(p-1), ncol=1)\n",
    "        # First step: offset\n",
    "        y_offset <- (y - x[,-k] %*% beta_helper)\n",
    "        model <- lm(y_offset~x[,k])\n",
    "        # Save coef before the feature in question (this will always be the 2nd coef in a simmple regression):\n",
    "        beta_est[index,1] <- model$coef[2]\n",
    "        # print(beta_est)\n",
    "    }\n",
    "    # Update intercept at the end of each iteration:\n",
    "    beta_est[1,1] <- model$coef[1]\n",
    "    # Save values at end of each iteration:\n",
    "    beta_storage <- cbind(beta_storage, beta_est)\n",
    "}"
   ]
  },
  {
   "cell_type": "code",
   "execution_count": 37,
   "metadata": {},
   "outputs": [
    {
     "data": {
      "text/html": [
       "<table>\n",
       "<caption>A matrix: 6 × 51 of type dbl</caption>\n",
       "<tbody>\n",
       "\t<tr><td>-7</td><td> 14.054528</td><td> 5.2220699</td><td>-1.4241989</td><td>-3.6027597</td><td>-4.843335</td><td>-5.644500</td><td>-6.133595</td><td>-6.405157</td><td>-6.528645</td><td>...</td><td>-6.001036</td><td>-6.000836</td><td>-6.000675</td><td>-6.000546</td><td>-6.000441</td><td>-6.000357</td><td>-6.000288</td><td>-6.000233</td><td>-6.000189</td><td>-6.000153</td></tr>\n",
       "\t<tr><td> 5</td><td>-15.684737</td><td>-7.9271014</td><td>-6.3062204</td><td>-6.8700967</td><td>-7.221194</td><td>-7.432176</td><td>-7.570634</td><td>-7.666060</td><td>-7.736777</td><td>...</td><td>-7.999885</td><td>-7.999908</td><td>-7.999926</td><td>-7.999941</td><td>-7.999953</td><td>-7.999962</td><td>-7.999969</td><td>-7.999975</td><td>-7.999980</td><td>-7.999984</td></tr>\n",
       "\t<tr><td> 2</td><td> -6.242017</td><td>-4.7794825</td><td>-5.3335941</td><td>-6.0066968</td><td>-6.574194</td><td>-7.009888</td><td>-7.319722</td><td>-7.533810</td><td>-7.680075</td><td>...</td><td>-7.999861</td><td>-7.999886</td><td>-7.999906</td><td>-7.999923</td><td>-7.999937</td><td>-7.999948</td><td>-7.999957</td><td>-7.999965</td><td>-7.999971</td><td>-7.999976</td></tr>\n",
       "\t<tr><td>-7</td><td> -5.922028</td><td>-5.6530582</td><td>-5.2351854</td><td>-4.8765126</td><td>-4.478463</td><td>-4.177536</td><td>-3.989112</td><td>-3.881798</td><td>-3.828474</td><td>...</td><td>-3.999536</td><td>-3.999626</td><td>-3.999698</td><td>-3.999757</td><td>-3.999804</td><td>-3.999842</td><td>-3.999872</td><td>-3.999897</td><td>-3.999917</td><td>-3.999933</td></tr>\n",
       "\t<tr><td> 9</td><td>-15.271229</td><td>-9.5018913</td><td>-7.5783403</td><td>-6.9480956</td><td>-6.793465</td><td>-6.794488</td><td>-6.852343</td><td>-6.917578</td><td>-6.969834</td><td>...</td><td>-7.000142</td><td>-7.000114</td><td>-7.000092</td><td>-7.000074</td><td>-7.000060</td><td>-7.000048</td><td>-7.000039</td><td>-7.000031</td><td>-7.000025</td><td>-7.000020</td></tr>\n",
       "\t<tr><td> 9</td><td>  2.612389</td><td>-0.3312846</td><td> 0.3356151</td><td> 0.6102665</td><td> 0.870394</td><td> 1.028555</td><td> 1.113080</td><td> 1.149922</td><td> 1.157915</td><td>...</td><td> 1.000250</td><td> 1.000200</td><td> 1.000160</td><td> 1.000129</td><td> 1.000103</td><td> 1.000083</td><td> 1.000066</td><td> 1.000053</td><td> 1.000043</td><td> 1.000034</td></tr>\n",
       "</tbody>\n",
       "</table>\n"
      ],
      "text/latex": [
       "A matrix: 6 × 51 of type dbl\n",
       "\\begin{tabular}{lllllllllllllllllllll}\n",
       "\t -7 &  14.054528 &  5.2220699 & -1.4241989 & -3.6027597 & -4.843335 & -5.644500 & -6.133595 & -6.405157 & -6.528645 & ... & -6.001036 & -6.000836 & -6.000675 & -6.000546 & -6.000441 & -6.000357 & -6.000288 & -6.000233 & -6.000189 & -6.000153\\\\\n",
       "\t  5 & -15.684737 & -7.9271014 & -6.3062204 & -6.8700967 & -7.221194 & -7.432176 & -7.570634 & -7.666060 & -7.736777 & ... & -7.999885 & -7.999908 & -7.999926 & -7.999941 & -7.999953 & -7.999962 & -7.999969 & -7.999975 & -7.999980 & -7.999984\\\\\n",
       "\t  2 &  -6.242017 & -4.7794825 & -5.3335941 & -6.0066968 & -6.574194 & -7.009888 & -7.319722 & -7.533810 & -7.680075 & ... & -7.999861 & -7.999886 & -7.999906 & -7.999923 & -7.999937 & -7.999948 & -7.999957 & -7.999965 & -7.999971 & -7.999976\\\\\n",
       "\t -7 &  -5.922028 & -5.6530582 & -5.2351854 & -4.8765126 & -4.478463 & -4.177536 & -3.989112 & -3.881798 & -3.828474 & ... & -3.999536 & -3.999626 & -3.999698 & -3.999757 & -3.999804 & -3.999842 & -3.999872 & -3.999897 & -3.999917 & -3.999933\\\\\n",
       "\t  9 & -15.271229 & -9.5018913 & -7.5783403 & -6.9480956 & -6.793465 & -6.794488 & -6.852343 & -6.917578 & -6.969834 & ... & -7.000142 & -7.000114 & -7.000092 & -7.000074 & -7.000060 & -7.000048 & -7.000039 & -7.000031 & -7.000025 & -7.000020\\\\\n",
       "\t  9 &   2.612389 & -0.3312846 &  0.3356151 &  0.6102665 &  0.870394 &  1.028555 &  1.113080 &  1.149922 &  1.157915 & ... &  1.000250 &  1.000200 &  1.000160 &  1.000129 &  1.000103 &  1.000083 &  1.000066 &  1.000053 &  1.000043 &  1.000034\\\\\n",
       "\\end{tabular}\n"
      ],
      "text/markdown": [
       "\n",
       "A matrix: 6 × 51 of type dbl\n",
       "\n",
       "| -7 |  14.054528 |  5.2220699 | -1.4241989 | -3.6027597 | -4.843335 | -5.644500 | -6.133595 | -6.405157 | -6.528645 | ... | -6.001036 | -6.000836 | -6.000675 | -6.000546 | -6.000441 | -6.000357 | -6.000288 | -6.000233 | -6.000189 | -6.000153 |\n",
       "|  5 | -15.684737 | -7.9271014 | -6.3062204 | -6.8700967 | -7.221194 | -7.432176 | -7.570634 | -7.666060 | -7.736777 | ... | -7.999885 | -7.999908 | -7.999926 | -7.999941 | -7.999953 | -7.999962 | -7.999969 | -7.999975 | -7.999980 | -7.999984 |\n",
       "|  2 |  -6.242017 | -4.7794825 | -5.3335941 | -6.0066968 | -6.574194 | -7.009888 | -7.319722 | -7.533810 | -7.680075 | ... | -7.999861 | -7.999886 | -7.999906 | -7.999923 | -7.999937 | -7.999948 | -7.999957 | -7.999965 | -7.999971 | -7.999976 |\n",
       "| -7 |  -5.922028 | -5.6530582 | -5.2351854 | -4.8765126 | -4.478463 | -4.177536 | -3.989112 | -3.881798 | -3.828474 | ... | -3.999536 | -3.999626 | -3.999698 | -3.999757 | -3.999804 | -3.999842 | -3.999872 | -3.999897 | -3.999917 | -3.999933 |\n",
       "|  9 | -15.271229 | -9.5018913 | -7.5783403 | -6.9480956 | -6.793465 | -6.794488 | -6.852343 | -6.917578 | -6.969834 | ... | -7.000142 | -7.000114 | -7.000092 | -7.000074 | -7.000060 | -7.000048 | -7.000039 | -7.000031 | -7.000025 | -7.000020 |\n",
       "|  9 |   2.612389 | -0.3312846 |  0.3356151 |  0.6102665 |  0.870394 |  1.028555 |  1.113080 |  1.149922 |  1.157915 | ... |  1.000250 |  1.000200 |  1.000160 |  1.000129 |  1.000103 |  1.000083 |  1.000066 |  1.000053 |  1.000043 |  1.000034 |\n",
       "\n"
      ],
      "text/plain": [
       "     [,1] [,2]       [,3]       [,4]       [,5]       [,6]      [,7]     \n",
       "[1,] -7    14.054528  5.2220699 -1.4241989 -3.6027597 -4.843335 -5.644500\n",
       "[2,]  5   -15.684737 -7.9271014 -6.3062204 -6.8700967 -7.221194 -7.432176\n",
       "[3,]  2    -6.242017 -4.7794825 -5.3335941 -6.0066968 -6.574194 -7.009888\n",
       "[4,] -7    -5.922028 -5.6530582 -5.2351854 -4.8765126 -4.478463 -4.177536\n",
       "[5,]  9   -15.271229 -9.5018913 -7.5783403 -6.9480956 -6.793465 -6.794488\n",
       "[6,]  9     2.612389 -0.3312846  0.3356151  0.6102665  0.870394  1.028555\n",
       "     [,8]      [,9]      [,10]     [,11] [,12]     [,13]     [,14]    \n",
       "[1,] -6.133595 -6.405157 -6.528645 ...   -6.001036 -6.000836 -6.000675\n",
       "[2,] -7.570634 -7.666060 -7.736777 ...   -7.999885 -7.999908 -7.999926\n",
       "[3,] -7.319722 -7.533810 -7.680075 ...   -7.999861 -7.999886 -7.999906\n",
       "[4,] -3.989112 -3.881798 -3.828474 ...   -3.999536 -3.999626 -3.999698\n",
       "[5,] -6.852343 -6.917578 -6.969834 ...   -7.000142 -7.000114 -7.000092\n",
       "[6,]  1.113080  1.149922  1.157915 ...    1.000250  1.000200  1.000160\n",
       "     [,15]     [,16]     [,17]     [,18]     [,19]     [,20]     [,21]    \n",
       "[1,] -6.000546 -6.000441 -6.000357 -6.000288 -6.000233 -6.000189 -6.000153\n",
       "[2,] -7.999941 -7.999953 -7.999962 -7.999969 -7.999975 -7.999980 -7.999984\n",
       "[3,] -7.999923 -7.999937 -7.999948 -7.999957 -7.999965 -7.999971 -7.999976\n",
       "[4,] -3.999757 -3.999804 -3.999842 -3.999872 -3.999897 -3.999917 -3.999933\n",
       "[5,] -7.000074 -7.000060 -7.000048 -7.000039 -7.000031 -7.000025 -7.000020\n",
       "[6,]  1.000129  1.000103  1.000083  1.000066  1.000053  1.000043  1.000034"
      ]
     },
     "metadata": {},
     "output_type": "display_data"
    }
   ],
   "source": [
    "head(beta_storage)\n",
    "# Clearly more iterations are necessary to obtain a \"good\" approximation to the multiple regression estimates."
   ]
  },
  {
   "cell_type": "code",
   "execution_count": 38,
   "metadata": {},
   "outputs": [],
   "source": [
    "# Create multiple regression\n",
    "mult <- lm(y~x)\n",
    "# summary(mult)\n",
    "# Results are essentially the same as beta_true, so I'll use that.\n",
    "# Here I compute the 2-norm between each iter and beta_true:\n",
    "two_norm <- matrix(0, nrow=n_iter, ncol=1)\n",
    "for (i in 1:n_iter)\n",
    "{\n",
    "    two_norm[i,1] <- sqrt(sum((beta_storage[,(i+1)]-beta_true)^2))\n",
    "}"
   ]
  },
  {
   "cell_type": "code",
   "execution_count": 39,
   "metadata": {},
   "outputs": [
    {
     "data": {
      "image/png": "[encoded data removed]",
      "text/plain": [
       "plot without title"
      ]
     },
     "metadata": {
      "image/png": {
       "height": 420,
       "width": 420
      },
      "text/plain": {
       "height": 420,
       "width": 420
      }
     },
     "output_type": "display_data"
    }
   ],
   "source": [
    "# Plot:\n",
    "plot(1:n_iter, two_norm, xlab=\"Iteration Number\", ylab=\"Distance\")\n",
    "# Qualitatively speaking, it takes about 10 iterations in order to obtain a \"good approximation\" of beta_true.\n",
    "# I imagine this is due in part to the fact we had so many more (100) features, rather than just two."
   ]
  }
 ],
 "metadata": {
  "kernelspec": {
   "display_name": "R",
   "language": "R",
   "name": "ir"
  },
  "language_info": {
   "codemirror_mode": "r",
   "file_extension": ".r",
   "mimetype": "text/x-r-source",
   "name": "R",
   "pygments_lexer": "r",
   "version": "3.5.1"
  }
 },
 "nbformat": 4,
 "nbformat_minor": 2
}
