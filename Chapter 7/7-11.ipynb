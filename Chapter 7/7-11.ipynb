{
 "cells": [
  {
   "cell_type": "code",
   "execution_count": 7,
   "metadata": {},
   "outputs": [],
   "source": [
    "# Excercise 7-11\n",
    "rm(list=ls())"
   ]
  },
  {
   "cell_type": "code",
   "execution_count": 8,
   "metadata": {},
   "outputs": [
    {
     "name": "stdout",
     "output_type": "stream",
     "text": [
      "[1] 0.4538465\n"
     ]
    }
   ],
   "source": [
    "# Part a: Initialize x1, x2, and y:\n",
    "# Parms:\n",
    "n <- 100\n",
    "num_iter <- 1000  # For the loop\n",
    "shift_x <- 5\n",
    "scale_x <- 10\n",
    "shift_u <- 10\n",
    "scale_u <- 20\n",
    "b0_true <- 1\n",
    "b1_true <- 2\n",
    "b2_true <- -3\n",
    "# Generate x1 and x2 to be loosely correlated variables:\n",
    "set.seed(1)\n",
    "u1 <- runif(n)\n",
    "u2 <- runif(n)\n",
    "x1 <- (u1*scale_x-shift_x)\n",
    "x2 <- x1+(u2*scale_u-shift_u)\n",
    "# Cor should be slightly positive.\n",
    "print(cor(x1,x2))\n",
    "# Create y:\n",
    "y <- b0_true+b1_true*x1+b2_true*x2"
   ]
  },
  {
   "cell_type": "code",
   "execution_count": 9,
   "metadata": {},
   "outputs": [],
   "source": [
    "# Part b: Initialized b1:\n",
    "b1_hat <- -1"
   ]
  },
  {
   "cell_type": "code",
   "execution_count": 10,
   "metadata": {},
   "outputs": [],
   "source": [
    "# Part c: Fit model:\n",
    "y_offset_x1 <- (y-b1_hat*x1)\n",
    "b2_hat <- lm(y_offset_x1~x2)$coef[2]"
   ]
  },
  {
   "cell_type": "code",
   "execution_count": 11,
   "metadata": {},
   "outputs": [],
   "source": [
    "# Part d: update b1:\n",
    "y_offset_x2 <- (y-b2_hat*x2)\n",
    "b1_hat <- lm(y_offset_x2~x1)$coef[2]"
   ]
  },
  {
   "cell_type": "code",
   "execution_count": 12,
   "metadata": {},
   "outputs": [],
   "source": [
    "# Part e\n",
    "# Create storage vectors for coef at the end of each iter:\n",
    "b0_vec <- rep(0, num_iter)\n",
    "b1_vec <- rep(0, num_iter)\n",
    "b2_vec <- rep(0, num_iter)\n",
    "b1_hat <- -1\n",
    "# Iterate num_iter times and store coef values at end of each iter:\n",
    "for (l in 1:num_iter)\n",
    "{\n",
    "    # Part c: Given b1_hat, update b2_hat:\n",
    "    y_offset_x1 <- (y-b1_hat*x1)\n",
    "    b2_hat <- lm(y_offset_x1~x2)$coef[2]\n",
    "    # Part d: Given b2_hat, update b1_hat:\n",
    "    y_offset_x2 <- (y-b2_hat*x2)\n",
    "    b1_hat <- lm(y_offset_x2~x1)$coef[2]\n",
    "    # Save values at end of iteration:\n",
    "    b0_vec[l] <- lm(y_offset_x2~x1)$coef[1]\n",
    "    b1_vec[l] <- b1_hat\n",
    "    b2_vec[l] <- b2_hat\n",
    "}"
   ]
  },
  {
   "cell_type": "code",
   "execution_count": 36,
   "metadata": {},
   "outputs": [
    {
     "name": "stderr",
     "output_type": "stream",
     "text": [
      "Warning message in summary.lm(actual_reg):\n",
      "\"essentially perfect fit: summary may be unreliable\"\n"
     ]
    },
    {
     "data": {
      "text/plain": [
       "\n",
       "Call:\n",
       "lm(formula = y ~ x1 + x2)\n",
       "\n",
       "Residuals:\n",
       "       Min         1Q     Median         3Q        Max \n",
       "-2.705e-14 -2.078e-15 -9.220e-16  1.250e-16  1.049e-13 \n",
       "\n",
       "Coefficients:\n",
       "              Estimate Std. Error    t value Pr(>|t|)    \n",
       "(Intercept)  1.000e+00  1.168e-15  8.563e+14   <2e-16 ***\n",
       "x1           2.000e+00  4.901e-16  4.080e+15   <2e-16 ***\n",
       "x2          -3.000e+00  2.150e-16 -1.395e+16   <2e-16 ***\n",
       "---\n",
       "Signif. codes:  0 '***' 0.001 '**' 0.01 '*' 0.05 '.' 0.1 ' ' 1\n",
       "\n",
       "Residual standard error: 1.163e-14 on 97 degrees of freedom\n",
       "Multiple R-squared:      1,\tAdjusted R-squared:      1 \n",
       "F-statistic: 1.005e+32 on 2 and 97 DF,  p-value: < 2.2e-16\n"
      ]
     },
     "metadata": {},
     "output_type": "display_data"
    },
    {
     "name": "stdout",
     "output_type": "stream",
     "text": [
      "(Intercept) \n",
      "          1 \n"
     ]
    }
   ],
   "source": [
    "# Part f: Estimated from multiple linear regression:\n",
    "actual_reg <- lm(y~x1+x2)\n",
    "summary(actual_reg)\n",
    "print(actual_reg$coef[1])\n",
    "# Perfect fit is expected, as this is simulated data constructed for this purpose."
   ]
  },
  {
   "cell_type": "code",
   "execution_count": 38,
   "metadata": {
    "scrolled": true
   },
   "outputs": [
    {
     "data": {
      "image/png": "[encoded data removed]",
      "text/plain": [
       "plot without title"
      ]
     },
     "metadata": {
      "image/png": {
       "height": 420,
       "width": 420
      },
      "text/plain": {
       "height": 420,
       "width": 420
      }
     },
     "output_type": "display_data"
    }
   ],
   "source": [
    "# Plots from part e:\n",
    "plot(1:num_iter, b0_vec, col=\"red\", lwd=4, ylim=c(-3,2), xlab=\"Iteration Number\", ylab=\"Coef Value\")\n",
    "points(1:num_iter, b1_vec, col=\"blue\")\n",
    "points(1:num_iter, b2_vec, col=\"green\")\n",
    "legend(\"right\", legend=c(\"Beta0\", \"Beta1\", \"Beta2\"),\n",
    "       col=c(\"red\", \"blue\", \"green\"), lty=1:2, cex=1)\n",
    "# Overlay the estimated values (in 3 black lines) from the above reg:\n",
    "abline(a=actual_reg$coef[1], b=0, lwd=2)\n",
    "abline(a=actual_reg$coef[2], b=0, lwd=2)\n",
    "abline(a=actual_reg$coef[3], b=0, lwd=2)\n",
    "# Clearly the abline's plot of the estimated multiple regression results pass right through the \"steady state\"\n",
    "# values that each of the three parm time series values converge to. "
   ]
  },
  {
   "cell_type": "code",
   "execution_count": 56,
   "metadata": {},
   "outputs": [
    {
     "name": "stdout",
     "output_type": "stream",
     "text": [
      "[1] 2\n",
      "[1] 3\n",
      "[1] 2\n"
     ]
    },
    {
     "data": {
      "image/png": "[encoded data removed]",
      "text/plain": [
       "plot without title"
      ]
     },
     "metadata": {
      "image/png": {
       "height": 420,
       "width": 420
      },
      "text/plain": {
       "height": 420,
       "width": 420
      }
     },
     "output_type": "display_data"
    }
   ],
   "source": [
    "# Part g:\n",
    "plot(1:num_iter, b0_vec, col=\"red\", lwd=4, , xlim=c(1,10), ylim=c(-3,2), xlab=\"Iteration Number\", ylab=\"Coef Value\")\n",
    "points(1:num_iter, b1_vec, col=\"blue\")\n",
    "points(1:num_iter, b2_vec, col=\"green\")\n",
    "abline(a=actual_reg$coef[1], b=0, lwd=2)\n",
    "abline(a=actual_reg$coef[2], b=0, lwd=2)\n",
    "abline(a=actual_reg$coef[3], b=0, lwd=2)\n",
    "# Qualitatively, it takes about 3 iterations (=not many) to get \"good\" approximations.\n",
    "b0_ind_vec <- ifelse(abs((b0_vec/actual_reg$coef[1]-1))<0.05, abs((b0_vec/actual_reg$coef[1]-1)), 0)\n",
    "print(which.max(b0_ind_vec))\n",
    "b1_ind_vec <- ifelse(abs((b1_vec/actual_reg$coef[2]-1))<0.05, abs((b1_vec/actual_reg$coef[2]-1)), 0)\n",
    "print(which.max(b1_ind_vec))\n",
    "b2_ind_vec <- ifelse(abs((b2_vec/actual_reg$coef[3]-1))<0.05, abs((b2_vec/actual_reg$coef[3]-1)), 0)\n",
    "print(which.max(b2_ind_vec))\n",
    "# Quantitatively, if we define \"good approximation\" as within 5% of actual, it takes (2,3,2) iterations of the \n",
    "# algorithm to get a \"good approximation\" of the (intercept, x1 coef, x2 coef), respectively."
   ]
  }
 ],
 "metadata": {
  "kernelspec": {
   "display_name": "R",
   "language": "R",
   "name": "ir"
  },
  "language_info": {
   "codemirror_mode": "r",
   "file_extension": ".r",
   "mimetype": "text/x-r-source",
   "name": "R",
   "pygments_lexer": "r",
   "version": "3.5.1"
  }
 },
 "nbformat": 4,
 "nbformat_minor": 2
}
