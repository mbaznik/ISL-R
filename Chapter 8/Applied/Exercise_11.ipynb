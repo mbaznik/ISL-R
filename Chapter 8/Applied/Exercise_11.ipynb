{
 "cells": [
  {
   "cell_type": "code",
   "execution_count": 27,
   "metadata": {},
   "outputs": [],
   "source": [
    "# Goal: Use Caravan data set to compare results of boosting vs. other approaches.\n",
    "rm(list=ls())\n",
    "library(ISLR)      # Caravan dset\n",
    "library(gbm)       # Boosting\n",
    "library(class)     # knn"
   ]
  },
  {
   "cell_type": "code",
   "execution_count": 28,
   "metadata": {},
   "outputs": [
    {
     "data": {
      "text/plain": [
       "\n",
       "  No  Yes \n",
       "5474  348 "
      ]
     },
     "metadata": {},
     "output_type": "display_data"
    },
    {
     "name": "stdout",
     "output_type": "stream",
     "text": [
      "[1] 1000\n",
      "[1] 4822\n",
      "[1] 5822\n"
     ]
    }
   ],
   "source": [
    "# Part a: Create train set of first 1,000 obs, test set of rest:\n",
    "# Create a binary version of Purchase, and drop Purchase (since gbm requires 0/1):\n",
    "table(Caravan$Purchase)\n",
    "Caravan$Purchase_bin <- ifelse(Caravan$Purchase=='Yes', 1, 0)\n",
    "Caravan_clean        <- subset(Caravan, select=-c(Purchase))\n",
    "fix(Caravan_clean)\n",
    "num_row     <- nrow(Caravan_clean)\n",
    "train       <- Caravan_clean[1:1000,]\n",
    "test        <- Caravan_clean[1001:num_row,]\n",
    "print(nrow(train)); print(nrow(test)); print(num_row)"
   ]
  },
  {
   "cell_type": "code",
   "execution_count": 29,
   "metadata": {},
   "outputs": [
    {
     "data": {
      "text/plain": [
       "\n",
       "   0 \n",
       "1000 "
      ]
     },
     "metadata": {},
     "output_type": "display_data"
    },
    {
     "data": {
      "text/plain": [
       "\n",
       "   0 \n",
       "1000 "
      ]
     },
     "metadata": {},
     "output_type": "display_data"
    }
   ],
   "source": [
    "# When I try to fit the below gbm, it tells me the below 2 features do not have\n",
    "# any variation.  Here, I confirm that and then exclude them from train and test.\n",
    "table(train$PVRAAUT)\n",
    "table(train$AVRAAUT)\n",
    "# Exclude both:\n",
    "train_clean <- subset(train, select = -c(PVRAAUT,AVRAAUT))\n",
    "test_clean  <- subset(test,  select = -c(PVRAAUT,AVRAAUT))"
   ]
  },
  {
   "cell_type": "code",
   "execution_count": 30,
   "metadata": {},
   "outputs": [
    {
     "name": "stdout",
     "output_type": "stream",
     "text": [
      "              var  rel.inf\n",
      "PPERSAUT PPERSAUT 7.480819\n",
      "MOPLHOOG MOPLHOOG 4.882054\n",
      "MGODGE     MGODGE 4.838870\n",
      "MKOOPKLA MKOOPKLA 4.507280\n",
      "MOSTYPE   MOSTYPE 3.902338\n",
      "MGODPR     MGODPR 3.547892\n"
     ]
    },
    {
     "data": {
      "image/png": "[encoded data removed]",
      "text/plain": [
       "plot without title"
      ]
     },
     "metadata": {
      "image/png": {
       "height": 420,
       "width": 420
      },
      "text/plain": {
       "height": 420,
       "width": 420
      }
     },
     "output_type": "display_data"
    }
   ],
   "source": [
    "# Part b: Fit a boosted model to the train set:\n",
    "set.seed(1)\n",
    "# Parms:\n",
    "num_trees <- 1000\n",
    "shrinkage <- 0.01\n",
    "# Fit model:\n",
    "boost.mod <- gbm(Purchase_bin~., data=train_clean, n.trees=num_trees, distribution=\"bernoulli\",\n",
    "                    interaction.depth=4, shrinkage=shrinkage)\n",
    "print(head(summary(boost.mod)))\n",
    "# Clearly PPERSAUT is the most important variable, followed distantly by \n",
    "# MOPLHOOG, MGODGE, and MKOOPKLA."
   ]
  },
  {
   "cell_type": "code",
   "execution_count": 31,
   "metadata": {},
   "outputs": [
    {
     "data": {
      "text/plain": [
       "    Min.  1st Qu.   Median     Mean  3rd Qu.     Max. \n",
       "0.002184 0.009556 0.018223 0.048722 0.046377 0.951933 "
      ]
     },
     "metadata": {},
     "output_type": "display_data"
    },
    {
     "name": "stdout",
     "output_type": "stream",
     "text": [
      "          \n",
      "              0    1\n",
      "  Pred_No  4336  258\n",
      "  Pred_Yes  197   31\n",
      "[1] 0.136\n"
     ]
    }
   ],
   "source": [
    "# Part c: \n",
    "# Predict the prob of a person making a purchase:\n",
    "boost.mod.pred           <- predict(boost.mod, newdata=test_clean, \n",
    "                                    n.trees=num_trees, type=\"response\")\n",
    "summary(boost.mod.pred)\n",
    "# Predict a person will make a purchase if pred prob>0.2 \n",
    "test_clean$Purchase_pred <- ifelse(boost.mod.pred>0.2, 'Pred_Yes', 'Pred_No')\n",
    "# Form a confusion matrix:\n",
    "conf_mat <- table(test_clean$Purchase_pred, test_clean$Purchase_bin)\n",
    "print(conf_mat)\n",
    "# Compute fraction of people predicted to make a purchase make one:\n",
    "answer <- round(conf_mat[2,2]/sum(conf_mat[2,]),3)\n",
    "print(answer)\n",
    "# 13.6% of those predicted to actually make a purchase."
   ]
  },
  {
   "cell_type": "code",
   "execution_count": 32,
   "metadata": {},
   "outputs": [
    {
     "name": "stdout",
     "output_type": "stream",
     "text": [
      "        \n",
      "knn.pred    0    1\n",
      "       0 4513  281\n",
      "       1   20    8\n",
      "[1] 0.286\n"
     ]
    }
   ],
   "source": [
    "# Part c: Continued.\n",
    "# Scale the data before applying KNN:\n",
    "train_clean_scaled <- scale(train_clean[,1:83])  # Don't scale response var\n",
    "test_clean_scaled  <- scale( test_clean[,1:83])  # Don't scale response var\n",
    "# Apply KNN to this data set with arbitrary selection of K=5\n",
    "set.seed(1)\n",
    "knn.pred <- knn(train_clean_scaled, test_clean_scaled, train_clean[,84], k=5)\n",
    "# Form a confusion matrix:\n",
    "conf_mat <- table(knn.pred, test_clean$Purchase_bin)\n",
    "print(conf_mat)\n",
    "# Compute fraction of people predicted to make a purchase make one:\n",
    "answer <- round(conf_mat[2,2]/sum(conf_mat[2,]),3)\n",
    "print(answer)\n",
    "# About 28.6% of predicted purchasers actually made a purchase.\n",
    "# While this is higher than boosted model, clearly it predicts a much smaller\n",
    "# absolute amount will be purchased.  Clearly, a normative decision needs to be\n",
    "# made here to determine what is optimal: maximizing % correctly predicted or \n",
    "# absolute number of correct predictions?"
   ]
  },
  {
   "cell_type": "code",
   "execution_count": 33,
   "metadata": {},
   "outputs": [
    {
     "data": {
      "text/html": [
       "<table>\n",
       "<caption>A data.frame: 6 × 82</caption>\n",
       "<thead>\n",
       "\t<tr><th></th><th scope=col>MOSTYPE</th><th scope=col>MAANTHUI</th><th scope=col>MGEMOMV</th><th scope=col>MGEMLEEF</th><th scope=col>MOSHOOFD</th><th scope=col>MGODRK</th><th scope=col>MGODPR</th><th scope=col>MGODOV</th><th scope=col>MGODGE</th><th scope=col>MRELGE</th><th scope=col>...</th><th scope=col>ALEVEN</th><th scope=col>APERSONG</th><th scope=col>AGEZONG</th><th scope=col>AWAOREG</th><th scope=col>ABRAND</th><th scope=col>APLEZIER</th><th scope=col>AFIETS</th><th scope=col>AINBOED</th><th scope=col>ABYSTAND</th><th scope=col>Purchase_bin</th></tr>\n",
       "\t<tr><th></th><th scope=col>&lt;dbl&gt;</th><th scope=col>&lt;dbl&gt;</th><th scope=col>&lt;dbl&gt;</th><th scope=col>&lt;dbl&gt;</th><th scope=col>&lt;dbl&gt;</th><th scope=col>&lt;dbl&gt;</th><th scope=col>&lt;dbl&gt;</th><th scope=col>&lt;dbl&gt;</th><th scope=col>&lt;dbl&gt;</th><th scope=col>&lt;dbl&gt;</th><th scope=col>...</th><th scope=col>&lt;dbl&gt;</th><th scope=col>&lt;dbl&gt;</th><th scope=col>&lt;dbl&gt;</th><th scope=col>&lt;dbl&gt;</th><th scope=col>&lt;dbl&gt;</th><th scope=col>&lt;dbl&gt;</th><th scope=col>&lt;dbl&gt;</th><th scope=col>&lt;dbl&gt;</th><th scope=col>&lt;dbl&gt;</th><th scope=col>&lt;dbl&gt;</th></tr>\n",
       "</thead>\n",
       "<tbody>\n",
       "\t<tr><th scope=row>1</th><td>33</td><td>1</td><td>3</td><td>2</td><td> 8</td><td>0</td><td>5</td><td>1</td><td>3</td><td>7</td><td>...</td><td>0</td><td>0</td><td>0</td><td>0</td><td>1</td><td>0</td><td>0</td><td>0</td><td>0</td><td>0</td></tr>\n",
       "\t<tr><th scope=row>2</th><td>37</td><td>1</td><td>2</td><td>2</td><td> 8</td><td>1</td><td>4</td><td>1</td><td>4</td><td>6</td><td>...</td><td>0</td><td>0</td><td>0</td><td>0</td><td>1</td><td>0</td><td>0</td><td>0</td><td>0</td><td>0</td></tr>\n",
       "\t<tr><th scope=row>3</th><td>37</td><td>1</td><td>2</td><td>2</td><td> 8</td><td>0</td><td>4</td><td>2</td><td>4</td><td>3</td><td>...</td><td>0</td><td>0</td><td>0</td><td>0</td><td>1</td><td>0</td><td>0</td><td>0</td><td>0</td><td>0</td></tr>\n",
       "\t<tr><th scope=row>4</th><td> 9</td><td>1</td><td>3</td><td>3</td><td> 3</td><td>2</td><td>3</td><td>2</td><td>4</td><td>5</td><td>...</td><td>0</td><td>0</td><td>0</td><td>0</td><td>1</td><td>0</td><td>0</td><td>0</td><td>0</td><td>0</td></tr>\n",
       "\t<tr><th scope=row>5</th><td>40</td><td>1</td><td>4</td><td>2</td><td>10</td><td>1</td><td>4</td><td>1</td><td>4</td><td>7</td><td>...</td><td>0</td><td>0</td><td>0</td><td>0</td><td>1</td><td>0</td><td>0</td><td>0</td><td>0</td><td>0</td></tr>\n",
       "\t<tr><th scope=row>6</th><td>23</td><td>1</td><td>2</td><td>1</td><td> 5</td><td>0</td><td>5</td><td>0</td><td>5</td><td>0</td><td>...</td><td>0</td><td>0</td><td>0</td><td>0</td><td>0</td><td>0</td><td>0</td><td>0</td><td>0</td><td>0</td></tr>\n",
       "</tbody>\n",
       "</table>\n"
      ],
      "text/latex": [
       "A data.frame: 6 × 82\n",
       "\\begin{tabular}{r|lllllllllllllllllllll}\n",
       "  & MOSTYPE & MAANTHUI & MGEMOMV & MGEMLEEF & MOSHOOFD & MGODRK & MGODPR & MGODOV & MGODGE & MRELGE & ... & ALEVEN & APERSONG & AGEZONG & AWAOREG & ABRAND & APLEZIER & AFIETS & AINBOED & ABYSTAND & Purchase\\_bin\\\\\n",
       "  & <dbl> & <dbl> & <dbl> & <dbl> & <dbl> & <dbl> & <dbl> & <dbl> & <dbl> & <dbl> & ... & <dbl> & <dbl> & <dbl> & <dbl> & <dbl> & <dbl> & <dbl> & <dbl> & <dbl> & <dbl>\\\\\n",
       "\\hline\n",
       "\t1 & 33 & 1 & 3 & 2 &  8 & 0 & 5 & 1 & 3 & 7 & ... & 0 & 0 & 0 & 0 & 1 & 0 & 0 & 0 & 0 & 0\\\\\n",
       "\t2 & 37 & 1 & 2 & 2 &  8 & 1 & 4 & 1 & 4 & 6 & ... & 0 & 0 & 0 & 0 & 1 & 0 & 0 & 0 & 0 & 0\\\\\n",
       "\t3 & 37 & 1 & 2 & 2 &  8 & 0 & 4 & 2 & 4 & 3 & ... & 0 & 0 & 0 & 0 & 1 & 0 & 0 & 0 & 0 & 0\\\\\n",
       "\t4 &  9 & 1 & 3 & 3 &  3 & 2 & 3 & 2 & 4 & 5 & ... & 0 & 0 & 0 & 0 & 1 & 0 & 0 & 0 & 0 & 0\\\\\n",
       "\t5 & 40 & 1 & 4 & 2 & 10 & 1 & 4 & 1 & 4 & 7 & ... & 0 & 0 & 0 & 0 & 1 & 0 & 0 & 0 & 0 & 0\\\\\n",
       "\t6 & 23 & 1 & 2 & 1 &  5 & 0 & 5 & 0 & 5 & 0 & ... & 0 & 0 & 0 & 0 & 0 & 0 & 0 & 0 & 0 & 0\\\\\n",
       "\\end{tabular}\n"
      ],
      "text/markdown": [
       "\n",
       "A data.frame: 6 × 82\n",
       "\n",
       "| <!--/--> | MOSTYPE &lt;dbl&gt; | MAANTHUI &lt;dbl&gt; | MGEMOMV &lt;dbl&gt; | MGEMLEEF &lt;dbl&gt; | MOSHOOFD &lt;dbl&gt; | MGODRK &lt;dbl&gt; | MGODPR &lt;dbl&gt; | MGODOV &lt;dbl&gt; | MGODGE &lt;dbl&gt; | MRELGE &lt;dbl&gt; | ... ... | ALEVEN &lt;dbl&gt; | APERSONG &lt;dbl&gt; | AGEZONG &lt;dbl&gt; | AWAOREG &lt;dbl&gt; | ABRAND &lt;dbl&gt; | APLEZIER &lt;dbl&gt; | AFIETS &lt;dbl&gt; | AINBOED &lt;dbl&gt; | ABYSTAND &lt;dbl&gt; | Purchase_bin &lt;dbl&gt; |\n",
       "|---|---|---|---|---|---|---|---|---|---|---|---|---|---|---|---|---|---|---|---|---|---|\n",
       "| 1 | 33 | 1 | 3 | 2 |  8 | 0 | 5 | 1 | 3 | 7 | ... | 0 | 0 | 0 | 0 | 1 | 0 | 0 | 0 | 0 | 0 |\n",
       "| 2 | 37 | 1 | 2 | 2 |  8 | 1 | 4 | 1 | 4 | 6 | ... | 0 | 0 | 0 | 0 | 1 | 0 | 0 | 0 | 0 | 0 |\n",
       "| 3 | 37 | 1 | 2 | 2 |  8 | 0 | 4 | 2 | 4 | 3 | ... | 0 | 0 | 0 | 0 | 1 | 0 | 0 | 0 | 0 | 0 |\n",
       "| 4 |  9 | 1 | 3 | 3 |  3 | 2 | 3 | 2 | 4 | 5 | ... | 0 | 0 | 0 | 0 | 1 | 0 | 0 | 0 | 0 | 0 |\n",
       "| 5 | 40 | 1 | 4 | 2 | 10 | 1 | 4 | 1 | 4 | 7 | ... | 0 | 0 | 0 | 0 | 1 | 0 | 0 | 0 | 0 | 0 |\n",
       "| 6 | 23 | 1 | 2 | 1 |  5 | 0 | 5 | 0 | 5 | 0 | ... | 0 | 0 | 0 | 0 | 0 | 0 | 0 | 0 | 0 | 0 |\n",
       "\n"
      ],
      "text/plain": [
       "  MOSTYPE MAANTHUI MGEMOMV MGEMLEEF MOSHOOFD MGODRK MGODPR MGODOV MGODGE MRELGE\n",
       "1 33      1        3       2         8       0      5      1      3      7     \n",
       "2 37      1        2       2         8       1      4      1      4      6     \n",
       "3 37      1        2       2         8       0      4      2      4      3     \n",
       "4  9      1        3       3         3       2      3      2      4      5     \n",
       "5 40      1        4       2        10       1      4      1      4      7     \n",
       "6 23      1        2       1         5       0      5      0      5      0     \n",
       "  ... ALEVEN APERSONG AGEZONG AWAOREG ABRAND APLEZIER AFIETS AINBOED ABYSTAND\n",
       "1 ... 0      0        0       0       1      0        0      0       0       \n",
       "2 ... 0      0        0       0       1      0        0      0       0       \n",
       "3 ... 0      0        0       0       1      0        0      0       0       \n",
       "4 ... 0      0        0       0       1      0        0      0       0       \n",
       "5 ... 0      0        0       0       1      0        0      0       0       \n",
       "6 ... 0      0        0       0       0      0        0      0       0       \n",
       "  Purchase_bin\n",
       "1 0           \n",
       "2 0           \n",
       "3 0           \n",
       "4 0           \n",
       "5 0           \n",
       "6 0           "
      ]
     },
     "metadata": {},
     "output_type": "display_data"
    }
   ],
   "source": [
    "# Before we can apply logistic regression, I need to first remove two variables which\n",
    "# cause singularity in the estimation matrix:\n",
    "train_cleaner <- subset(train_clean, select = -c(AWERKT,AZEILPL))\n",
    "test_cleaner  <- subset(test_clean,  select = -c(AWERKT,AZEILPL))\n",
    "head(train_cleaner)"
   ]
  },
  {
   "cell_type": "code",
   "execution_count": 34,
   "metadata": {},
   "outputs": [
    {
     "name": "stderr",
     "output_type": "stream",
     "text": [
      "Warning message:\n",
      "\"glm.fit: fitted probabilities numerically 0 or 1 occurred\"\n"
     ]
    },
    {
     "data": {
      "text/plain": [
       "\n",
       "Call:\n",
       "glm(formula = Purchase_bin ~ ., family = binomial, data = train_cleaner)\n",
       "\n",
       "Deviance Residuals: \n",
       "    Min       1Q   Median       3Q      Max  \n",
       "-1.5422  -0.3307  -0.1710  -0.0766   3.3780  \n",
       "\n",
       "Coefficients:\n",
       "              Estimate Std. Error z value Pr(>|z|)  \n",
       "(Intercept)  2.561e+02  4.912e+04   0.005   0.9958  \n",
       "MOSTYPE     -1.814e-02  1.366e-01  -0.133   0.8944  \n",
       "MAANTHUI     7.131e-02  4.419e-01   0.161   0.8718  \n",
       "MGEMOMV     -9.298e-01  4.201e-01  -2.213   0.0269 *\n",
       "MGEMLEEF     4.187e-02  2.840e-01   0.147   0.8828  \n",
       "MOSHOOFD     1.400e-01  6.127e-01   0.228   0.8193  \n",
       "MGODRK      -7.230e-01  3.571e-01  -2.025   0.0429 *\n",
       "MGODPR      -3.201e-01  3.608e-01  -0.887   0.3750  \n",
       "MGODOV      -6.499e-01  3.221e-01  -2.018   0.0436 *\n",
       "MGODGE      -2.773e-01  3.504e-01  -0.791   0.4287  \n",
       "MRELGE       7.989e-01  4.116e-01   1.941   0.0522 .\n",
       "MRELSA       6.917e-01  3.877e-01   1.784   0.0744 .\n",
       "MRELOV       8.762e-01  4.205e-01   2.084   0.0372 *\n",
       "MFALLEEN    -3.702e-01  3.743e-01  -0.989   0.3227  \n",
       "MFGEKIND    -2.986e-01  3.809e-01  -0.784   0.4331  \n",
       "MFWEKIND    -5.345e-02  4.079e-01  -0.131   0.8957  \n",
       "MOPLHOOG    -4.342e-01  3.924e-01  -1.106   0.2685  \n",
       "MOPLMIDD    -6.936e-01  4.168e-01  -1.664   0.0961 .\n",
       "MOPLLAAG    -5.118e-01  4.168e-01  -1.228   0.2196  \n",
       "MBERHOOG     1.080e-01  2.979e-01   0.363   0.7170  \n",
       "MBERZELF    -2.737e-01  3.246e-01  -0.843   0.3991  \n",
       "MBERBOER    -5.788e-01  3.757e-01  -1.541   0.1234  \n",
       "MBERMIDD     4.193e-01  2.983e-01   1.406   0.1598  \n",
       "MBERARBG     2.787e-01  2.847e-01   0.979   0.3276  \n",
       "MBERARBO     3.511e-01  2.954e-01   1.188   0.2347  \n",
       "MSKA         3.591e-01  2.859e-01   1.256   0.2092  \n",
       "MSKB1        1.434e-01  2.839e-01   0.505   0.6134  \n",
       "MSKB2        1.783e-01  2.516e-01   0.709   0.4785  \n",
       "MSKC         1.093e-01  2.800e-01   0.390   0.6963  \n",
       "MSKD        -3.869e-01  2.930e-01  -1.320   0.1867  \n",
       "MHHUUR      -1.568e+01  3.329e+03  -0.005   0.9962  \n",
       "MHKOOP      -1.561e+01  3.329e+03  -0.005   0.9963  \n",
       "MAUT1        4.233e-01  4.097e-01   1.033   0.3015  \n",
       "MAUT2        4.304e-01  3.733e-01   1.153   0.2489  \n",
       "MAUT0        2.256e-01  3.742e-01   0.603   0.5466  \n",
       "MZFONDS     -1.376e+01  4.325e+03  -0.003   0.9975  \n",
       "MZPART      -1.377e+01  4.325e+03  -0.003   0.9975  \n",
       "MINKM30      1.123e-01  2.957e-01   0.380   0.7041  \n",
       "MINK3045     9.255e-02  2.820e-01   0.328   0.7428  \n",
       "MINK4575     2.606e-01  2.932e-01   0.889   0.3740  \n",
       "MINK7512     3.601e-01  3.083e-01   1.168   0.2427  \n",
       "MINK123M    -1.407e-01  5.046e-01  -0.279   0.7803  \n",
       "MINKGEM     -3.643e-01  2.777e-01  -1.312   0.1896  \n",
       "MKOOPKLA     2.325e-01  1.340e-01   1.735   0.0828 .\n",
       "PWAPART      9.343e-01  9.813e-01   0.952   0.3411  \n",
       "PWABEDR     -9.056e-01  4.221e+03   0.000   0.9998  \n",
       "PWALAND     -1.752e+01  3.513e+03  -0.005   0.9960  \n",
       "PPERSAUT     3.757e-01  1.473e-01   2.550   0.0108 *\n",
       "PBESAUT     -3.792e+01  1.332e+04  -0.003   0.9977  \n",
       "PMOTSCO      2.230e-01  2.466e-01   0.904   0.3659  \n",
       "PAANHANG     1.573e+01  6.805e+03   0.002   0.9982  \n",
       "PTRACTOR    -3.326e-01  1.953e+03   0.000   0.9999  \n",
       "PWERKT       1.676e+01  6.051e+03   0.003   0.9978  \n",
       "PBROM       -1.094e-01  1.334e+00  -0.082   0.9346  \n",
       "PLEVEN       2.405e-01  7.074e-01   0.340   0.7339  \n",
       "PPERSONG     1.269e+00  5.719e+03   0.000   0.9998  \n",
       "PGEZONG      2.000e+01  3.768e+03   0.005   0.9958  \n",
       "PWAOREG      1.452e+01  3.099e+03   0.005   0.9963  \n",
       "PBRAND       3.369e-02  2.188e-01   0.154   0.8776  \n",
       "PZEILPL      3.738e+01  1.205e+04   0.003   0.9975  \n",
       "PPLEZIER     6.371e-01  6.421e-01   0.992   0.3211  \n",
       "PFIETS       2.101e+01  5.469e+03   0.004   0.9969  \n",
       "PINBOED      5.699e-01  3.915e+03   0.000   0.9999  \n",
       "PBYSTAND     4.167e-01  9.550e-01   0.436   0.6626  \n",
       "AWAPART     -1.475e+00  1.938e+00  -0.761   0.4468  \n",
       "AWABEDR     -1.417e+01  8.880e+03  -0.002   0.9987  \n",
       "AWALAND      5.416e+01  1.054e+04   0.005   0.9959  \n",
       "APERSAUT    -6.572e-01  7.374e-01  -0.891   0.3728  \n",
       "ABESAUT      1.730e+02  7.554e+04   0.002   0.9982  \n",
       "AMOTSCO     -1.143e-01  5.805e-01  -0.197   0.8439  \n",
       "AAANHANG    -3.099e+01  1.361e+04  -0.002   0.9982  \n",
       "ATRACTOR    -1.545e+01  6.899e+03  -0.002   0.9982  \n",
       "ABROM       -2.511e-01  4.265e+00  -0.059   0.9531  \n",
       "ALEVEN      -8.600e-01  1.485e+00  -0.579   0.5625  \n",
       "APERSONG    -1.879e+01  1.328e+04  -0.001   0.9989  \n",
       "AGEZONG     -5.763e+01  1.130e+04  -0.005   0.9959  \n",
       "AWAOREG     -3.190e+01  1.360e+04  -0.002   0.9981  \n",
       "ABRAND       5.725e-01  6.981e-01   0.820   0.4122  \n",
       "APLEZIER     1.083e+00  1.712e+00   0.633   0.5268  \n",
       "AFIETS      -1.929e+01  5.469e+03  -0.004   0.9972  \n",
       "AINBOED     -1.979e+01  8.686e+03  -0.002   0.9982  \n",
       "ABYSTAND    -5.835e-03  3.395e+00  -0.002   0.9986  \n",
       "---\n",
       "Signif. codes:  0 '***' 0.001 '**' 0.01 '*' 0.05 '.' 0.1 ' ' 1\n",
       "\n",
       "(Dispersion parameter for binomial family taken to be 1)\n",
       "\n",
       "    Null deviance: 448.41  on 999  degrees of freedom\n",
       "Residual deviance: 320.64  on 918  degrees of freedom\n",
       "AIC: 484.64\n",
       "\n",
       "Number of Fisher Scoring iterations: 18\n"
      ]
     },
     "metadata": {},
     "output_type": "display_data"
    },
    {
     "name": "stdout",
     "output_type": "stream",
     "text": [
      "          \n",
      "              0    1\n",
      "  Pred_No  4183  231\n",
      "  Pred_Yes  350   58\n",
      "[1] 0.142\n"
     ]
    }
   ],
   "source": [
    "# Part c: Continued again.\n",
    "# Apply logistic regression to this data set:\n",
    "set.seed(1)\n",
    "logis.mod       <- glm(Purchase_bin~., data=train_cleaner, family=binomial)\n",
    "summary(logis.mod)\n",
    "logis.mod.pred  <- predict(logis.mod, newdata=test_cleaner, type=\"response\")\n",
    "# summary(logis.mod)\n",
    "# sort(logis.mod$fitted.values)\n",
    "# There is a warning message that fitted vals close to 0 or 1 occured.\n",
    "# 1 predicted value of 1.0, and multiple predicted\n",
    "# values that are very close to 0.  I don't think that invalidates the fit.\n",
    "# I think the point of this excercise is that logistic regression will not perform\n",
    "# well here, without some sort of variable selection being performed, because of so\n",
    "# many predictor variables.\n",
    "# Predict a person will make a purchase if pred prob>0.2 \n",
    "test_cleaner$Purchase_pred <- ifelse(logis.mod.pred>0.2, 'Pred_Yes', 'Pred_No')\n",
    "# Form a confusion matrix:\n",
    "conf_mat <- table(test_cleaner$Purchase_pred, test_cleaner$Purchase_bin)\n",
    "print(conf_mat)\n",
    "# Compute fraction of people predicted to make a purchase make one:\n",
    "answer <- round(conf_mat[2,2]/sum(conf_mat[2,]),3)\n",
    "print(answer)\n",
    "# About 14.2% of predicted purchasers actually made a purchase.  This is about \n",
    "# close to the boosted model but much less than KNN.  It predicts many more\n",
    "# true postives, but at a lower correct prediction rate.  Again, it goes back to\n",
    "# the question: what trade-offs are we willing to make here?"
   ]
  }
 ],
 "metadata": {
  "kernelspec": {
   "display_name": "R",
   "language": "R",
   "name": "ir"
  },
  "language_info": {
   "codemirror_mode": "r",
   "file_extension": ".r",
   "mimetype": "text/x-r-source",
   "name": "R",
   "pygments_lexer": "r",
   "version": "3.5.1"
  }
 },
 "nbformat": 4,
 "nbformat_minor": 2
}
