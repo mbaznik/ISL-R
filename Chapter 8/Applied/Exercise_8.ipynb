{
 "cells": [
  {
   "cell_type": "code",
   "execution_count": 18,
   "metadata": {},
   "outputs": [],
   "source": [
    "# Goal: predict Sales using regression trees/related approaches\n",
    "rm(list=ls())\n",
    "library(ISLR)          # for Carseats data\n",
    "library(MASS)          \n",
    "library(tree)          # regression trees\n",
    "library(randomForest)  # for randomForest"
   ]
  },
  {
   "cell_type": "code",
   "execution_count": 19,
   "metadata": {},
   "outputs": [
    {
     "name": "stdout",
     "output_type": "stream",
     "text": [
      "[1] 280\n",
      "[1] 120\n",
      "[1] 400\n"
     ]
    }
   ],
   "source": [
    "# Part a: Train/test:\n",
    "set.seed(1)\n",
    "fix(Carseats)\n",
    "num_row     <- nrow(Carseats)      \n",
    "train_size  <- round(0.7*num_row) \n",
    "index       <- sample(1:num_row, train_size) \n",
    "# Split into train and test:\n",
    "train       <- Carseats[index,]\n",
    "test        <- Carseats[-index,]\n",
    "print(nrow(train)); print(nrow(test)); print(num_row)"
   ]
  },
  {
   "cell_type": "code",
   "execution_count": 20,
   "metadata": {},
   "outputs": [
    {
     "data": {
      "text/plain": [
       "\n",
       "Regression tree:\n",
       "tree(formula = Sales ~ ., data = train)\n",
       "Variables actually used in tree construction:\n",
       "[1] \"ShelveLoc\"   \"Price\"       \"Age\"         \"CompPrice\"   \"Advertising\"\n",
       "[6] \"Population\"  \"Income\"     \n",
       "Number of terminal nodes:  18 \n",
       "Residual mean deviance:  2.502 = 655.5 / 262 \n",
       "Distribution of residuals:\n",
       "    Min.  1st Qu.   Median     Mean  3rd Qu.     Max. \n",
       "-3.74100 -0.98720 -0.02545  0.00000  1.02000  5.06900 "
      ]
     },
     "metadata": {},
     "output_type": "display_data"
    },
    {
     "data": {
      "text/plain": [
       "\n",
       "   Bad   Good Medium \n",
       "    60     56    164 "
      ]
     },
     "metadata": {},
     "output_type": "display_data"
    },
    {
     "name": "stdout",
     "output_type": "stream",
     "text": [
      "[1] 5.3\n"
     ]
    },
    {
     "data": {
      "image/png": "[encoded data removed]",
      "text/plain": [
       "plot without title"
      ]
     },
     "metadata": {
      "image/png": {
       "height": 420,
       "width": 420
      },
      "text/plain": {
       "height": 420,
       "width": 420
      }
     },
     "output_type": "display_data"
    }
   ],
   "source": [
    "# Part b: Fit a (very large) tree.  Plot tree, and interpret results:\n",
    "carseats_tree <- tree(Sales~., data=train)\n",
    "summary(carseats_tree)\n",
    "plot(carseats_tree)\n",
    "text(carseats_tree, pretty=0)\n",
    "table(train$ShelveLoc)\n",
    "# Predict on test set, and compute MSE:\n",
    "carseats_tree_preds <- predict(carseats_tree, test)\n",
    "mse_partb <- mean((test$Sales-carseats_tree_preds)^2)\n",
    "print(round(mse_partb, 1))\n",
    "# MSE on test set is 5.3\n",
    "# Interpret: there is quite a bit of segmentation that this large tree is able\n",
    "# to find.  Most importantly is the fact if the shelf location is good \n",
    "# vs. Medium or Bad.  Next most important in each of the child nodes is\n",
    "# whether the price is above or below some cut point. Lastly, I suspect this\n",
    "# tree is overfitting, as it splits many more times on the above two variables\n",
    "# in addition to CompPrice, Advertising, etc."
   ]
  },
  {
   "cell_type": "code",
   "execution_count": 21,
   "metadata": {},
   "outputs": [
    {
     "name": "stdout",
     "output_type": "stream",
     "text": [
      "[1] 5.1\n",
      "[1] -0.03\n"
     ]
    },
    {
     "data": {
      "image/png": "[encoded data removed]",
      "text/plain": [
       "plot without title"
      ]
     },
     "metadata": {
      "image/png": {
       "height": 420,
       "width": 420
      },
      "text/plain": {
       "height": 420,
       "width": 420
      }
     },
     "output_type": "display_data"
    }
   ],
   "source": [
    "# Part c: Use CV to determine optimal level of tree complexity:\n",
    "cv.carseats <- cv.tree(carseats_tree)\n",
    "plot(cv.carseats$size, cv.carseats$dev, type='b')\n",
    "# print(cv.carseats$size)\n",
    "# print(cv.carseats$dev)\n",
    "# CV indicates tree with 9 splits is indicated to be optimal.\n",
    "prune_tree       <- prune.tree(carseats_tree, best=9)\n",
    "prune_tree_pred  <- predict(prune_tree, newdata=test)\n",
    "mse_pruned       <- mean((prune_tree_pred-test$Sales)^2)\n",
    "print(round(mse_pruned, 1))\n",
    "print(round(mse_pruned/mse_partb-1, 2))\n",
    "# Yes, CV reduces test MSE by about 3%. "
   ]
  },
  {
   "cell_type": "code",
   "execution_count": 22,
   "metadata": {},
   "outputs": [
    {
     "data": {
      "text/plain": [
       "\n",
       "Call:\n",
       " randomForest(formula = Sales ~ ., data = train, mtry = mtry_bag,      importance = TRUE) \n",
       "               Type of random forest: regression\n",
       "                     Number of trees: 500\n",
       "No. of variables tried at each split: 10\n",
       "\n",
       "          Mean of squared residuals: 2.593248\n",
       "                    % Var explained: 67.11"
      ]
     },
     "metadata": {},
     "output_type": "display_data"
    },
    {
     "name": "stdout",
     "output_type": "stream",
     "text": [
      "[1] 2.4\n"
     ]
    },
    {
     "data": {
      "text/html": [
       "<table>\n",
       "<caption>A matrix: 10 × 2 of type dbl</caption>\n",
       "<thead>\n",
       "\t<tr><th></th><th scope=col>%IncMSE</th><th scope=col>IncNodePurity</th></tr>\n",
       "</thead>\n",
       "<tbody>\n",
       "\t<tr><th scope=row>CompPrice</th><td>28.022452</td><td>210.656104</td></tr>\n",
       "\t<tr><th scope=row>Income</th><td> 8.455766</td><td>109.643329</td></tr>\n",
       "\t<tr><th scope=row>Advertising</th><td>22.528867</td><td>183.006939</td></tr>\n",
       "\t<tr><th scope=row>Population</th><td> 5.885873</td><td> 92.487986</td></tr>\n",
       "\t<tr><th scope=row>Price</th><td>65.587241</td><td>688.520720</td></tr>\n",
       "\t<tr><th scope=row>ShelveLoc</th><td>67.477471</td><td>592.868275</td></tr>\n",
       "\t<tr><th scope=row>Age</th><td>19.192132</td><td>205.530720</td></tr>\n",
       "\t<tr><th scope=row>Education</th><td> 2.514888</td><td> 51.929365</td></tr>\n",
       "\t<tr><th scope=row>Urban</th><td>-2.125113</td><td>  8.783114</td></tr>\n",
       "\t<tr><th scope=row>US</th><td> 1.696824</td><td> 11.024306</td></tr>\n",
       "</tbody>\n",
       "</table>\n"
      ],
      "text/latex": [
       "A matrix: 10 × 2 of type dbl\n",
       "\\begin{tabular}{r|ll}\n",
       "  & \\%IncMSE & IncNodePurity\\\\\n",
       "\\hline\n",
       "\tCompPrice & 28.022452 & 210.656104\\\\\n",
       "\tIncome &  8.455766 & 109.643329\\\\\n",
       "\tAdvertising & 22.528867 & 183.006939\\\\\n",
       "\tPopulation &  5.885873 &  92.487986\\\\\n",
       "\tPrice & 65.587241 & 688.520720\\\\\n",
       "\tShelveLoc & 67.477471 & 592.868275\\\\\n",
       "\tAge & 19.192132 & 205.530720\\\\\n",
       "\tEducation &  2.514888 &  51.929365\\\\\n",
       "\tUrban & -2.125113 &   8.783114\\\\\n",
       "\tUS &  1.696824 &  11.024306\\\\\n",
       "\\end{tabular}\n"
      ],
      "text/markdown": [
       "\n",
       "A matrix: 10 × 2 of type dbl\n",
       "\n",
       "| <!--/--> | %IncMSE | IncNodePurity |\n",
       "|---|---|---|\n",
       "| CompPrice | 28.022452 | 210.656104 |\n",
       "| Income |  8.455766 | 109.643329 |\n",
       "| Advertising | 22.528867 | 183.006939 |\n",
       "| Population |  5.885873 |  92.487986 |\n",
       "| Price | 65.587241 | 688.520720 |\n",
       "| ShelveLoc | 67.477471 | 592.868275 |\n",
       "| Age | 19.192132 | 205.530720 |\n",
       "| Education |  2.514888 |  51.929365 |\n",
       "| Urban | -2.125113 |   8.783114 |\n",
       "| US |  1.696824 |  11.024306 |\n",
       "\n"
      ],
      "text/plain": [
       "            %IncMSE   IncNodePurity\n",
       "CompPrice   28.022452 210.656104   \n",
       "Income       8.455766 109.643329   \n",
       "Advertising 22.528867 183.006939   \n",
       "Population   5.885873  92.487986   \n",
       "Price       65.587241 688.520720   \n",
       "ShelveLoc   67.477471 592.868275   \n",
       "Age         19.192132 205.530720   \n",
       "Education    2.514888  51.929365   \n",
       "Urban       -2.125113   8.783114   \n",
       "US           1.696824  11.024306   "
      ]
     },
     "metadata": {},
     "output_type": "display_data"
    }
   ],
   "source": [
    "# Part d: Bagging\n",
    "set.seed(2)\n",
    "mtry_bag        <- (ncol(train)-1)\n",
    "carseats_bagged <- randomForest(Sales~., data=train, mtry=mtry_bag, importance=TRUE)\n",
    "carseats_bagged\n",
    "bag_pred        <- predict(carseats_bagged, newdata=test)\n",
    "bag_pred_mse    <- mean((bag_pred-test$Sales)^2)\n",
    "print(round(bag_pred_mse,1))\n",
    "# Obtain test MSE of 2.4.  This is dramatically lower than test MSE of single tree.\n",
    "importance(carseats_bagged)\n",
    "# Both metrics indicate ShelveLoc and Price as the most important predictors."
   ]
  },
  {
   "cell_type": "code",
   "execution_count": 23,
   "metadata": {},
   "outputs": [],
   "source": [
    "# Interlude: build helper function to compute MSE:\n",
    "mse_machine <- function(predicted, actual)\n",
    "{\n",
    "    mse <- mean((predicted-actual)^2)\n",
    "    return(mse)\n",
    "}"
   ]
  },
  {
   "cell_type": "code",
   "execution_count": 24,
   "metadata": {},
   "outputs": [],
   "source": [
    "# Part e: I analyze this data using randomForests for 3 different\n",
    "# values of mtry:\n",
    "mtry_vec <- c(3,6,9)\n",
    "mse_vec <- c(0,0,0)\n",
    "for (i in 1:length(mtry_vec))\n",
    "{\n",
    "    rf         <- randomForest(Sales~., data=train, mtry=mtry_vec[i])\n",
    "    preds      <- predict(rf, newdata=test)\n",
    "    mse_vec[i] <- mse_machine(preds, test$Sales)\n",
    "}"
   ]
  },
  {
   "cell_type": "code",
   "execution_count": 17,
   "metadata": {},
   "outputs": [
    {
     "name": "stdout",
     "output_type": "stream",
     "text": [
      "[1] 2.7 2.4 2.3\n"
     ]
    },
    {
     "data": {
      "text/html": [
       "<table>\n",
       "<caption>A matrix: 10 × 1 of type dbl</caption>\n",
       "<thead>\n",
       "\t<tr><th></th><th scope=col>IncNodePurity</th></tr>\n",
       "</thead>\n",
       "<tbody>\n",
       "\t<tr><th scope=row>CompPrice</th><td>209.171890</td></tr>\n",
       "\t<tr><th scope=row>Income</th><td>115.695518</td></tr>\n",
       "\t<tr><th scope=row>Advertising</th><td>184.484362</td></tr>\n",
       "\t<tr><th scope=row>Population</th><td> 98.981789</td></tr>\n",
       "\t<tr><th scope=row>Price</th><td>678.148007</td></tr>\n",
       "\t<tr><th scope=row>ShelveLoc</th><td>587.875213</td></tr>\n",
       "\t<tr><th scope=row>Age</th><td>202.918148</td></tr>\n",
       "\t<tr><th scope=row>Education</th><td> 55.268925</td></tr>\n",
       "\t<tr><th scope=row>Urban</th><td>  8.246675</td></tr>\n",
       "\t<tr><th scope=row>US</th><td> 12.236266</td></tr>\n",
       "</tbody>\n",
       "</table>\n"
      ],
      "text/latex": [
       "A matrix: 10 × 1 of type dbl\n",
       "\\begin{tabular}{r|l}\n",
       "  & IncNodePurity\\\\\n",
       "\\hline\n",
       "\tCompPrice & 209.171890\\\\\n",
       "\tIncome & 115.695518\\\\\n",
       "\tAdvertising & 184.484362\\\\\n",
       "\tPopulation &  98.981789\\\\\n",
       "\tPrice & 678.148007\\\\\n",
       "\tShelveLoc & 587.875213\\\\\n",
       "\tAge & 202.918148\\\\\n",
       "\tEducation &  55.268925\\\\\n",
       "\tUrban &   8.246675\\\\\n",
       "\tUS &  12.236266\\\\\n",
       "\\end{tabular}\n"
      ],
      "text/markdown": [
       "\n",
       "A matrix: 10 × 1 of type dbl\n",
       "\n",
       "| <!--/--> | IncNodePurity |\n",
       "|---|---|\n",
       "| CompPrice | 209.171890 |\n",
       "| Income | 115.695518 |\n",
       "| Advertising | 184.484362 |\n",
       "| Population |  98.981789 |\n",
       "| Price | 678.148007 |\n",
       "| ShelveLoc | 587.875213 |\n",
       "| Age | 202.918148 |\n",
       "| Education |  55.268925 |\n",
       "| Urban |   8.246675 |\n",
       "| US |  12.236266 |\n",
       "\n"
      ],
      "text/plain": [
       "            IncNodePurity\n",
       "CompPrice   209.171890   \n",
       "Income      115.695518   \n",
       "Advertising 184.484362   \n",
       "Population   98.981789   \n",
       "Price       678.148007   \n",
       "ShelveLoc   587.875213   \n",
       "Age         202.918148   \n",
       "Education    55.268925   \n",
       "Urban         8.246675   \n",
       "US           12.236266   "
      ]
     },
     "metadata": {},
     "output_type": "display_data"
    },
    {
     "data": {
      "image/png": "[encoded data removed]",
      "text/plain": [
       "plot without title"
      ]
     },
     "metadata": {
      "image/png": {
       "height": 420,
       "width": 420
      },
      "text/plain": {
       "height": 420,
       "width": 420
      }
     },
     "output_type": "display_data"
    }
   ],
   "source": [
    "plot(mtry_vec, mse_vec)\n",
    "print(round(mse_vec,1))\n",
    "# Obtain MSE values of 2.7, 2.4, and 2.3 for 3, 6, and 9 as values of mtry.\n",
    "# For these 3 values of mtry, larger values of mtry correspond to smaller\n",
    "# values of test MSE.\n",
    "importance(rf)\n",
    "# Again, Price and ShelveLoc are the most important predictors. "
   ]
  }
 ],
 "metadata": {
  "kernelspec": {
   "display_name": "R",
   "language": "R",
   "name": "ir"
  },
  "language_info": {
   "codemirror_mode": "r",
   "file_extension": ".r",
   "mimetype": "text/x-r-source",
   "name": "R",
   "pygments_lexer": "r",
   "version": "3.5.1"
  }
 },
 "nbformat": 4,
 "nbformat_minor": 2
}
