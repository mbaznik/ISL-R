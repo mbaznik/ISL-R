{
 "cells": [
  {
   "cell_type": "code",
   "execution_count": 55,
   "metadata": {},
   "outputs": [],
   "source": [
    "# Goal: predict survival outcomes of Titanic passengers using a \n",
    "# variety of approaches.\n",
    "rm(list=ls())\n",
    "library(titanic)          # titanic data set\n",
    "library(randomForest)     # bagging and randomForest\n",
    "library(gbm)              # boosting\n",
    "library(na.tools)\n",
    "options(digits=3)"
   ]
  },
  {
   "cell_type": "code",
   "execution_count": 56,
   "metadata": {},
   "outputs": [
    {
     "data": {
      "text/html": [
       "<table>\n",
       "<caption>A data.frame: 6 × 12</caption>\n",
       "<thead>\n",
       "\t<tr><th></th><th scope=col>PassengerId</th><th scope=col>Survived</th><th scope=col>Pclass</th><th scope=col>Name</th><th scope=col>Sex</th><th scope=col>Age</th><th scope=col>SibSp</th><th scope=col>Parch</th><th scope=col>Ticket</th><th scope=col>Fare</th><th scope=col>Cabin</th><th scope=col>Embarked</th></tr>\n",
       "\t<tr><th></th><th scope=col>&lt;int&gt;</th><th scope=col>&lt;int&gt;</th><th scope=col>&lt;int&gt;</th><th scope=col>&lt;chr&gt;</th><th scope=col>&lt;chr&gt;</th><th scope=col>&lt;dbl&gt;</th><th scope=col>&lt;int&gt;</th><th scope=col>&lt;int&gt;</th><th scope=col>&lt;chr&gt;</th><th scope=col>&lt;dbl&gt;</th><th scope=col>&lt;chr&gt;</th><th scope=col>&lt;chr&gt;</th></tr>\n",
       "</thead>\n",
       "<tbody>\n",
       "\t<tr><th scope=row>1</th><td>1</td><td>0</td><td>3</td><td>Braund, Mr. Owen Harris                            </td><td>male  </td><td>22</td><td>1</td><td>0</td><td>A/5 21171       </td><td> 7.25</td><td>    </td><td>S</td></tr>\n",
       "\t<tr><th scope=row>2</th><td>2</td><td>1</td><td>1</td><td>Cumings, Mrs. John Bradley (Florence Briggs Thayer)</td><td>female</td><td>38</td><td>1</td><td>0</td><td>PC 17599        </td><td>71.28</td><td>C85 </td><td>C</td></tr>\n",
       "\t<tr><th scope=row>3</th><td>3</td><td>1</td><td>3</td><td>Heikkinen, Miss. Laina                             </td><td>female</td><td>26</td><td>0</td><td>0</td><td>STON/O2. 3101282</td><td> 7.92</td><td>    </td><td>S</td></tr>\n",
       "\t<tr><th scope=row>4</th><td>4</td><td>1</td><td>1</td><td>Futrelle, Mrs. Jacques Heath (Lily May Peel)       </td><td>female</td><td>35</td><td>1</td><td>0</td><td>113803          </td><td>53.10</td><td>C123</td><td>S</td></tr>\n",
       "\t<tr><th scope=row>5</th><td>5</td><td>0</td><td>3</td><td>Allen, Mr. William Henry                           </td><td>male  </td><td>35</td><td>0</td><td>0</td><td>373450          </td><td> 8.05</td><td>    </td><td>S</td></tr>\n",
       "\t<tr><th scope=row>6</th><td>6</td><td>0</td><td>3</td><td>Moran, Mr. James                                   </td><td>male  </td><td>NA</td><td>0</td><td>0</td><td>330877          </td><td> 8.46</td><td>    </td><td>Q</td></tr>\n",
       "</tbody>\n",
       "</table>\n"
      ],
      "text/latex": [
       "A data.frame: 6 × 12\n",
       "\\begin{tabular}{r|llllllllllll}\n",
       "  & PassengerId & Survived & Pclass & Name & Sex & Age & SibSp & Parch & Ticket & Fare & Cabin & Embarked\\\\\n",
       "  & <int> & <int> & <int> & <chr> & <chr> & <dbl> & <int> & <int> & <chr> & <dbl> & <chr> & <chr>\\\\\n",
       "\\hline\n",
       "\t1 & 1 & 0 & 3 & Braund, Mr. Owen Harris                             & male   & 22 & 1 & 0 & A/5 21171        &  7.25 &      & S\\\\\n",
       "\t2 & 2 & 1 & 1 & Cumings, Mrs. John Bradley (Florence Briggs Thayer) & female & 38 & 1 & 0 & PC 17599         & 71.28 & C85  & C\\\\\n",
       "\t3 & 3 & 1 & 3 & Heikkinen, Miss. Laina                              & female & 26 & 0 & 0 & STON/O2. 3101282 &  7.92 &      & S\\\\\n",
       "\t4 & 4 & 1 & 1 & Futrelle, Mrs. Jacques Heath (Lily May Peel)        & female & 35 & 1 & 0 & 113803           & 53.10 & C123 & S\\\\\n",
       "\t5 & 5 & 0 & 3 & Allen, Mr. William Henry                            & male   & 35 & 0 & 0 & 373450           &  8.05 &      & S\\\\\n",
       "\t6 & 6 & 0 & 3 & Moran, Mr. James                                    & male   & NA & 0 & 0 & 330877           &  8.46 &      & Q\\\\\n",
       "\\end{tabular}\n"
      ],
      "text/markdown": [
       "\n",
       "A data.frame: 6 × 12\n",
       "\n",
       "| <!--/--> | PassengerId &lt;int&gt; | Survived &lt;int&gt; | Pclass &lt;int&gt; | Name &lt;chr&gt; | Sex &lt;chr&gt; | Age &lt;dbl&gt; | SibSp &lt;int&gt; | Parch &lt;int&gt; | Ticket &lt;chr&gt; | Fare &lt;dbl&gt; | Cabin &lt;chr&gt; | Embarked &lt;chr&gt; |\n",
       "|---|---|---|---|---|---|---|---|---|---|---|---|---|\n",
       "| 1 | 1 | 0 | 3 | Braund, Mr. Owen Harris                             | male   | 22 | 1 | 0 | A/5 21171        |  7.25 | <!----> | S |\n",
       "| 2 | 2 | 1 | 1 | Cumings, Mrs. John Bradley (Florence Briggs Thayer) | female | 38 | 1 | 0 | PC 17599         | 71.28 | C85  | C |\n",
       "| 3 | 3 | 1 | 3 | Heikkinen, Miss. Laina                              | female | 26 | 0 | 0 | STON/O2. 3101282 |  7.92 | <!----> | S |\n",
       "| 4 | 4 | 1 | 1 | Futrelle, Mrs. Jacques Heath (Lily May Peel)        | female | 35 | 1 | 0 | 113803           | 53.10 | C123 | S |\n",
       "| 5 | 5 | 0 | 3 | Allen, Mr. William Henry                            | male   | 35 | 0 | 0 | 373450           |  8.05 | <!----> | S |\n",
       "| 6 | 6 | 0 | 3 | Moran, Mr. James                                    | male   | NA | 0 | 0 | 330877           |  8.46 | <!----> | Q |\n",
       "\n"
      ],
      "text/plain": [
       "  PassengerId Survived Pclass\n",
       "1 1           0        3     \n",
       "2 2           1        1     \n",
       "3 3           1        3     \n",
       "4 4           1        1     \n",
       "5 5           0        3     \n",
       "6 6           0        3     \n",
       "  Name                                                Sex    Age SibSp Parch\n",
       "1 Braund, Mr. Owen Harris                             male   22  1     0    \n",
       "2 Cumings, Mrs. John Bradley (Florence Briggs Thayer) female 38  1     0    \n",
       "3 Heikkinen, Miss. Laina                              female 26  0     0    \n",
       "4 Futrelle, Mrs. Jacques Heath (Lily May Peel)        female 35  1     0    \n",
       "5 Allen, Mr. William Henry                            male   35  0     0    \n",
       "6 Moran, Mr. James                                    male   NA  0     0    \n",
       "  Ticket           Fare  Cabin Embarked\n",
       "1 A/5 21171         7.25       S       \n",
       "2 PC 17599         71.28 C85   C       \n",
       "3 STON/O2. 3101282  7.92       S       \n",
       "4 113803           53.10 C123  S       \n",
       "5 373450            8.05       S       \n",
       "6 330877            8.46       Q       "
      ]
     },
     "metadata": {},
     "output_type": "display_data"
    },
    {
     "data": {
      "text/plain": [
       "  PassengerId     Survived         Pclass         Name          \n",
       " Min.   :  1   Min.   :0.000   Min.   :1.00   Length:891        \n",
       " 1st Qu.:224   1st Qu.:0.000   1st Qu.:2.00   Class :character  \n",
       " Median :446   Median :0.000   Median :3.00   Mode  :character  \n",
       " Mean   :446   Mean   :0.384   Mean   :2.31                     \n",
       " 3rd Qu.:668   3rd Qu.:1.000   3rd Qu.:3.00                     \n",
       " Max.   :891   Max.   :1.000   Max.   :3.00                     \n",
       "                                                                \n",
       "     Sex                 Age           SibSp          Parch     \n",
       " Length:891         Min.   : 0.4   Min.   :0.00   Min.   :0.00  \n",
       " Class :character   1st Qu.:20.1   1st Qu.:0.00   1st Qu.:0.00  \n",
       " Mode  :character   Median :28.0   Median :0.00   Median :0.00  \n",
       "                    Mean   :29.7   Mean   :0.52   Mean   :0.38  \n",
       "                    3rd Qu.:38.0   3rd Qu.:1.00   3rd Qu.:0.00  \n",
       "                    Max.   :80.0   Max.   :8.00   Max.   :6.00  \n",
       "                    NA's   :177                                 \n",
       "    Ticket               Fare        Cabin             Embarked        \n",
       " Length:891         Min.   :  0   Length:891         Length:891        \n",
       " Class :character   1st Qu.:  8   Class :character   Class :character  \n",
       " Mode  :character   Median : 14   Mode  :character   Mode  :character  \n",
       "                    Mean   : 32                                        \n",
       "                    3rd Qu.: 31                                        \n",
       "                    Max.   :512                                        \n",
       "                                                                       "
      ]
     },
     "metadata": {},
     "output_type": "display_data"
    },
    {
     "data": {
      "text/html": [
       "<table>\n",
       "<caption>A data.frame: 6 × 8</caption>\n",
       "<thead>\n",
       "\t<tr><th></th><th scope=col>Survived</th><th scope=col>Pclass</th><th scope=col>Sex</th><th scope=col>Age</th><th scope=col>SibSp</th><th scope=col>Parch</th><th scope=col>Fare</th><th scope=col>Embarked</th></tr>\n",
       "\t<tr><th></th><th scope=col>&lt;int&gt;</th><th scope=col>&lt;int&gt;</th><th scope=col>&lt;chr&gt;</th><th scope=col>&lt;dbl&gt;</th><th scope=col>&lt;int&gt;</th><th scope=col>&lt;int&gt;</th><th scope=col>&lt;dbl&gt;</th><th scope=col>&lt;chr&gt;</th></tr>\n",
       "</thead>\n",
       "<tbody>\n",
       "\t<tr><th scope=row>1</th><td>0</td><td>3</td><td>male  </td><td>22</td><td>1</td><td>0</td><td> 7.25</td><td>S</td></tr>\n",
       "\t<tr><th scope=row>2</th><td>1</td><td>1</td><td>female</td><td>38</td><td>1</td><td>0</td><td>71.28</td><td>C</td></tr>\n",
       "\t<tr><th scope=row>3</th><td>1</td><td>3</td><td>female</td><td>26</td><td>0</td><td>0</td><td> 7.92</td><td>S</td></tr>\n",
       "\t<tr><th scope=row>4</th><td>1</td><td>1</td><td>female</td><td>35</td><td>1</td><td>0</td><td>53.10</td><td>S</td></tr>\n",
       "\t<tr><th scope=row>5</th><td>0</td><td>3</td><td>male  </td><td>35</td><td>0</td><td>0</td><td> 8.05</td><td>S</td></tr>\n",
       "\t<tr><th scope=row>6</th><td>0</td><td>3</td><td>male  </td><td>NA</td><td>0</td><td>0</td><td> 8.46</td><td>Q</td></tr>\n",
       "</tbody>\n",
       "</table>\n"
      ],
      "text/latex": [
       "A data.frame: 6 × 8\n",
       "\\begin{tabular}{r|llllllll}\n",
       "  & Survived & Pclass & Sex & Age & SibSp & Parch & Fare & Embarked\\\\\n",
       "  & <int> & <int> & <chr> & <dbl> & <int> & <int> & <dbl> & <chr>\\\\\n",
       "\\hline\n",
       "\t1 & 0 & 3 & male   & 22 & 1 & 0 &  7.25 & S\\\\\n",
       "\t2 & 1 & 1 & female & 38 & 1 & 0 & 71.28 & C\\\\\n",
       "\t3 & 1 & 3 & female & 26 & 0 & 0 &  7.92 & S\\\\\n",
       "\t4 & 1 & 1 & female & 35 & 1 & 0 & 53.10 & S\\\\\n",
       "\t5 & 0 & 3 & male   & 35 & 0 & 0 &  8.05 & S\\\\\n",
       "\t6 & 0 & 3 & male   & NA & 0 & 0 &  8.46 & Q\\\\\n",
       "\\end{tabular}\n"
      ],
      "text/markdown": [
       "\n",
       "A data.frame: 6 × 8\n",
       "\n",
       "| <!--/--> | Survived &lt;int&gt; | Pclass &lt;int&gt; | Sex &lt;chr&gt; | Age &lt;dbl&gt; | SibSp &lt;int&gt; | Parch &lt;int&gt; | Fare &lt;dbl&gt; | Embarked &lt;chr&gt; |\n",
       "|---|---|---|---|---|---|---|---|---|\n",
       "| 1 | 0 | 3 | male   | 22 | 1 | 0 |  7.25 | S |\n",
       "| 2 | 1 | 1 | female | 38 | 1 | 0 | 71.28 | C |\n",
       "| 3 | 1 | 3 | female | 26 | 0 | 0 |  7.92 | S |\n",
       "| 4 | 1 | 1 | female | 35 | 1 | 0 | 53.10 | S |\n",
       "| 5 | 0 | 3 | male   | 35 | 0 | 0 |  8.05 | S |\n",
       "| 6 | 0 | 3 | male   | NA | 0 | 0 |  8.46 | Q |\n",
       "\n"
      ],
      "text/plain": [
       "  Survived Pclass Sex    Age SibSp Parch Fare  Embarked\n",
       "1 0        3      male   22  1     0      7.25 S       \n",
       "2 1        1      female 38  1     0     71.28 C       \n",
       "3 1        3      female 26  0     0      7.92 S       \n",
       "4 1        1      female 35  1     0     53.10 S       \n",
       "5 0        3      male   35  0     0      8.05 S       \n",
       "6 0        3      male   NA  0     0      8.46 Q       "
      ]
     },
     "metadata": {},
     "output_type": "display_data"
    },
    {
     "data": {
      "text/plain": [
       "    Survived         Pclass         Sex                 Age      \n",
       " Min.   :0.000   Min.   :1.00   Length:891         Min.   : 0.4  \n",
       " 1st Qu.:0.000   1st Qu.:2.00   Class :character   1st Qu.:20.1  \n",
       " Median :0.000   Median :3.00   Mode  :character   Median :28.0  \n",
       " Mean   :0.384   Mean   :2.31                      Mean   :29.7  \n",
       " 3rd Qu.:1.000   3rd Qu.:3.00                      3rd Qu.:38.0  \n",
       " Max.   :1.000   Max.   :3.00                      Max.   :80.0  \n",
       "                                                   NA's   :177   \n",
       "     SibSp          Parch           Fare       Embarked        \n",
       " Min.   :0.00   Min.   :0.00   Min.   :  0   Length:891        \n",
       " 1st Qu.:0.00   1st Qu.:0.00   1st Qu.:  8   Class :character  \n",
       " Median :0.00   Median :0.00   Median : 14   Mode  :character  \n",
       " Mean   :0.52   Mean   :0.38   Mean   : 32                     \n",
       " 3rd Qu.:1.00   3rd Qu.:0.00   3rd Qu.: 31                     \n",
       " Max.   :8.00   Max.   :6.00   Max.   :512                     \n",
       "                                                               "
      ]
     },
     "metadata": {},
     "output_type": "display_data"
    }
   ],
   "source": [
    "# Look at data:\n",
    "head(titanic_train)\n",
    "# Tabulate:\n",
    "summary(titanic_train)\n",
    "# Survived will be response variable.\n",
    "# I will drop PassengerId, Name, Ticket, and Cabin, as not easily \n",
    "# tractible in this analysis.\n",
    "titanic_train_v1 <- subset(titanic_train, select=-c(PassengerId,Name,Ticket,Cabin))\n",
    "head(titanic_train_v1)\n",
    "summary(titanic_train_v1)\n",
    "# Perfect."
   ]
  },
  {
   "cell_type": "code",
   "execution_count": 57,
   "metadata": {},
   "outputs": [
    {
     "data": {
      "text/plain": [
       "\n",
       "   0    1 <NA> \n",
       " 549  342    0 "
      ]
     },
     "metadata": {},
     "output_type": "display_data"
    },
    {
     "data": {
      "text/plain": [
       "\n",
       "   1    2    3 <NA> \n",
       " 216  184  491    0 "
      ]
     },
     "metadata": {},
     "output_type": "display_data"
    },
    {
     "data": {
      "text/plain": [
       "\n",
       "female   male   <NA> \n",
       "   314    577      0 "
      ]
     },
     "metadata": {},
     "output_type": "display_data"
    },
    {
     "data": {
      "text/plain": [
       "\n",
       "0.42 0.67 0.75 0.83 0.92    1    2    3    4    5    6    7    8    9   10   11 \n",
       "   1    1    2    2    1    7   10    6   10    4    3    3    4    8    2    4 \n",
       "  12   13   14 14.5   15   16   17   18   19   20 20.5   21   22   23 23.5   24 \n",
       "   1    2    6    1    5   17   13   26   25   15    1   24   27   15    1   30 \n",
       "24.5   25   26   27   28 28.5   29   30 30.5   31   32 32.5   33   34 34.5   35 \n",
       "   1   23   18   18   25    2   20   25    2   17   18    2   15   15    1   18 \n",
       "  36 36.5   37   38   39   40 40.5   41   42   43   44   45 45.5   46   47   48 \n",
       "  22    1    6   11   14   13    2    6   13    5    9   12    2    3    9    9 \n",
       "  49   50   51   52   53   54   55 55.5   56   57   58   59   60   61   62   63 \n",
       "   6   10    7    6    1    8    2    1    4    2    5    2    4    3    4    2 \n",
       "  64   65   66   70 70.5   71   74   80 <NA> \n",
       "   2    3    1    2    1    2    1    1  177 "
      ]
     },
     "metadata": {},
     "output_type": "display_data"
    },
    {
     "data": {
      "text/plain": [
       "\n",
       "0.42 0.67 0.75 0.83 0.92    1    2    3    4    5    6    7    8    9   10   11 \n",
       "   1    1    2    2    1    7   10    6   10    4    3    3    4    8    2    4 \n",
       "  12   13   14 14.5   15   16   17   18   19   20 20.5   21   22   23 23.5   24 \n",
       "   1    2    6    1    5   17   13   26   25   15    1   24   27   15    1   30 \n",
       "24.5   25   26   27   28 28.5   29 29.7   30 30.5   31   32 32.5   33   34 34.5 \n",
       "   1   23   18   18   25    2   20  177   25    2   17   18    2   15   15    1 \n",
       "  35   36 36.5   37   38   39   40 40.5   41   42   43   44   45 45.5   46   47 \n",
       "  18   22    1    6   11   14   13    2    6   13    5    9   12    2    3    9 \n",
       "  48   49   50   51   52   53   54   55 55.5   56   57   58   59   60   61   62 \n",
       "   9    6   10    7    6    1    8    2    1    4    2    5    2    4    3    4 \n",
       "  63   64   65   66   70 70.5   71   74   80 <NA> \n",
       "   2    2    3    1    2    1    2    1    1    0 "
      ]
     },
     "metadata": {},
     "output_type": "display_data"
    },
    {
     "data": {
      "text/plain": [
       "\n",
       "   0    1    2    3    4    5    8 <NA> \n",
       " 608  209   28   16   18    5    7    0 "
      ]
     },
     "metadata": {},
     "output_type": "display_data"
    },
    {
     "data": {
      "text/plain": [
       "\n",
       "   0    1    2    3    4    5    6 <NA> \n",
       " 678  118   80    5    4    5    1    0 "
      ]
     },
     "metadata": {},
     "output_type": "display_data"
    },
    {
     "data": {
      "text/plain": [
       "\n",
       "       0   4.0125        5   6.2375   6.4375     6.45   6.4958     6.75 \n",
       "      15        1        1        1        1        1        2        2 \n",
       "  6.8583     6.95    6.975   7.0458     7.05   7.0542    7.125   7.1417 \n",
       "       1        1        2        1        7        2        4        1 \n",
       "   7.225   7.2292     7.25   7.3125   7.4958   7.5208     7.55   7.6292 \n",
       "      12       15       13        1        3        1        4        1 \n",
       "    7.65    7.725   7.7292   7.7333   7.7375   7.7417     7.75    7.775 \n",
       "       4        1        1        4        2        1       34       16 \n",
       "  7.7875   7.7958      7.8   7.8292   7.8542    7.875   7.8792   7.8875 \n",
       "       1        6        1        2       13        1        4        1 \n",
       "  7.8958    7.925   8.0292     8.05   8.1125   8.1375   8.1583      8.3 \n",
       "      38       18        1       43        1        1        1        1 \n",
       "  8.3625   8.4042   8.4333   8.4583   8.5167   8.6542   8.6625   8.6833 \n",
       "       1        1        1        1        1        1       13        1 \n",
       "  8.7125     8.85        9   9.2167    9.225     9.35    9.475   9.4833 \n",
       "       1        1        2        1        2        2        1        1 \n",
       "     9.5   9.5875    9.825   9.8375   9.8417   9.8458  10.1708  10.4625 \n",
       "       9        2        2        1        1        1        1        2 \n",
       "    10.5  10.5167  11.1333  11.2417     11.5       12   12.275  12.2875 \n",
       "      24        1        3        2        4        1        1        1 \n",
       "   12.35   12.475   12.525    12.65   12.875       13  13.4167     13.5 \n",
       "       3        4        1        1        1       42        1        4 \n",
       " 13.7917  13.8583  13.8625       14  14.1083     14.4  14.4542  14.4583 \n",
       "       1        1        1        1        1        2        7        3 \n",
       "    14.5       15  15.0458    15.05     15.1  15.2458     15.5    15.55 \n",
       "       7        1        1        1        1        5        8        1 \n",
       " 15.7417    15.75    15.85     15.9       16     16.1     16.7     17.4 \n",
       "       2        1        4        2        1        9        2        1 \n",
       "    17.8       18    18.75  18.7875  19.2583     19.5  19.9667  20.2125 \n",
       "       2        3        3        2        4        2        2        2 \n",
       "   20.25   20.525   20.575       21   21.075  21.6792   22.025  22.3583 \n",
       "       2        3        2        6        4        1        1        2 \n",
       "  22.525       23    23.25    23.45       24    24.15  25.4667  25.5875 \n",
       "       1        4        2        2        2        8        4        1 \n",
       "  25.925  25.9292       26    26.25  26.2833  26.2875  26.3875    26.55 \n",
       "       1        2       31        6        1        3        1       15 \n",
       "      27  27.7208    27.75     27.9     28.5  28.7125       29   29.125 \n",
       "       2        5        4        6        1        1        2        5 \n",
       "    29.7       30  30.0708     30.5  30.6958       31   31.275  31.3875 \n",
       "       3        6        2        5        2        3        7        4 \n",
       " 32.3208     32.5       33     33.5  34.0208   34.375  34.6542       35 \n",
       "       1        1        3        1        1        4        1        1 \n",
       "    35.5    36.75  37.0042     38.5       39     39.4     39.6  39.6875 \n",
       "       4        2        2        1        4        1        2        6 \n",
       "  40.125  41.5792     42.4     46.9     47.1     49.5  49.5042       50 \n",
       "       1        3        1        6        1        1        2        1 \n",
       " 50.4958  51.4792  51.8625       52  52.5542     53.1       55  55.4417 \n",
       "       1        1        2        7        3        5        2        1 \n",
       "    55.9  56.4958  56.9292       57  57.9792     59.4   61.175  61.3792 \n",
       "       2        7        2        2        2        1        1        1 \n",
       " 61.9792  63.3583       65     66.6     69.3    69.55       71  71.2833 \n",
       "       1        1        2        2        2        7        2        1 \n",
       "    73.5    75.25  76.2917  76.7292  77.2875  77.9583  78.2667    78.85 \n",
       "       5        1        1        3        2        3        2        2 \n",
       "    79.2    79.65       80  81.8583  82.1708  83.1583   83.475     86.5 \n",
       "       4        3        2        1        2        3        2        3 \n",
       " 89.1042       90  91.0792     93.5  106.425    108.9 110.8833  113.275 \n",
       "       2        4        2        2        2        2        4        3 \n",
       "     120   133.65    134.5 135.6333 146.5208   151.55 153.4625 164.8667 \n",
       "       4        2        2        3        2        4        3        2 \n",
       "211.3375    211.5 221.7792  227.525 247.5208  262.375      263 512.3292 \n",
       "       3        1        1        4        2        2        4        3 \n",
       "    <NA> \n",
       "       0 "
      ]
     },
     "metadata": {},
     "output_type": "display_data"
    },
    {
     "data": {
      "text/plain": [
       "\n",
       "        C    Q    S <NA> \n",
       "   2  168   77  644    0 "
      ]
     },
     "metadata": {},
     "output_type": "display_data"
    },
    {
     "data": {
      "text/plain": [
       "\n",
       "   C    Q    S   UK <NA> \n",
       " 168   77  644    2    0 "
      ]
     },
     "metadata": {},
     "output_type": "display_data"
    }
   ],
   "source": [
    "table(titanic_train_v1$Survived, useNA=\"always\")\n",
    "# Format this as a factor:\n",
    "titanic_train_v1$Survived <- as.factor(titanic_train_v1$Survived)\n",
    "# Perfect; all values of 1 or 0.\n",
    "table(titanic_train_v1$Pclass, useNA=\"always\")\n",
    "titanic_train_v1$Pclass <- as.factor(titanic_train_v1$Pclass)\n",
    "# Perfect; all vals of 1, 2, or 3rd class.\n",
    "table(titanic_train_v1$Sex, useNA=\"always\")\n",
    "titanic_train_v1$Sex <- as.factor(titanic_train_v1$Sex)\n",
    "# Perfect; all vals of Male or Female.\n",
    "table(titanic_train_v1$Age, useNA=\"always\")\n",
    "# All vals between 0 and 80.  177 vals of NA; I'll map those to mean val:\n",
    "# Helper value:\n",
    "mean_age <- round(mean(na.rm(titanic_train_v1$Age)), 2)\n",
    "titanic_train_v1$Age <- ifelse(is.na(titanic_train_v1$Age), mean_age, \n",
    "                                titanic_train_v1$Age)\n",
    "table(titanic_train_v1$Age, useNA=\"always\")\n",
    "# Perfect!\n",
    "table(titanic_train_v1$SibSp, useNA=\"always\")\n",
    "titanic_train_v1$SibSp <- as.factor(titanic_train_v1$SibSp)\n",
    "# Perfect; vals of 0-8 with no NA\n",
    "table(titanic_train_v1$Parch, useNA=\"always\")\n",
    "titanic_train_v1$Parch <- as.factor(titanic_train_v1$Parch)\n",
    "# Perfect; vals of 0-6 with no NA\n",
    "table(titanic_train_v1$Fare, useNA=\"always\")\n",
    "# Vals between 0 and 512, no NA.  At this stage, I will not \n",
    "# correct any vals of 0 or possible outlier of 512.\n",
    "table(titanic_train_v1$Embarked, useNA=\"always\")\n",
    "# Vals of C, Q, and S; no NA.  There may be 2 blanks.\n",
    "# titanic_train_v1[titanic_train_v1$Embarked=='',]  # There are 2 blanks.\n",
    "# Change 2 blanks to UK=unknown:\n",
    "titanic_train_v1$Embarked <- ifelse(titanic_train_v1$Embarked=='', 'UK', \n",
    "                                    titanic_train_v1$Embarked )\n",
    "table(titanic_train_v1$Embarked, useNA=\"always\")\n",
    "titanic_train_v1$Embarked <- as.factor(titanic_train_v1$Embarked)\n",
    "# Perfect."
   ]
  },
  {
   "cell_type": "code",
   "execution_count": 58,
   "metadata": {},
   "outputs": [
    {
     "data": {
      "text/html": [
       "<table>\n",
       "<caption>A data.frame: 6 × 8</caption>\n",
       "<thead>\n",
       "\t<tr><th></th><th scope=col>Survived</th><th scope=col>Pclass</th><th scope=col>Sex</th><th scope=col>Age</th><th scope=col>SibSp</th><th scope=col>Parch</th><th scope=col>Fare</th><th scope=col>Embarked</th></tr>\n",
       "\t<tr><th></th><th scope=col>&lt;fct&gt;</th><th scope=col>&lt;fct&gt;</th><th scope=col>&lt;fct&gt;</th><th scope=col>&lt;dbl&gt;</th><th scope=col>&lt;fct&gt;</th><th scope=col>&lt;fct&gt;</th><th scope=col>&lt;dbl&gt;</th><th scope=col>&lt;fct&gt;</th></tr>\n",
       "</thead>\n",
       "<tbody>\n",
       "\t<tr><th scope=row>1</th><td>0</td><td>3</td><td>male  </td><td>22.0</td><td>1</td><td>0</td><td> 7.25</td><td>S</td></tr>\n",
       "\t<tr><th scope=row>2</th><td>1</td><td>1</td><td>female</td><td>38.0</td><td>1</td><td>0</td><td>71.28</td><td>C</td></tr>\n",
       "\t<tr><th scope=row>3</th><td>1</td><td>3</td><td>female</td><td>26.0</td><td>0</td><td>0</td><td> 7.92</td><td>S</td></tr>\n",
       "\t<tr><th scope=row>4</th><td>1</td><td>1</td><td>female</td><td>35.0</td><td>1</td><td>0</td><td>53.10</td><td>S</td></tr>\n",
       "\t<tr><th scope=row>5</th><td>0</td><td>3</td><td>male  </td><td>35.0</td><td>0</td><td>0</td><td> 8.05</td><td>S</td></tr>\n",
       "\t<tr><th scope=row>6</th><td>0</td><td>3</td><td>male  </td><td>29.7</td><td>0</td><td>0</td><td> 8.46</td><td>Q</td></tr>\n",
       "</tbody>\n",
       "</table>\n"
      ],
      "text/latex": [
       "A data.frame: 6 × 8\n",
       "\\begin{tabular}{r|llllllll}\n",
       "  & Survived & Pclass & Sex & Age & SibSp & Parch & Fare & Embarked\\\\\n",
       "  & <fct> & <fct> & <fct> & <dbl> & <fct> & <fct> & <dbl> & <fct>\\\\\n",
       "\\hline\n",
       "\t1 & 0 & 3 & male   & 22.0 & 1 & 0 &  7.25 & S\\\\\n",
       "\t2 & 1 & 1 & female & 38.0 & 1 & 0 & 71.28 & C\\\\\n",
       "\t3 & 1 & 3 & female & 26.0 & 0 & 0 &  7.92 & S\\\\\n",
       "\t4 & 1 & 1 & female & 35.0 & 1 & 0 & 53.10 & S\\\\\n",
       "\t5 & 0 & 3 & male   & 35.0 & 0 & 0 &  8.05 & S\\\\\n",
       "\t6 & 0 & 3 & male   & 29.7 & 0 & 0 &  8.46 & Q\\\\\n",
       "\\end{tabular}\n"
      ],
      "text/markdown": [
       "\n",
       "A data.frame: 6 × 8\n",
       "\n",
       "| <!--/--> | Survived &lt;fct&gt; | Pclass &lt;fct&gt; | Sex &lt;fct&gt; | Age &lt;dbl&gt; | SibSp &lt;fct&gt; | Parch &lt;fct&gt; | Fare &lt;dbl&gt; | Embarked &lt;fct&gt; |\n",
       "|---|---|---|---|---|---|---|---|---|\n",
       "| 1 | 0 | 3 | male   | 22.0 | 1 | 0 |  7.25 | S |\n",
       "| 2 | 1 | 1 | female | 38.0 | 1 | 0 | 71.28 | C |\n",
       "| 3 | 1 | 3 | female | 26.0 | 0 | 0 |  7.92 | S |\n",
       "| 4 | 1 | 1 | female | 35.0 | 1 | 0 | 53.10 | S |\n",
       "| 5 | 0 | 3 | male   | 35.0 | 0 | 0 |  8.05 | S |\n",
       "| 6 | 0 | 3 | male   | 29.7 | 0 | 0 |  8.46 | Q |\n",
       "\n"
      ],
      "text/plain": [
       "  Survived Pclass Sex    Age  SibSp Parch Fare  Embarked\n",
       "1 0        3      male   22.0 1     0      7.25 S       \n",
       "2 1        1      female 38.0 1     0     71.28 C       \n",
       "3 1        3      female 26.0 0     0      7.92 S       \n",
       "4 1        1      female 35.0 1     0     53.10 S       \n",
       "5 0        3      male   35.0 0     0      8.05 S       \n",
       "6 0        3      male   29.7 0     0      8.46 Q       "
      ]
     },
     "metadata": {},
     "output_type": "display_data"
    }
   ],
   "source": [
    "# Ensure that all categorical vars are factors and numerical vars are dbl:\n",
    "head(titanic_train_v1)\n",
    "# Yay!"
   ]
  },
  {
   "cell_type": "code",
   "execution_count": 69,
   "metadata": {},
   "outputs": [
    {
     "data": {
      "text/html": [
       "624"
      ],
      "text/latex": [
       "624"
      ],
      "text/markdown": [
       "624"
      ],
      "text/plain": [
       "[1] 624"
      ]
     },
     "metadata": {},
     "output_type": "display_data"
    },
    {
     "data": {
      "text/html": [
       "267"
      ],
      "text/latex": [
       "267"
      ],
      "text/markdown": [
       "267"
      ],
      "text/plain": [
       "[1] 267"
      ]
     },
     "metadata": {},
     "output_type": "display_data"
    },
    {
     "data": {
      "text/html": [
       "891"
      ],
      "text/latex": [
       "891"
      ],
      "text/markdown": [
       "891"
      ],
      "text/plain": [
       "[1] 891"
      ]
     },
     "metadata": {},
     "output_type": "display_data"
    }
   ],
   "source": [
    "# As titanic_test set does not have values of response vars, here for simplicity\n",
    "# I split the titanic_train set into 2 sets: real_train and real_test:\n",
    "num_row    <- nrow(titanic_train_v1)\n",
    "# print(num_row)\n",
    "train_size <- round(0.7*num_row, 0)\n",
    "# print(train_size)\n",
    "set.seed(1)\n",
    "train_ind  <- sample(1:num_row, train_size, replace=FALSE)\n",
    "real_train <- titanic_train_v1[train_ind,]\n",
    "real_test  <- titanic_train_v1[-train_ind,]\n",
    "nrow(real_train); nrow(real_test); nrow(titanic_train_v1) "
   ]
  },
  {
   "cell_type": "code",
   "execution_count": 71,
   "metadata": {},
   "outputs": [
    {
     "name": "stdout",
     "output_type": "stream",
     "text": [
      "            \n",
      "bag.mod.pred   0   1\n",
      "           0 147  30\n",
      "           1  17  73\n",
      "[1] 0.824\n"
     ]
    }
   ],
   "source": [
    "# First apply bagging:\n",
    "# Helper variable:\n",
    "set.seed(1)\n",
    "mtry_bag        <- (ncol(titanic_train_v1)-1)\n",
    "bag.mod         <- randomForest(Survived~., data=real_train, mtry=mtry_bag, \n",
    "                                importance=TRUE)\n",
    "bag.mod.pred    <- predict(bag.mod, newdata=real_test)\n",
    "bag_pred_tab    <- table(bag.mod.pred, real_test$Survived)\n",
    "print(bag_pred_tab)\n",
    "print( sum(bag_pred_tab[1,1],bag_pred_tab[2,2])/sum(bag_pred_tab) )\n",
    "# I assume overall % predicted correctly is the metric of interest here.\n",
    "# 82% predicted correctly."
   ]
  },
  {
   "cell_type": "code",
   "execution_count": 72,
   "metadata": {},
   "outputs": [
    {
     "name": "stdout",
     "output_type": "stream",
     "text": [
      "           \n",
      "rf.mod.pred   0   1\n",
      "          0 149  30\n",
      "          1  15  73\n",
      "[1] 0.831\n"
     ]
    }
   ],
   "source": [
    "# Second I apply randomForest with mtry_rf selected arbitrarily as 5:\n",
    "# Helper variable:\n",
    "set.seed(1)\n",
    "mtry_rf         <- 5\n",
    "rf.mod          <- randomForest(Survived~., data=real_train, mtry=mtry_rf, \n",
    "                                importance=TRUE)\n",
    "rf.mod.pred     <- predict(rf.mod, newdata=real_test)\n",
    "rf_pred_tab    <- table(rf.mod.pred, real_test$Survived)\n",
    "print(rf_pred_tab)\n",
    "print( sum(rf_pred_tab[1,1],rf_pred_tab[2,2])/sum(rf_pred_tab) )\n",
    "# 83% predicted correctly; slight improvement over bagging!"
   ]
  },
  {
   "cell_type": "code",
   "execution_count": 90,
   "metadata": {},
   "outputs": [
    {
     "data": {
      "text/html": [
       "<table>\n",
       "<caption>A data.frame: 6 × 8</caption>\n",
       "<thead>\n",
       "\t<tr><th></th><th scope=col>Pclass</th><th scope=col>Sex</th><th scope=col>Age</th><th scope=col>SibSp</th><th scope=col>Parch</th><th scope=col>Fare</th><th scope=col>Embarked</th><th scope=col>Survived_bin</th></tr>\n",
       "\t<tr><th></th><th scope=col>&lt;fct&gt;</th><th scope=col>&lt;fct&gt;</th><th scope=col>&lt;dbl&gt;</th><th scope=col>&lt;fct&gt;</th><th scope=col>&lt;fct&gt;</th><th scope=col>&lt;dbl&gt;</th><th scope=col>&lt;fct&gt;</th><th scope=col>&lt;dbl&gt;</th></tr>\n",
       "</thead>\n",
       "<tbody>\n",
       "\t<tr><th scope=row>237</th><td>2</td><td>male</td><td>44.0</td><td>1</td><td>0</td><td>26.0</td><td>S</td><td>0</td></tr>\n",
       "\t<tr><th scope=row>332</th><td>1</td><td>male</td><td>45.5</td><td>0</td><td>0</td><td>28.5</td><td>S</td><td>0</td></tr>\n",
       "\t<tr><th scope=row>510</th><td>3</td><td>male</td><td>26.0</td><td>0</td><td>0</td><td>56.5</td><td>S</td><td>1</td></tr>\n",
       "\t<tr><th scope=row>807</th><td>1</td><td>male</td><td>39.0</td><td>0</td><td>0</td><td> 0.0</td><td>S</td><td>0</td></tr>\n",
       "\t<tr><th scope=row>179</th><td>2</td><td>male</td><td>30.0</td><td>0</td><td>0</td><td>13.0</td><td>S</td><td>0</td></tr>\n",
       "\t<tr><th scope=row>796</th><td>2</td><td>male</td><td>39.0</td><td>0</td><td>0</td><td>13.0</td><td>S</td><td>0</td></tr>\n",
       "</tbody>\n",
       "</table>\n"
      ],
      "text/latex": [
       "A data.frame: 6 × 8\n",
       "\\begin{tabular}{r|llllllll}\n",
       "  & Pclass & Sex & Age & SibSp & Parch & Fare & Embarked & Survived\\_bin\\\\\n",
       "  & <fct> & <fct> & <dbl> & <fct> & <fct> & <dbl> & <fct> & <dbl>\\\\\n",
       "\\hline\n",
       "\t237 & 2 & male & 44.0 & 1 & 0 & 26.0 & S & 0\\\\\n",
       "\t332 & 1 & male & 45.5 & 0 & 0 & 28.5 & S & 0\\\\\n",
       "\t510 & 3 & male & 26.0 & 0 & 0 & 56.5 & S & 1\\\\\n",
       "\t807 & 1 & male & 39.0 & 0 & 0 &  0.0 & S & 0\\\\\n",
       "\t179 & 2 & male & 30.0 & 0 & 0 & 13.0 & S & 0\\\\\n",
       "\t796 & 2 & male & 39.0 & 0 & 0 & 13.0 & S & 0\\\\\n",
       "\\end{tabular}\n"
      ],
      "text/markdown": [
       "\n",
       "A data.frame: 6 × 8\n",
       "\n",
       "| <!--/--> | Pclass &lt;fct&gt; | Sex &lt;fct&gt; | Age &lt;dbl&gt; | SibSp &lt;fct&gt; | Parch &lt;fct&gt; | Fare &lt;dbl&gt; | Embarked &lt;fct&gt; | Survived_bin &lt;dbl&gt; |\n",
       "|---|---|---|---|---|---|---|---|---|\n",
       "| 237 | 2 | male | 44.0 | 1 | 0 | 26.0 | S | 0 |\n",
       "| 332 | 1 | male | 45.5 | 0 | 0 | 28.5 | S | 0 |\n",
       "| 510 | 3 | male | 26.0 | 0 | 0 | 56.5 | S | 1 |\n",
       "| 807 | 1 | male | 39.0 | 0 | 0 |  0.0 | S | 0 |\n",
       "| 179 | 2 | male | 30.0 | 0 | 0 | 13.0 | S | 0 |\n",
       "| 796 | 2 | male | 39.0 | 0 | 0 | 13.0 | S | 0 |\n",
       "\n"
      ],
      "text/plain": [
       "    Pclass Sex  Age  SibSp Parch Fare Embarked Survived_bin\n",
       "237 2      male 44.0 1     0     26.0 S        0           \n",
       "332 1      male 45.5 0     0     28.5 S        0           \n",
       "510 3      male 26.0 0     0     56.5 S        1           \n",
       "807 1      male 39.0 0     0      0.0 S        0           \n",
       "179 2      male 30.0 0     0     13.0 S        0           \n",
       "796 2      male 39.0 0     0     13.0 S        0           "
      ]
     },
     "metadata": {},
     "output_type": "display_data"
    }
   ],
   "source": [
    "# Third, I apply boosting:\n",
    "# First, I need to convert Survived from factor to double, since gbm() requires it:\n",
    "real_train_gbm              <- real_train\n",
    "real_train_gbm$Survived     <- as.double(real_train$Survived)\n",
    "real_train_gbm$Survived_bin <- ifelse(real_train_gbm$Survived==1, 0, 1)\n",
    "real_train_gbm              <- subset(real_train_gbm, select=-c(Survived))\n",
    "head(real_train_gbm)"
   ]
  },
  {
   "cell_type": "code",
   "execution_count": 94,
   "metadata": {},
   "outputs": [
    {
     "name": "stdout",
     "output_type": "stream",
     "text": [
      "              var rel.inf\n",
      "Sex           Sex   32.02\n",
      "Fare         Fare   23.65\n",
      "Age           Age   19.59\n",
      "Pclass     Pclass   12.63\n",
      "SibSp       SibSp    5.73\n",
      "Embarked Embarked    3.90\n"
     ]
    },
    {
     "data": {
      "text/plain": [
       "   Min. 1st Qu.  Median    Mean 3rd Qu.    Max. \n",
       "  0.023   0.113   0.192   0.373   0.645   0.981 "
      ]
     },
     "metadata": {},
     "output_type": "display_data"
    },
    {
     "name": "stdout",
     "output_type": "stream",
     "text": [
      "              \n",
      "boost.pred.bin   0   1\n",
      "             0 153  26\n",
      "             1  11  77\n",
      "[1] 0.861\n"
     ]
    },
    {
     "data": {
      "image/png": "[encoded data removed]",
      "text/plain": [
       "plot without title"
      ]
     },
     "metadata": {
      "image/png": {
       "height": 420,
       "width": 420
      },
      "text/plain": {
       "height": 420,
       "width": 420
      }
     },
     "output_type": "display_data"
    }
   ],
   "source": [
    "# Parms:\n",
    "num_trees       <- 1000\n",
    "shrinkage       <- 0.01\n",
    "# Fit model:\n",
    "set.seed(1)\n",
    "boost.mod       <- gbm(Survived_bin~., data=real_train_gbm, n.trees=num_trees,\n",
    "                       distribution=\"bernoulli\", interaction.depth=4, shrinkage=shrinkage)\n",
    "print(head(summary(boost.mod)))\n",
    "# Predict:\n",
    "set.seed(2)\n",
    "boost.mod.pred  <- predict(boost.mod, newdata=real_test, n.trees=num_trees,\n",
    "                          type=\"response\")\n",
    "summary(boost.mod.pred)\n",
    "# Here I use 0.5 as cutoff to predict 0 or 1:\n",
    "boost.pred.bin  <- ifelse(boost.mod.pred>0.5, 1, 0)\n",
    "bst_pred_tab    <- table(boost.pred.bin, real_test$Survived)\n",
    "print(bst_pred_tab)\n",
    "print( sum(bst_pred_tab[1,1],bst_pred_tab[2,2])/sum(bst_pred_tab) )\n",
    "# 86% predicted correctly; slight improvement over randomForest!"
   ]
  },
  {
   "cell_type": "code",
   "execution_count": 98,
   "metadata": {},
   "outputs": [
    {
     "data": {
      "text/html": [
       "<table>\n",
       "<caption>A data.frame: 6 × 8</caption>\n",
       "<thead>\n",
       "\t<tr><th></th><th scope=col>Pclass</th><th scope=col>Sex</th><th scope=col>Age</th><th scope=col>SibSp</th><th scope=col>Parch</th><th scope=col>Fare</th><th scope=col>Embarked</th><th scope=col>Survived_bin</th></tr>\n",
       "\t<tr><th></th><th scope=col>&lt;fct&gt;</th><th scope=col>&lt;fct&gt;</th><th scope=col>&lt;dbl&gt;</th><th scope=col>&lt;fct&gt;</th><th scope=col>&lt;fct&gt;</th><th scope=col>&lt;dbl&gt;</th><th scope=col>&lt;fct&gt;</th><th scope=col>&lt;dbl&gt;</th></tr>\n",
       "</thead>\n",
       "<tbody>\n",
       "\t<tr><th scope=row>237</th><td>2</td><td>male</td><td>44.0</td><td>1</td><td>0</td><td>26.0</td><td>S</td><td>0</td></tr>\n",
       "\t<tr><th scope=row>332</th><td>1</td><td>male</td><td>45.5</td><td>0</td><td>0</td><td>28.5</td><td>S</td><td>0</td></tr>\n",
       "\t<tr><th scope=row>510</th><td>3</td><td>male</td><td>26.0</td><td>0</td><td>0</td><td>56.5</td><td>S</td><td>1</td></tr>\n",
       "\t<tr><th scope=row>807</th><td>1</td><td>male</td><td>39.0</td><td>0</td><td>0</td><td> 0.0</td><td>S</td><td>0</td></tr>\n",
       "\t<tr><th scope=row>179</th><td>2</td><td>male</td><td>30.0</td><td>0</td><td>0</td><td>13.0</td><td>S</td><td>0</td></tr>\n",
       "\t<tr><th scope=row>796</th><td>2</td><td>male</td><td>39.0</td><td>0</td><td>0</td><td>13.0</td><td>S</td><td>0</td></tr>\n",
       "</tbody>\n",
       "</table>\n"
      ],
      "text/latex": [
       "A data.frame: 6 × 8\n",
       "\\begin{tabular}{r|llllllll}\n",
       "  & Pclass & Sex & Age & SibSp & Parch & Fare & Embarked & Survived\\_bin\\\\\n",
       "  & <fct> & <fct> & <dbl> & <fct> & <fct> & <dbl> & <fct> & <dbl>\\\\\n",
       "\\hline\n",
       "\t237 & 2 & male & 44.0 & 1 & 0 & 26.0 & S & 0\\\\\n",
       "\t332 & 1 & male & 45.5 & 0 & 0 & 28.5 & S & 0\\\\\n",
       "\t510 & 3 & male & 26.0 & 0 & 0 & 56.5 & S & 1\\\\\n",
       "\t807 & 1 & male & 39.0 & 0 & 0 &  0.0 & S & 0\\\\\n",
       "\t179 & 2 & male & 30.0 & 0 & 0 & 13.0 & S & 0\\\\\n",
       "\t796 & 2 & male & 39.0 & 0 & 0 & 13.0 & S & 0\\\\\n",
       "\\end{tabular}\n"
      ],
      "text/markdown": [
       "\n",
       "A data.frame: 6 × 8\n",
       "\n",
       "| <!--/--> | Pclass &lt;fct&gt; | Sex &lt;fct&gt; | Age &lt;dbl&gt; | SibSp &lt;fct&gt; | Parch &lt;fct&gt; | Fare &lt;dbl&gt; | Embarked &lt;fct&gt; | Survived_bin &lt;dbl&gt; |\n",
       "|---|---|---|---|---|---|---|---|---|\n",
       "| 237 | 2 | male | 44.0 | 1 | 0 | 26.0 | S | 0 |\n",
       "| 332 | 1 | male | 45.5 | 0 | 0 | 28.5 | S | 0 |\n",
       "| 510 | 3 | male | 26.0 | 0 | 0 | 56.5 | S | 1 |\n",
       "| 807 | 1 | male | 39.0 | 0 | 0 |  0.0 | S | 0 |\n",
       "| 179 | 2 | male | 30.0 | 0 | 0 | 13.0 | S | 0 |\n",
       "| 796 | 2 | male | 39.0 | 0 | 0 | 13.0 | S | 0 |\n",
       "\n"
      ],
      "text/plain": [
       "    Pclass Sex  Age  SibSp Parch Fare Embarked Survived_bin\n",
       "237 2      male 44.0 1     0     26.0 S        0           \n",
       "332 1      male 45.5 0     0     28.5 S        0           \n",
       "510 3      male 26.0 0     0     56.5 S        1           \n",
       "807 1      male 39.0 0     0      0.0 S        0           \n",
       "179 2      male 30.0 0     0     13.0 S        0           \n",
       "796 2      male 39.0 0     0     13.0 S        0           "
      ]
     },
     "metadata": {},
     "output_type": "display_data"
    },
    {
     "data": {
      "text/plain": [
       "   Min. 1st Qu.  Median    Mean 3rd Qu.    Max. \n",
       " -0.483   0.113   0.259   0.354   0.608   1.113 "
      ]
     },
     "metadata": {},
     "output_type": "display_data"
    },
    {
     "name": "stdout",
     "output_type": "stream",
     "text": [
      "           \n",
      "lin_reg_bin   0   1\n",
      "          0 146  31\n",
      "          1  18  72\n",
      "[1] 0.816\n"
     ]
    }
   ],
   "source": [
    "# Fourth, we try linear regression:\n",
    "head(real_train_gbm)\n",
    "lin_reg      <- lm(Survived_bin~., data=real_train_gbm)\n",
    "lin_reg_pred <- predict(lin_reg, newdata=real_test)\n",
    "summary(lin_reg_pred)\n",
    "# Linear regression, unlike logistic, does not specify response \n",
    "# needs to be between 0 and 1.\n",
    "# Use 0.5 cutoff again:\n",
    "lin_reg_bin  <- ifelse(lin_reg_pred>0.5, 1, 0)\n",
    "lin_pred_tab    <- table(lin_reg_bin, real_test$Survived)\n",
    "print(lin_pred_tab)\n",
    "print( sum(lin_pred_tab[1,1],lin_pred_tab[2,2])/sum(lin_pred_tab) )\n",
    "# 81.6% predicted correctly; slightly worse than all above methods."
   ]
  },
  {
   "cell_type": "code",
   "execution_count": 103,
   "metadata": {},
   "outputs": [
    {
     "data": {
      "text/plain": [
       "   Min. 1st Qu.  Median    Mean 3rd Qu.    Max. \n",
       "  0.000   0.100   0.229   0.360   0.634   0.973 "
      ]
     },
     "metadata": {},
     "output_type": "display_data"
    },
    {
     "name": "stdout",
     "output_type": "stream",
     "text": [
      "           \n",
      "log_reg_bin   0   1\n",
      "          0 145  30\n",
      "          1  19  73\n",
      "[1] 0.816\n"
     ]
    }
   ],
   "source": [
    "# Fifth and last, we try logistic regression:\n",
    "set.seed(1)\n",
    "logis.mod       <- glm(Survived_bin~., data=real_train_gbm, family=binomial)\n",
    "logis.mod.pred  <- predict(logis.mod, newdata=real_test, type=\"response\")\n",
    "summary(logis.mod.pred)\n",
    "# Good.\n",
    "# Use 0.5 cutoff again:\n",
    "log_reg_bin  <- ifelse(logis.mod.pred>0.5, 1, 0)\n",
    "log_pred_tab    <- table(log_reg_bin, real_test$Survived)\n",
    "print(log_pred_tab)\n",
    "print( sum(log_pred_tab[1,1],log_pred_tab[2,2])/sum(log_pred_tab) )\n",
    "# 81.6% predicted correctly; same as above linear regression and \n",
    "# slightly worse than all above methods."
   ]
  },
  {
   "cell_type": "code",
   "execution_count": null,
   "metadata": {},
   "outputs": [],
   "source": [
    "# Bagging, boosting, and randomForest all have slightly better performance\n",
    "# than linear and logistic regression.\n",
    "# Boosting has the best performance here; slightly better than the\n",
    "# other 2 ML approaches."
   ]
  }
 ],
 "metadata": {
  "kernelspec": {
   "display_name": "R",
   "language": "R",
   "name": "ir"
  },
  "language_info": {
   "codemirror_mode": "r",
   "file_extension": ".r",
   "mimetype": "text/x-r-source",
   "name": "R",
   "pygments_lexer": "r",
   "version": "3.5.1"
  }
 },
 "nbformat": 4,
 "nbformat_minor": 2
}
