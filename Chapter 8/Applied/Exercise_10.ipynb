{
 "cells": [
  {
   "cell_type": "code",
   "execution_count": 23,
   "metadata": {},
   "outputs": [],
   "source": [
    "# Goal: predict lnSalary in Hitters data set via boosting\n",
    "# Packages/Options:\n",
    "rm(list=ls())\n",
    "library(ISLR)\n",
    "library(gbm)\n",
    "library(glmnet)\n",
    "library(randomForest)"
   ]
  },
  {
   "cell_type": "code",
   "execution_count": 24,
   "metadata": {},
   "outputs": [
    {
     "data": {
      "text/plain": [
       "Salary\n",
       "    67.5       68       70       75       80     86.5     87.5       90 \n",
       "       1        1        5        5        1        1        1        6 \n",
       "    91.5       95     97.5      100      105      110      115      120 \n",
       "       1        1        1        6        2        4        1        2 \n",
       "     125      130      135      137      140      145      150      155 \n",
       "       1        1        2        1        3        2        2        3 \n",
       "     160      165      172      175      180      185      190      191 \n",
       "       2        2        1        4        1        1        2        1 \n",
       "     195      200    202.5      210      215      225      230      235 \n",
       "       1        4        1        2        3        2        1        1 \n",
       "     240      245    247.5      250      260      265      275    277.5 \n",
       "       2        1        1        6        1        1        3        2 \n",
       " 286.667    297.5      300      305      320      325  326.667      340 \n",
       "       1        1        5        1        1        2        1        1 \n",
       " 341.667      350    362.5      365      375      385      400      415 \n",
       "       2        3        1        2        1        2        4        1 \n",
       " 416.667      420      425      430    431.5      450      475      480 \n",
       "       1        1        3        1        1        5        3        1 \n",
       "   487.5      490      500    512.5  517.143      525      530      535 \n",
       "       1        1        4        1        1        2        1        2 \n",
       "     550      560      575      580    587.5      595      600    612.5 \n",
       "       3        1        1        1        1        1        4        1 \n",
       "     625      630      640      650      657    662.5      670      675 \n",
       "       2        1        1        1        1        1        1        1 \n",
       "     700  708.333      725  733.333    737.5      740      750      765 \n",
       "       5        1        1        1        2        3        8        1 \n",
       " 773.333      775  776.667      780    787.5      800      815      825 \n",
       "       1        2        1        1        1        2        1        1 \n",
       "     850      875      900      920      925  933.333      940      950 \n",
       "       4        4        3        1        1        1        1        2 \n",
       "     960     1000 1008.333 1041.667 1043.333     1050     1100     1150 \n",
       "       1        3        1        1        1        1        1        1 \n",
       "    1175 1183.333     1200     1220   1237.5     1260     1300     1310 \n",
       "       1        1        1        1        1        1        3        1 \n",
       "    1350     1450     1500     1600     1670     1800  1861.46     1900 \n",
       "       1        1        1        1        1        1        1        1 \n",
       "1925.571     1940     1975 2127.333   2412.5     2460     <NA> \n",
       "       1        1        1        1        1        1       59 "
      ]
     },
     "metadata": {},
     "output_type": "display_data"
    },
    {
     "data": {
      "text/html": [
       "322"
      ],
      "text/latex": [
       "322"
      ],
      "text/markdown": [
       "322"
      ],
      "text/plain": [
       "[1] 322"
      ]
     },
     "metadata": {},
     "output_type": "display_data"
    },
    {
     "data": {
      "text/html": [
       "263"
      ],
      "text/latex": [
       "263"
      ],
      "text/markdown": [
       "263"
      ],
      "text/plain": [
       "[1] 263"
      ]
     },
     "metadata": {},
     "output_type": "display_data"
    }
   ],
   "source": [
    "# Part a: Remove obs for salary info is unknown, and log xform salaries:\n",
    "attach(Hitters)\n",
    "table(Salary, useNA=\"always\")\n",
    "# 59 values of NA to remove: \n",
    "Hitters_clean <- Hitters[!is.na(Salary),]\n",
    "nrow(Hitters); nrow(Hitters_clean)\n",
    "detach(Hitters); attach(Hitters_clean)\n",
    "# Log Xform:\n",
    "Hitters_clean$lnSalary <- log(Salary)\n",
    "fix(Hitters_clean)\n",
    "# Drop Salary:\n",
    "Hitters_clean <- subset(Hitters_clean, select = -c(Salary))\n",
    "fix(Hitters_clean)\n",
    "# Perfect."
   ]
  },
  {
   "cell_type": "code",
   "execution_count": 25,
   "metadata": {},
   "outputs": [
    {
     "data": {
      "text/html": [
       "200"
      ],
      "text/latex": [
       "200"
      ],
      "text/markdown": [
       "200"
      ],
      "text/plain": [
       "[1] 200"
      ]
     },
     "metadata": {},
     "output_type": "display_data"
    },
    {
     "data": {
      "text/html": [
       "63"
      ],
      "text/latex": [
       "63"
      ],
      "text/markdown": [
       "63"
      ],
      "text/plain": [
       "[1] 63"
      ]
     },
     "metadata": {},
     "output_type": "display_data"
    },
    {
     "name": "stdout",
     "output_type": "stream",
     "text": [
      "[1] 263\n"
     ]
    }
   ],
   "source": [
    "# Part b: Create a train set of first 200 obs, and test set of rest:\n",
    "# Helper variable for number of records:\n",
    "num_row <- nrow(Hitters_clean) \n",
    "train   <- Hitters_clean[1:200 ,]\n",
    "test    <- Hitters_clean[201:num_row,]\n",
    "nrow(train); nrow(test); print(num_row)"
   ]
  },
  {
   "cell_type": "code",
   "execution_count": 26,
   "metadata": {},
   "outputs": [],
   "source": [
    "# Helper function for MSE:\n",
    "mse_fun <- function(actual, predicted)\n",
    "{\n",
    "    mse_val <- mean((actual-predicted)^2)\n",
    "    return(mse_val)\n",
    "}"
   ]
  },
  {
   "cell_type": "code",
   "execution_count": 27,
   "metadata": {},
   "outputs": [
    {
     "data": {
      "image/png": "[encoded data removed]",
      "text/plain": [
       "plot without title"
      ]
     },
     "metadata": {
      "image/png": {
       "height": 420,
       "width": 420
      },
      "text/plain": {
       "height": 420,
       "width": 420
      }
     },
     "output_type": "display_data"
    },
    {
     "name": "stdout",
     "output_type": "stream",
     "text": [
      "          [,1]\n",
      "[1,] 0.3061374\n",
      "[2,] 0.2840542\n",
      "[3,] 0.2730888\n",
      "[4,] 0.2824752\n",
      "[5,] 0.2706161\n",
      "[6,] 0.3013025\n"
     ]
    },
    {
     "data": {
      "image/png": "[encoded data removed]",
      "text/plain": [
       "plot without title"
      ]
     },
     "metadata": {
      "image/png": {
       "height": 420,
       "width": 420
      },
      "text/plain": {
       "height": 420,
       "width": 420
      }
     },
     "output_type": "display_data"
    }
   ],
   "source": [
    "# Part c: Perform boosting on train set with 1,000 trees for a range of values\n",
    "# for the shrinkage parameter. Produce plot with x=shrinkage vals and y=train set MSE.\n",
    "# Part d: Produce analogous plot except with y=test set MSE.\n",
    "lambda              <- c(1,5,10,50,100,200)*(10^-3)\n",
    "num_trees           <- 1000\n",
    "int_depth           <- 4\n",
    "train_mse_storage   <- matrix(0, nrow=length(lambda), ncol=1)\n",
    "test_mse_storage    <- matrix(0, nrow=length(lambda), ncol=1)\n",
    "# Loop thru vals of lambda:\n",
    "set.seed(1)\n",
    "for (i in 1:length(lambda))\n",
    "{\n",
    "    boost.hitters        <- gbm(lnSalary~., data=train, distribution=\"gaussian\", \n",
    "                                n.trees=num_trees, interaction.depth=int_depth, \n",
    "                                shrinkage=lambda[i])\n",
    "    boost.pred.train     <- predict(boost.hitters, newdata=train, n.trees=num_trees)\n",
    "    boost.pred.test      <- predict(boost.hitters, newdata=test, n.trees=num_trees)\n",
    "    train_mse_storage[i] <- mse_fun(actual=train$lnSalary, predicted=boost.pred.train)\n",
    "    test_mse_storage[i]  <- mse_fun(actual=test$lnSalary, predicted=boost.pred.test)\n",
    "}\n",
    "\n",
    "# Produce plot with x=shrinkage values and y=TRAIN set MSE:\n",
    "plot(lambda, train_mse_storage, xlab=\"Shrinkage_Parm\", ylab=\"Train_MSE\",\n",
    "         ylim=c(0,0.4))\n",
    "lines(lambda, train_mse_storage)\n",
    "# Clearly for the neighborhood of values of the shrinkage parms I chose,\n",
    "# (conditional on num_trees=1000), larger values of the shrinkage parm\n",
    "# yield smaller train set MSE.\n",
    "\n",
    "# Produce plot with x=shrinkage values and y=TEST set MSE:\n",
    "plot(lambda, test_mse_storage, xlab=\"Shrinkage_Parm\", ylab=\"Test_MSE\",\n",
    "        ylim=c(0,0.4))\n",
    "lines(lambda, test_mse_storage)\n",
    "print(test_mse_storage)\n",
    "# Clearly given my chosen values of lambda here, 100*10^(-3)=0.1 appears optimal\n",
    "# for minimizing test set MSE."
   ]
  },
  {
   "cell_type": "code",
   "execution_count": 28,
   "metadata": {},
   "outputs": [
    {
     "name": "stdout",
     "output_type": "stream",
     "text": [
      "[1] 0.49\n"
     ]
    }
   ],
   "source": [
    "# Part e: Compare the test set MSE from boosting to that from two of the approaches\n",
    "# seen in Chapters 3 and 6.\n",
    "# First, we apply Multiple Linear Regression from Chapter 3:\n",
    "mult_reg      <- lm(lnSalary~., data=train)\n",
    "mult_reg_pred <- predict(mult_reg, newdata=test)\n",
    "mult_reg_mse  <- mse_fun(actual=test$lnSalary, predicted=mult_reg_pred)\n",
    "print(round(mult_reg_mse,2))\n",
    "# Clearly this provides a much worse result than boosting."
   ]
  },
  {
   "cell_type": "code",
   "execution_count": 34,
   "metadata": {},
   "outputs": [
    {
     "name": "stdout",
     "output_type": "stream",
     "text": [
      "[1] 0.003804293\n",
      "[1] 0.470371\n"
     ]
    },
    {
     "data": {
      "image/png": "[encoded data removed]",
      "text/plain": [
       "plot without title"
      ]
     },
     "metadata": {
      "image/png": {
       "height": 420,
       "width": 420
      },
      "text/plain": {
       "height": 420,
       "width": 420
      }
     },
     "output_type": "display_data"
    }
   ],
   "source": [
    "# Second, we apply the LASSO:\n",
    "set.seed(1)\n",
    "x_var          <- model.matrix(lnSalary~., train)[,-1]\n",
    "y_var          <- train$lnSalary\n",
    "grid           <- 10^(seq(10, -2, length=100))\n",
    "cv.out         <- cv.glmnet(x_var, y_var, alpha=1)\n",
    "plot(cv.out)\n",
    "best_lam       <- cv.out$lambda.min\n",
    "print(best_lam)\n",
    "# Predict:\n",
    "lasso_reg      <- glmnet(x_var, y_var, alpha=1, lambda=grid)\n",
    "lasso.pred     <- predict(lasso_reg, s=best_lam, newx=model.matrix(lnSalary~., test)[,-1])\n",
    "lasso.mse       <- mse_fun(actual=test$lnSalary, predicted=lasso.pred)\n",
    "print(lasso.mse)\n",
    "# LASSO Test MSE is slightly smaller than OLS, but still much larger than boosting."
   ]
  },
  {
   "cell_type": "code",
   "execution_count": 35,
   "metadata": {},
   "outputs": [
    {
     "data": {
      "text/html": [
       "<table>\n",
       "<caption>A data.frame: 19 × 2</caption>\n",
       "<thead>\n",
       "\t<tr><th></th><th scope=col>var</th><th scope=col>rel.inf</th></tr>\n",
       "\t<tr><th></th><th scope=col>&lt;fct&gt;</th><th scope=col>&lt;dbl&gt;</th></tr>\n",
       "</thead>\n",
       "<tbody>\n",
       "\t<tr><th scope=row>CRuns</th><td>CRuns    </td><td>17.4682321</td></tr>\n",
       "\t<tr><th scope=row>CAtBat</th><td>CAtBat   </td><td>15.3053721</td></tr>\n",
       "\t<tr><th scope=row>CHits</th><td>CHits    </td><td>10.4985753</td></tr>\n",
       "\t<tr><th scope=row>CHmRun</th><td>CHmRun   </td><td> 9.2389669</td></tr>\n",
       "\t<tr><th scope=row>PutOuts</th><td>PutOuts  </td><td> 6.3383004</td></tr>\n",
       "\t<tr><th scope=row>Walks</th><td>Walks    </td><td> 5.6272337</td></tr>\n",
       "\t<tr><th scope=row>AtBat</th><td>AtBat    </td><td> 5.2478115</td></tr>\n",
       "\t<tr><th scope=row>CRBI</th><td>CRBI     </td><td> 5.0086733</td></tr>\n",
       "\t<tr><th scope=row>Years</th><td>Years    </td><td> 4.7635344</td></tr>\n",
       "\t<tr><th scope=row>Assists</th><td>Assists  </td><td> 4.4046949</td></tr>\n",
       "\t<tr><th scope=row>RBI</th><td>RBI      </td><td> 3.6267744</td></tr>\n",
       "\t<tr><th scope=row>HmRun</th><td>HmRun    </td><td> 2.7092986</td></tr>\n",
       "\t<tr><th scope=row>CWalks</th><td>CWalks   </td><td> 2.3488487</td></tr>\n",
       "\t<tr><th scope=row>Hits</th><td>Hits     </td><td> 2.1854998</td></tr>\n",
       "\t<tr><th scope=row>Runs</th><td>Runs     </td><td> 2.0739531</td></tr>\n",
       "\t<tr><th scope=row>Errors</th><td>Errors   </td><td> 2.0488860</td></tr>\n",
       "\t<tr><th scope=row>Division</th><td>Division </td><td> 0.4841622</td></tr>\n",
       "\t<tr><th scope=row>NewLeague</th><td>NewLeague</td><td> 0.4296750</td></tr>\n",
       "\t<tr><th scope=row>League</th><td>League   </td><td> 0.1915075</td></tr>\n",
       "</tbody>\n",
       "</table>\n"
      ],
      "text/latex": [
       "A data.frame: 19 × 2\n",
       "\\begin{tabular}{r|ll}\n",
       "  & var & rel.inf\\\\\n",
       "  & <fct> & <dbl>\\\\\n",
       "\\hline\n",
       "\tCRuns & CRuns     & 17.4682321\\\\\n",
       "\tCAtBat & CAtBat    & 15.3053721\\\\\n",
       "\tCHits & CHits     & 10.4985753\\\\\n",
       "\tCHmRun & CHmRun    &  9.2389669\\\\\n",
       "\tPutOuts & PutOuts   &  6.3383004\\\\\n",
       "\tWalks & Walks     &  5.6272337\\\\\n",
       "\tAtBat & AtBat     &  5.2478115\\\\\n",
       "\tCRBI & CRBI      &  5.0086733\\\\\n",
       "\tYears & Years     &  4.7635344\\\\\n",
       "\tAssists & Assists   &  4.4046949\\\\\n",
       "\tRBI & RBI       &  3.6267744\\\\\n",
       "\tHmRun & HmRun     &  2.7092986\\\\\n",
       "\tCWalks & CWalks    &  2.3488487\\\\\n",
       "\tHits & Hits      &  2.1854998\\\\\n",
       "\tRuns & Runs      &  2.0739531\\\\\n",
       "\tErrors & Errors    &  2.0488860\\\\\n",
       "\tDivision & Division  &  0.4841622\\\\\n",
       "\tNewLeague & NewLeague &  0.4296750\\\\\n",
       "\tLeague & League    &  0.1915075\\\\\n",
       "\\end{tabular}\n"
      ],
      "text/markdown": [
       "\n",
       "A data.frame: 19 × 2\n",
       "\n",
       "| <!--/--> | var &lt;fct&gt; | rel.inf &lt;dbl&gt; |\n",
       "|---|---|---|\n",
       "| CRuns | CRuns     | 17.4682321 |\n",
       "| CAtBat | CAtBat    | 15.3053721 |\n",
       "| CHits | CHits     | 10.4985753 |\n",
       "| CHmRun | CHmRun    |  9.2389669 |\n",
       "| PutOuts | PutOuts   |  6.3383004 |\n",
       "| Walks | Walks     |  5.6272337 |\n",
       "| AtBat | AtBat     |  5.2478115 |\n",
       "| CRBI | CRBI      |  5.0086733 |\n",
       "| Years | Years     |  4.7635344 |\n",
       "| Assists | Assists   |  4.4046949 |\n",
       "| RBI | RBI       |  3.6267744 |\n",
       "| HmRun | HmRun     |  2.7092986 |\n",
       "| CWalks | CWalks    |  2.3488487 |\n",
       "| Hits | Hits      |  2.1854998 |\n",
       "| Runs | Runs      |  2.0739531 |\n",
       "| Errors | Errors    |  2.0488860 |\n",
       "| Division | Division  |  0.4841622 |\n",
       "| NewLeague | NewLeague |  0.4296750 |\n",
       "| League | League    |  0.1915075 |\n",
       "\n"
      ],
      "text/plain": [
       "          var       rel.inf   \n",
       "CRuns     CRuns     17.4682321\n",
       "CAtBat    CAtBat    15.3053721\n",
       "CHits     CHits     10.4985753\n",
       "CHmRun    CHmRun     9.2389669\n",
       "PutOuts   PutOuts    6.3383004\n",
       "Walks     Walks      5.6272337\n",
       "AtBat     AtBat      5.2478115\n",
       "CRBI      CRBI       5.0086733\n",
       "Years     Years      4.7635344\n",
       "Assists   Assists    4.4046949\n",
       "RBI       RBI        3.6267744\n",
       "HmRun     HmRun      2.7092986\n",
       "CWalks    CWalks     2.3488487\n",
       "Hits      Hits       2.1854998\n",
       "Runs      Runs       2.0739531\n",
       "Errors    Errors     2.0488860\n",
       "Division  Division   0.4841622\n",
       "NewLeague NewLeague  0.4296750\n",
       "League    League     0.1915075"
      ]
     },
     "metadata": {},
     "output_type": "display_data"
    },
    {
     "data": {
      "image/png": "[encoded data removed]",
      "text/plain": [
       "plot without title"
      ]
     },
     "metadata": {
      "image/png": {
       "height": 420,
       "width": 420
      },
      "text/plain": {
       "height": 420,
       "width": 420
      }
     },
     "output_type": "display_data"
    }
   ],
   "source": [
    "# Part f: \n",
    "summary(boost.hitters)\n",
    "# Clearly CRuns and CAtBat appear to be the most important\n",
    "# variables in the boosted model."
   ]
  },
  {
   "cell_type": "code",
   "execution_count": 38,
   "metadata": {},
   "outputs": [
    {
     "name": "stdout",
     "output_type": "stream",
     "text": [
      "[1] 0.2276953\n"
     ]
    }
   ],
   "source": [
    "# Part g: Now we apply bagging via randomForest:\n",
    "bag.Hitters <- randomForest(lnSalary~., data=train, mtry=(ncol(train)-1), \n",
    "                    importance=TRUE)\n",
    "bag.pred    <- predict(bag.Hitters, newdata=test)\n",
    "bag.mse     <- mse_fun(actual=test$lnSalary, predicted=bag.pred)\n",
    "print(bag.mse)\n",
    "# Interestingly enough, this test MSE is about 20% smaller than boosting\n",
    "# with the specified parms!"
   ]
  }
 ],
 "metadata": {
  "kernelspec": {
   "display_name": "R",
   "language": "R",
   "name": "ir"
  },
  "language_info": {
   "codemirror_mode": "r",
   "file_extension": ".r",
   "mimetype": "text/x-r-source",
   "name": "R",
   "pygments_lexer": "r",
   "version": "3.5.1"
  }
 },
 "nbformat": 4,
 "nbformat_minor": 2
}
