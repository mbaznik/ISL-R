{
 "cells": [
  {
   "cell_type": "code",
   "execution_count": 45,
   "metadata": {},
   "outputs": [],
   "source": [
    "# Goal: predict Purchase using other variables (in OJ data set)\n",
    "# using classification trees\n",
    "rm(list=ls())\n",
    "library(ISLR)          \n",
    "library(MASS)          \n",
    "library(tree)          # classification trees"
   ]
  },
  {
   "cell_type": "code",
   "execution_count": 46,
   "metadata": {},
   "outputs": [
    {
     "name": "stdout",
     "output_type": "stream",
     "text": [
      "[1] 800\n",
      "[1] 270\n",
      "[1] 1070\n"
     ]
    }
   ],
   "source": [
    "# Part a: Train/test:\n",
    "fix(OJ)\n",
    "num_row     <- nrow(OJ)      \n",
    "train_size  <- 800     # as specified in problem \n",
    "set.seed(1)\n",
    "index       <- sample(1:num_row, train_size) \n",
    "# Split into train and test:\n",
    "train       <- OJ[index,]\n",
    "test        <- OJ[-index,]\n",
    "print(nrow(train)); print(nrow(test)); print(num_row)"
   ]
  },
  {
   "cell_type": "code",
   "execution_count": 47,
   "metadata": {},
   "outputs": [
    {
     "data": {
      "text/plain": [
       "\n",
       "Classification tree:\n",
       "tree(formula = Purchase ~ ., data = train)\n",
       "Variables actually used in tree construction:\n",
       "[1] \"LoyalCH\"       \"PriceDiff\"     \"SpecialCH\"     \"ListPriceDiff\"\n",
       "[5] \"PctDiscMM\"    \n",
       "Number of terminal nodes:  9 \n",
       "Residual mean deviance:  0.7432 = 587.8 / 791 \n",
       "Misclassification error rate: 0.1588 = 127 / 800 "
      ]
     },
     "metadata": {},
     "output_type": "display_data"
    },
    {
     "data": {
      "image/png": "[encoded data removed]",
      "text/plain": [
       "plot without title"
      ]
     },
     "metadata": {
      "image/png": {
       "height": 420,
       "width": 420
      }
     },
     "output_type": "display_data"
    }
   ],
   "source": [
    "# Part b: Fit a (very large) tree.\n",
    "set.seed(2)\n",
    "oj_tree <- tree(Purchase~., data=train)\n",
    "summary(oj_tree)\n",
    "plot(oj_tree)\n",
    "text(oj_tree, pretty=0)\n",
    "# The results obtained include a tree with 9 terminal nodes.\n",
    "# The training error rate is 0.1588\n",
    "# LoyalCH is by far the most important variable early on."
   ]
  },
  {
   "cell_type": "code",
   "execution_count": 48,
   "metadata": {},
   "outputs": [
    {
     "data": {
      "text/plain": [
       "node), split, n, deviance, yval, (yprob)\n",
       "      * denotes terminal node\n",
       "\n",
       " 1) root 800 1073.00 CH ( 0.60625 0.39375 )  \n",
       "   2) LoyalCH < 0.5036 365  441.60 MM ( 0.29315 0.70685 )  \n",
       "     4) LoyalCH < 0.280875 177  140.50 MM ( 0.13559 0.86441 )  \n",
       "       8) LoyalCH < 0.0356415 59   10.14 MM ( 0.01695 0.98305 ) *\n",
       "       9) LoyalCH > 0.0356415 118  116.40 MM ( 0.19492 0.80508 ) *\n",
       "     5) LoyalCH > 0.280875 188  258.00 MM ( 0.44149 0.55851 )  \n",
       "      10) PriceDiff < 0.05 79   84.79 MM ( 0.22785 0.77215 )  \n",
       "        20) SpecialCH < 0.5 64   51.98 MM ( 0.14062 0.85938 ) *\n",
       "        21) SpecialCH > 0.5 15   20.19 CH ( 0.60000 0.40000 ) *\n",
       "      11) PriceDiff > 0.05 109  147.00 CH ( 0.59633 0.40367 ) *\n",
       "   3) LoyalCH > 0.5036 435  337.90 CH ( 0.86897 0.13103 )  \n",
       "     6) LoyalCH < 0.764572 174  201.00 CH ( 0.73563 0.26437 )  \n",
       "      12) ListPriceDiff < 0.235 72   99.81 MM ( 0.50000 0.50000 )  \n",
       "        24) PctDiscMM < 0.196197 55   73.14 CH ( 0.61818 0.38182 ) *\n",
       "        25) PctDiscMM > 0.196197 17   12.32 MM ( 0.11765 0.88235 ) *\n",
       "      13) ListPriceDiff > 0.235 102   65.43 CH ( 0.90196 0.09804 ) *\n",
       "     7) LoyalCH > 0.764572 261   91.20 CH ( 0.95785 0.04215 ) *"
      ]
     },
     "metadata": {},
     "output_type": "display_data"
    }
   ],
   "source": [
    "# Part c: Type in name of tree object to get detailed output.\n",
    "# Pick one of the terminal nodes, and interpret the info displayed:\n",
    "oj_tree\n",
    "# I choose Node #7.\n",
    "#  The asterisk at the end means that it is a terminal node\n",
    "#  It is the group of observations whose value of LoyalCH is both > 0.508643\n",
    "#     AND > 0.764572; i.e. the obs whose val of LoyalCH is > 0.764572\n",
    "#  278 of the 800 total obs are in this node.\n",
    "#  'CH'=Citrus Hill is the predicted value of the categorical response\n",
    "#     variable 'Purchase' for this node.\n",
    "#  86.14 is the deviance associated with the obs in this node.\n",
    "#  Lastly, (0.96403, 0.03597) are the output for y_prob, which are the estimated\n",
    "#     probs for the ('CH','MM') classes, for an obs given it is assigned to this node."
   ]
  },
  {
   "cell_type": "code",
   "execution_count": 49,
   "metadata": {},
   "outputs": [
    {
     "data": {
      "image/png": "[encoded data removed]",
      "text/plain": [
       "plot without title"
      ]
     },
     "metadata": {
      "image/png": {
       "height": 420,
       "width": 420
      }
     },
     "output_type": "display_data"
    }
   ],
   "source": [
    "# Part d: Create a plot of tree, and interpret results.\n",
    "plot(oj_tree)\n",
    "text(oj_tree, pretty=0)\n",
    "# LoyalCH is by far the most important variable early on, as it is the \n",
    "# variable the algorithm splits by for the splits in the first 2 layers.\n",
    "# One interpretation: OJ customers with smaller vals of LoyalCH \n",
    "# (brand loyalty to Citrus Hill) choose Minute Maid more often, and \n",
    "# larger brand loyalty to CH choose CH more often = intuitive.\n",
    "# List or Price differences between MM and CH are less important, however\n",
    "# they appear to add some ancillary predictive value.  As expected the greater\n",
    "# the price of MM over CH is, the more likely a customer is to choose CH,\n",
    "# and vice versa.  Thus to summarize, loyalty=very important, relative price\n",
    "# difference is important, but less so."
   ]
  },
  {
   "cell_type": "code",
   "execution_count": 50,
   "metadata": {},
   "outputs": [
    {
     "name": "stdout",
     "output_type": "stream",
     "text": [
      "         \n",
      "test_pred  CH  MM\n",
      "       CH 160  38\n",
      "       MM   8  64\n",
      "[1] 0.1704\n"
     ]
    }
   ],
   "source": [
    "# Part e: Predict response on test, produce confusion matrix, and estimate\n",
    "# error rate of predictions:\n",
    "test_pred <- predict(oj_tree, newdata=test, type=\"class\")\n",
    "# Confusion Matrix:\n",
    "cm <- table(test_pred, test$Purchase)\n",
    "print(cm)\n",
    "# Est error rate:\n",
    "err_rt <- (cm[1,2]+cm[2,1])/sum(cm)\n",
    "print(round(err_rt,4))\n",
    "# Error rate is about 17%."
   ]
  },
  {
   "cell_type": "code",
   "execution_count": 51,
   "metadata": {},
   "outputs": [
    {
     "data": {
      "text/plain": [
       "$size\n",
       "[1] 9 8 7 4 2 1\n",
       "\n",
       "$dev\n",
       "[1] 152 152 149 153 173 315\n",
       "\n",
       "$k\n",
       "[1]       -Inf   0.000000   3.000000   4.333333  10.500000 151.000000\n",
       "\n",
       "$method\n",
       "[1] \"misclass\"\n",
       "\n",
       "attr(,\"class\")\n",
       "[1] \"prune\"         \"tree.sequence\""
      ]
     },
     "metadata": {},
     "output_type": "display_data"
    }
   ],
   "source": [
    "# Part f: Apply cvtree() function to tree to estimate optimal tree size:\n",
    "set.seed(3)\n",
    "cv_tree <- cv.tree(oj_tree, FUN=prune.misclass)\n",
    "cv_tree\n",
    "# The optimal tree size is the one with 7 terminal nodes, as it has lowest\n",
    "# cv classification error."
   ]
  },
  {
   "cell_type": "code",
   "execution_count": 52,
   "metadata": {},
   "outputs": [
    {
     "data": {
      "image/png": "[encoded data removed]",
      "text/plain": [
       "plot without title"
      ]
     },
     "metadata": {
      "image/png": {
       "height": 420,
       "width": 420
      }
     },
     "output_type": "display_data"
    }
   ],
   "source": [
    "# Part g: Produce a plot with x=tree size, y=cv classification error:\n",
    "plot(cv_tree$size, cv_tree$dev, xlab=\"Tree Size\", \n",
    "     ylab=\"XVal Classification Error\")\n",
    "# Part h: Again, the tree size of 7 corresponds to lowest CV\n",
    "# classification error rate."
   ]
  },
  {
   "cell_type": "code",
   "execution_count": 53,
   "metadata": {},
   "outputs": [],
   "source": [
    "# Part i: Produce a tree with the indicated optimal amount of nodes:\n",
    "pruned_tree <- prune.misclass(oj_tree, best=7)"
   ]
  },
  {
   "cell_type": "code",
   "execution_count": 55,
   "metadata": {},
   "outputs": [
    {
     "data": {
      "text/plain": [
       "\n",
       "Classification tree:\n",
       "snip.tree(tree = oj_tree, nodes = c(4L, 10L))\n",
       "Variables actually used in tree construction:\n",
       "[1] \"LoyalCH\"       \"PriceDiff\"     \"ListPriceDiff\" \"PctDiscMM\"    \n",
       "Number of terminal nodes:  7 \n",
       "Residual mean deviance:  0.7748 = 614.4 / 793 \n",
       "Misclassification error rate: 0.1625 = 130 / 800 "
      ]
     },
     "metadata": {},
     "output_type": "display_data"
    },
    {
     "data": {
      "text/plain": [
       "\n",
       "Classification tree:\n",
       "tree(formula = Purchase ~ ., data = train)\n",
       "Variables actually used in tree construction:\n",
       "[1] \"LoyalCH\"       \"PriceDiff\"     \"SpecialCH\"     \"ListPriceDiff\"\n",
       "[5] \"PctDiscMM\"    \n",
       "Number of terminal nodes:  9 \n",
       "Residual mean deviance:  0.7432 = 587.8 / 791 \n",
       "Misclassification error rate: 0.1588 = 127 / 800 "
      ]
     },
     "metadata": {},
     "output_type": "display_data"
    }
   ],
   "source": [
    "# Part j: Compare training error rates between pruned and unpruned tree:\n",
    "summary(pruned_tree); summary(oj_tree)\n",
    "# As expected, the unpruned tree (15.9%) has a lower training error rate\n",
    "# than the pruned tree (16.3%).  This is not surprising, as the larger\n",
    "# unpruned tree should have less bias, but we can not yet assess\n",
    "# the net effect on error without understanding variance change."
   ]
  },
  {
   "cell_type": "code",
   "execution_count": 56,
   "metadata": {},
   "outputs": [
    {
     "name": "stdout",
     "output_type": "stream",
     "text": [
      "                \n",
      "pruned_tree_pred  CH  MM\n",
      "              CH 160  36\n",
      "              MM   8  66\n",
      "[1] 0.163\n"
     ]
    }
   ],
   "source": [
    "# Part k: Compare the test error rates between the pruned and unpruned trees:\n",
    "pruned_tree_pred <- predict(pruned_tree, newdata=test, type=\"class\")\n",
    "# Confusion Matrix:\n",
    "cm_pr <- table(pruned_tree_pred, test$Purchase)\n",
    "print(cm_pr)\n",
    "# Est error rate:\n",
    "err_rt_pr <- (cm_pr[1,2]+cm_pr[2,1])/sum(cm_pr)\n",
    "print(round(err_rt_pr,4))\n",
    "# Test error rate of pruned tree is 16.3% < 17% = test error rate of the \n",
    "# unpruned tree (computed above). Clearly pruning appears mildly worthwhile!"
   ]
  }
 ],
 "metadata": {
  "kernelspec": {
   "display_name": "R",
   "language": "R",
   "name": "ir"
  },
  "language_info": {
   "codemirror_mode": "r",
   "file_extension": ".r",
   "mimetype": "text/x-r-source",
   "name": "R",
   "pygments_lexer": "r",
   "version": "3.6.1"
  }
 },
 "nbformat": 4,
 "nbformat_minor": 2
}
