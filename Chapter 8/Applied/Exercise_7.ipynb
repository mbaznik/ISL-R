{
 "cells": [
  {
   "cell_type": "code",
   "execution_count": 72,
   "metadata": {},
   "outputs": [],
   "source": [
    "# Goal: Apply randomForest to Boston data using broader range of parms.\n",
    "# Packages/options:\n",
    "rm(list=ls())\n",
    "library(randomForest)\n",
    "library(MASS)\n",
    "library(ggplot2)\n",
    "# Data\n",
    "fix(Boston)"
   ]
  },
  {
   "cell_type": "code",
   "execution_count": 73,
   "metadata": {},
   "outputs": [
    {
     "name": "stdout",
     "output_type": "stream",
     "text": [
      "[1] 354\n",
      "[1] 152\n",
      "[1] 0.6996047\n"
     ]
    }
   ],
   "source": [
    "# Create train/test subsets:\n",
    "set.seed(1)\n",
    "ind <- sample(1:nrow(Boston), round(0.3*nrow(Boston)))\n",
    "train <- Boston[-ind,]\n",
    "test  <- Boston[ind,]\n",
    "print(nrow(train)); print(nrow(test)); print(nrow(train)/nrow(Boston))"
   ]
  },
  {
   "cell_type": "code",
   "execution_count": 77,
   "metadata": {},
   "outputs": [],
   "source": [
    "# Define vectors of values for mtry and ntree:\n",
    "mtry_vec   <- c(3,6,9,12)\n",
    "ntree_vec  <- c(5,10,50,100,250,500,1000)\n",
    "\n",
    "# Create matrix to store mse vals:\n",
    "mse_storage <- matrix(0, nrow=length(mtry_vec), ncol=length(ntree_vec))\n",
    "\n",
    "# Loop through values of mtry and ntree:\n",
    "for (i in 1:length(mtry_vec))\n",
    "{\n",
    "    for (j in 1:length(ntree_vec))\n",
    "    {\n",
    "        # Train randomForest object:\n",
    "        mod_obj <- randomForest(medv~., data=train, mtry=mtry_vec[i], ntree=ntree_vec[j], importance=TRUE)\n",
    "        # Generate predictions:\n",
    "        preds   <- predict(mod_obj, newdata=test)\n",
    "        # Store MSE:\n",
    "        mse_storage[i,j] <- mean( (preds-test$medv)^2 )\n",
    "    }\n",
    "}"
   ]
  },
  {
   "cell_type": "code",
   "execution_count": 78,
   "metadata": {},
   "outputs": [
    {
     "name": "stdout",
     "output_type": "stream",
     "text": [
      "         [,1]     [,2]     [,3]     [,4]     [,5]     [,6]     [,7]\n",
      "[1,] 23.44422 18.24296 12.87417 14.44368 13.54573 13.60135 13.60469\n",
      "[2,] 16.53101 10.86928 12.95662 12.02231 11.81363 11.90411 11.47222\n",
      "[3,] 15.24198 12.92445 10.74936 10.55579 10.99343 11.22542 10.89472\n",
      "[4,] 14.39934 10.92635 10.09927 11.08495 10.95759 10.77622 10.43020\n",
      "  Num_Trees   3 Vars   6 Vars   9 Vars  12 Vars\n",
      "1         5 23.44422 16.53101 15.24198 14.39934\n",
      "2        10 18.24296 10.86928 12.92445 10.92635\n",
      "3        50 12.87417 12.95662 10.74936 10.09927\n",
      "4       100 14.44368 12.02231 10.55579 11.08495\n",
      "5       250 13.54573 11.81363 10.99343 10.95759\n",
      "6       500 13.60135 11.90411 11.22542 10.77622\n",
      "7      1000 13.60469 11.47222 10.89472 10.43020\n"
     ]
    }
   ],
   "source": [
    "# Stage data for ggplot:\n",
    "print(mse_storage)\n",
    "munged <- cbind(as.matrix(ntree_vec), t(mse_storage))\n",
    "labels <- paste(mtry_vec, \"Vars\")\n",
    "colnames(munged) <- c('Num_Trees', labels)\n",
    "munged_df <- as.data.frame(munged)\n",
    "print(munged_df)"
   ]
  },
  {
   "cell_type": "code",
   "execution_count": 79,
   "metadata": {},
   "outputs": [
    {
     "data": {
      "image/png": "[encoded data removed]",
      "text/plain": [
       "plot without title"
      ]
     },
     "metadata": {
      "image/png": {
       "height": 420,
       "width": 420
      },
      "text/plain": {
       "height": 420,
       "width": 420
      }
     },
     "output_type": "display_data"
    }
   ],
   "source": [
    "# Plot a la Figure 8.10:\n",
    "ggplot(munged_df, aes(x=Num_Trees)) + \n",
    "  geom_line(aes(y = munged_df$'3 Vars'), color = \"darkred\") + \n",
    "  geom_line(aes(y = munged_df$'6 Vars'), color=\"steelblue\") +\n",
    "  geom_line(aes(y = munged_df$'9 Vars'), color=\"darkgreen\") +\n",
    "  geom_line(aes(y = munged_df$'12 Vars'), color=\"darkorange\") +\n",
    "  labs(title=\"Plot of Test MSE vs. Number of Trees\",\n",
    "        x =\"Num_Trees\", y = \"Test_MSE\")"
   ]
  },
  {
   "cell_type": "code",
   "execution_count": null,
   "metadata": {},
   "outputs": [],
   "source": [
    "# The results show some patterns:\n",
    "# 1. More variables considered at each split tends to produce lower test MSE\n",
    "# 2. Up to about 100-250 trees, we see large improvement by using more trees.  Once\n",
    "#   we get past 100-250 trees, adding more trees results in little/no \n",
    "#   further MSE reduction.\n",
    "# Results takeaways: both considering more vars as well as adding more trees\n",
    "# show significant performance improvements initially followed by\n",
    "# diminishing marginal returns."
   ]
  }
 ],
 "metadata": {
  "kernelspec": {
   "display_name": "R",
   "language": "R",
   "name": "ir"
  },
  "language_info": {
   "codemirror_mode": "r",
   "file_extension": ".r",
   "mimetype": "text/x-r-source",
   "name": "R",
   "pygments_lexer": "r",
   "version": "3.5.1"
  }
 },
 "nbformat": 4,
 "nbformat_minor": 2
}
